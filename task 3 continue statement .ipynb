{
 "cells": [
  {
   "cell_type": "markdown",
   "id": "62ae3be5-408d-4efc-8a40-121b06d47761",
   "metadata": {},
   "source": [
    "# Continue statement :\n",
    "The continue keyword is used to end thecurrent iteration in a for loop (or a while loop), and continues to the nextiteration.\r\n"
   ]
  },
  {
   "cell_type": "code",
   "execution_count": 2,
   "id": "0f6e2562-caae-4fd2-a4d3-c0ef490aab41",
   "metadata": {},
   "outputs": [
    {
     "name": "stdout",
     "output_type": "stream",
     "text": [
      "mango\n",
      "strawberry\n"
     ]
    }
   ],
   "source": [
    "# 1\n",
    "# continue statement in for loop\n",
    "fruits = [\"mango\", \"grapes\", \"strawberry\"]\n",
    "for x in fruits:\n",
    "  if x == \"grapes\":\n",
    "    continue\n",
    "  print(x)\n",
    "\n"
   ]
  },
  {
   "cell_type": "code",
   "execution_count": 3,
   "id": "5e5017c3-469c-4626-91a4-c87950985fee",
   "metadata": {},
   "outputs": [
    {
     "name": "stdout",
     "output_type": "stream",
     "text": [
      "1\n",
      "2\n",
      "4\n",
      "5\n",
      "6\n"
     ]
    }
   ],
   "source": [
    "# 2\n",
    "# continue statement in while loop\n",
    "i = 0\n",
    "while i < 6:\n",
    "  i += 1\n",
    "  if i == 3:\n",
    "    continue\n",
    "  print(i)"
   ]
  },
  {
   "cell_type": "code",
   "execution_count": 5,
   "id": "ba508a63-65c1-48cf-a8bd-6c2230354a43",
   "metadata": {},
   "outputs": [
    {
     "name": "stdout",
     "output_type": "stream",
     "text": [
      "1\n",
      "5\n",
      "4\n",
      "7\n",
      "2\n"
     ]
    }
   ],
   "source": [
    "# 3\n",
    "myList = [9, 1, 5, 9, 4, 9, 7, 2, 9]\n",
    "\n",
    "for x in myList :\n",
    "    if x == 9:\n",
    "        continue\n",
    "    print(x)\n",
    " "
   ]
  }
 ],
 "metadata": {
  "kernelspec": {
   "display_name": "Python 3 (ipykernel)",
   "language": "python",
   "name": "python3"
  },
  "language_info": {
   "codemirror_mode": {
    "name": "ipython",
    "version": 3
   },
   "file_extension": ".py",
   "mimetype": "text/x-python",
   "name": "python",
   "nbconvert_exporter": "python",
   "pygments_lexer": "ipython3",
   "version": "3.11.7"
  }
 },
 "nbformat": 4,
 "nbformat_minor": 5
}
