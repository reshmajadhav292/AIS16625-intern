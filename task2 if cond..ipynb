{
 "cells": [
  {
   "cell_type": "markdown",
   "id": "5bd415b8-5b2c-4d7e-88ad-4d6c13efa280",
   "metadata": {},
   "source": [
    "# if statement \n",
    "Equals: a == b\r\n",
    "Not Equals: a != b\r\n",
    "Less than: a < b\r\n",
    "Less than or equal to: a <= b\r\n",
    "Greater than: a > b\r\n",
    "Greater than or equal to: a >= b\r\n",
    "These conditions can be used in several ways, most commonly in \"if statements\" and \n",
    "It is used to test the given con.ops.\r\n",
    "\r\n",
    "\n",
    "An \"if statement\" is written by using the if yword.\r\n",
    "\r\n"
   ]
  },
  {
   "cell_type": "code",
   "execution_count": 3,
   "id": "3e2ccedb-1ccf-4371-8935-88720c1ea45c",
   "metadata": {},
   "outputs": [
    {
     "name": "stdout",
     "output_type": "stream",
     "text": [
      "b is greater than a\n"
     ]
    }
   ],
   "source": [
    "# 1 \n",
    "a = 33\n",
    "b = 200\n",
    "\n",
    "if b > a:\n",
    "  print(\"b is greater than a\")\n"
   ]
  },
  {
   "cell_type": "code",
   "execution_count": 5,
   "id": "8e68f4f8-d897-4b4b-8b99-ee26ccd26f49",
   "metadata": {},
   "outputs": [
    {
     "name": "stdout",
     "output_type": "stream",
     "text": [
      "Both conditions are True\n"
     ]
    }
   ],
   "source": [
    "# 2\n",
    "a = 200\n",
    "b = 33\n",
    "c = 500\n",
    "if a > b and c > a: # and is used to combine conditional statements:\n",
    "  print(\"Both conditions are True\")\n"
   ]
  },
  {
   "cell_type": "code",
   "execution_count": 6,
   "id": "2cc3f1e6-f514-4cd9-b566-ae32023ee043",
   "metadata": {},
   "outputs": [
    {
     "name": "stdout",
     "output_type": "stream",
     "text": [
      "At least one of the conditions is True\n"
     ]
    }
   ],
   "source": [
    "# 3\n",
    "a = 200\n",
    "b = 33\n",
    "c = 500\n",
    "if a > b or a > c:\n",
    "  print(\"At least one of the conditions is True\")\n"
   ]
  },
  {
   "cell_type": "code",
   "execution_count": 7,
   "id": "d07aceaf-0b21-446d-aae3-7048ef37ebe0",
   "metadata": {},
   "outputs": [
    {
     "name": "stdout",
     "output_type": "stream",
     "text": [
      "a is NOT greater than b\n"
     ]
    }
   ],
   "source": [
    "#4\n",
    "a = 3\n",
    "b = 300\n",
    "if not a > b:\n",
    "  print(\"a is NOT greater than b\")\n"
   ]
  },
  {
   "cell_type": "code",
   "execution_count": 9,
   "id": "4417fce0-8704-42f0-8cfa-58fe0f40ad9b",
   "metadata": {},
   "outputs": [
    {
     "name": "stdout",
     "output_type": "stream",
     "text": [
      "a is evan number \n"
     ]
    }
   ],
   "source": [
    "# 5 \n",
    "a= 24\n",
    "if a%2==0 :\n",
    "  print(\"a is evan number \")"
   ]
  },
  {
   "cell_type": "code",
   "execution_count": 11,
   "id": "8a4d39d4-34ea-4518-b61e-c93c80b6d16a",
   "metadata": {},
   "outputs": [
    {
     "name": "stdout",
     "output_type": "stream",
     "text": [
      "a is odd number\n"
     ]
    }
   ],
   "source": [
    "# 6 \n",
    "a= 23\n",
    "if a!=0:\n",
    "    print(\"a is odd number\")"
   ]
  },
  {
   "cell_type": "code",
   "execution_count": 12,
   "id": "c2bc07f7-124c-42e5-9cf7-a25bc6bf5ae5",
   "metadata": {},
   "outputs": [
    {
     "name": "stdout",
     "output_type": "stream",
     "text": [
      "a is not odd number\n"
     ]
    }
   ],
   "source": [
    "# 7\n",
    "a= 12\n",
    "if a!=0:\n",
    "    print(\"a is not odd number\")"
   ]
  },
  {
   "cell_type": "code",
   "execution_count": 16,
   "id": "d36e3e48-92a4-43ce-8be8-75e517182a7d",
   "metadata": {},
   "outputs": [
    {
     "name": "stdout",
     "output_type": "stream",
     "text": [
      " student is fail\n"
     ]
    }
   ],
   "source": [
    "# 8\n",
    "a =34 \n",
    "if a<35:\n",
    "  print(\" student is fail\")"
   ]
  },
  {
   "cell_type": "code",
   "execution_count": 18,
   "id": "51d0ef49-7d19-4650-941c-8175524f68d6",
   "metadata": {},
   "outputs": [
    {
     "name": "stdout",
     "output_type": "stream",
     "text": [
      "at least one statement is true\n"
     ]
    }
   ],
   "source": [
    "# 9\n",
    "a=1\n",
    "r=43\n",
    "ra=21\n",
    "if a>r or a<ra:\n",
    "    print(\"at least one statement is true\")"
   ]
  },
  {
   "cell_type": "code",
   "execution_count": 19,
   "id": "121de943-14aa-4a0b-b390-9e338dbe39d0",
   "metadata": {},
   "outputs": [
    {
     "name": "stdout",
     "output_type": "stream",
     "text": [
      " student is pass with A grade\n"
     ]
    }
   ],
   "source": [
    "# 10\n",
    "a =89 \n",
    "if a>35:\n",
    "  print(\" student is pass with A grade\")"
   ]
  },
  {
   "cell_type": "code",
   "execution_count": null,
   "id": "5318df14-5ce1-4742-b186-b9f09abee3b4",
   "metadata": {},
   "outputs": [],
   "source": []
  }
 ],
 "metadata": {
  "kernelspec": {
   "display_name": "Python 3 (ipykernel)",
   "language": "python",
   "name": "python3"
  },
  "language_info": {
   "codemirror_mode": {
    "name": "ipython",
    "version": 3
   },
   "file_extension": ".py",
   "mimetype": "text/x-python",
   "name": "python",
   "nbconvert_exporter": "python",
   "pygments_lexer": "ipython3",
   "version": "3.11.7"
  }
 },
 "nbformat": 4,
 "nbformat_minor": 5
}
