{
 "cells": [
  {
   "cell_type": "markdown",
   "id": "48cfdb3b-5d5b-4d99-b4bd-b1bbf4b8a79f",
   "metadata": {},
   "source": [
    "# while loop \n",
    "Python While Loop is used to execute a block of statements repeatedly until a given condition is satisfied. \n",
    "When the condition becomes false, the line immediately after the loop in the program is executed."
   ]
  },
  {
   "cell_type": "code",
   "execution_count": 5,
   "id": "1961beb3-d83f-4da2-b7f3-7c012e9863c9",
   "metadata": {},
   "outputs": [
    {
     "name": "stdout",
     "output_type": "stream",
     "text": [
      "1\n",
      "2\n",
      "3\n"
     ]
    }
   ],
   "source": [
    "# 1\n",
    "i = 1\n",
    "while i < 6:\n",
    "  print(i)\n",
    "  if i == 3:\n",
    "    break\n",
    "  i += 1\n"
   ]
  },
  {
   "cell_type": "code",
   "execution_count": 4,
   "id": "2f897c0b-c871-4ffb-9cf2-cfb780bbd2e8",
   "metadata": {},
   "outputs": [
    {
     "name": "stdout",
     "output_type": "stream",
     "text": [
      "1\n",
      "2\n",
      "3\n",
      "4\n",
      "5\n"
     ]
    }
   ],
   "source": [
    "#2\n",
    "i = 1\n",
    "while i < 6:\n",
    "  print(i)\n",
    "  i += 1\n"
   ]
  },
  {
   "cell_type": "code",
   "execution_count": 3,
   "id": "090269d3-253f-433b-b549-172d666996eb",
   "metadata": {},
   "outputs": [
    {
     "name": "stdout",
     "output_type": "stream",
     "text": [
      "Factorial of 5: 120\n"
     ]
    }
   ],
   "source": [
    "# 3\n",
    "n = 5\n",
    "factorial = 1\n",
    "while n > 0:\n",
    "    factorial *= n\n",
    "    n -= 1\n",
    "print(\"Factorial of 5:\", factorial)\n"
   ]
  },
  {
   "cell_type": "code",
   "execution_count": 6,
   "id": "bc8982f5-954b-4336-9c0a-dfc35e5bad9f",
   "metadata": {},
   "outputs": [
    {
     "name": "stdout",
     "output_type": "stream",
     "text": [
      "*\n",
      "**\n",
      "***\n",
      "****\n",
      "*****\n"
     ]
    }
   ],
   "source": [
    "# 4 \n",
    "row = 1\n",
    "while row <= 5:\n",
    "    print(\"*\" * row)\n",
    "    row += 1\n"
   ]
  },
  {
   "cell_type": "code",
   "execution_count": 8,
   "id": "61fb86b8-e8c5-4adb-8761-877099b3fd19",
   "metadata": {},
   "outputs": [
    {
     "name": "stdout",
     "output_type": "stream",
     "text": [
      "Value of i : 6\n"
     ]
    }
   ],
   "source": [
    "# 5\n",
    "a = 'reshma'\n",
    "i = 0\n",
    "while i < len(a): \n",
    "    i += 1\n",
    "    pass\n",
    "    \n",
    "print('Value of i :', i) "
   ]
  },
  {
   "cell_type": "code",
   "execution_count": 9,
   "id": "4cb46a98-2f7d-4834-b7a1-bd37b7b65824",
   "metadata": {},
   "outputs": [
    {
     "name": "stdout",
     "output_type": "stream",
     "text": [
      "Hello reshu\n",
      "Hello reshu\n",
      "Hello reshu\n"
     ]
    }
   ],
   "source": [
    "# 6\n",
    "count = 0\n",
    "while count < 3:\n",
    "    count += 1\n",
    "    print(\"Hello reshu\")\n"
   ]
  },
  {
   "cell_type": "code",
   "execution_count": 10,
   "id": "9ced3162-81a0-46f9-9d9a-555f9f7b1001",
   "metadata": {},
   "outputs": [
    {
     "name": "stdout",
     "output_type": "stream",
     "text": [
      "10\n",
      "20\n",
      "30\n",
      "40\n",
      "50\n",
      "60\n"
     ]
    }
   ],
   "source": [
    "# 7 \n",
    "myTuple = (10,20,30,40,50,60)\n",
    "i = 0\n",
    "\n",
    "while i < len(myTuple):\n",
    "    print(myTuple[i])\n",
    "    i += 1\n"
   ]
  },
  {
   "cell_type": "code",
   "execution_count": 11,
   "id": "6dab4e28-3969-49b3-8173-59bb5773e4d1",
   "metadata": {},
   "outputs": [
    {
     "name": "stdout",
     "output_type": "stream",
     "text": [
      "1\n",
      "2\n",
      "4\n",
      "5\n",
      "6\n"
     ]
    }
   ],
   "source": [
    "# 8\n",
    "i = 0\n",
    "while i < 6:\n",
    "  i += 1\n",
    "  if i == 3:\n",
    "    continue\n",
    "  print(i)\n"
   ]
  },
  {
   "cell_type": "code",
   "execution_count": 12,
   "id": "351c72c9-fbcc-492e-831b-5e9d310b0cf5",
   "metadata": {},
   "outputs": [
    {
     "name": "stdout",
     "output_type": "stream",
     "text": [
      "1\n",
      "2\n",
      "3\n",
      "4\n",
      "5\n",
      "i is no longer less than 6\n"
     ]
    }
   ],
   "source": [
    "# 9\n",
    "i = 1\n",
    "while i < 6:\n",
    "  print(i)\n",
    "  i += 1\n",
    "else:\n",
    "  print(\"i is no longer less than 6\")\n"
   ]
  },
  {
   "cell_type": "code",
   "execution_count": 13,
   "id": "5ec549ad-d7f3-47d7-8578-829fd55c0882",
   "metadata": {},
   "outputs": [
    {
     "name": "stdout",
     "output_type": "stream",
     "text": [
      "1\n",
      "2\n"
     ]
    }
   ],
   "source": [
    "# 10\n",
    "i = 1\n",
    "while i < 4:\n",
    "  print(i)\n",
    "  if i == 2:\n",
    "    break\n",
    "  i += 1\n"
   ]
  }
 ],
 "metadata": {
  "kernelspec": {
   "display_name": "Python 3 (ipykernel)",
   "language": "python",
   "name": "python3"
  },
  "language_info": {
   "codemirror_mode": {
    "name": "ipython",
    "version": 3
   },
   "file_extension": ".py",
   "mimetype": "text/x-python",
   "name": "python",
   "nbconvert_exporter": "python",
   "pygments_lexer": "ipython3",
   "version": "3.11.7"
  }
 },
 "nbformat": 4,
 "nbformat_minor": 5
}
