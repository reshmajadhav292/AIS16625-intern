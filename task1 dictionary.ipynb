{
 "cells": [
  {
   "cell_type": "markdown",
   "id": "5c6a8004-379b-497e-a4d2-ea642862984e",
   "metadata": {},
   "source": [
    "# python Dictionaries :\n",
    "dictionary is a collection which is ordered*, changeable and do not allow duplicates.\n",
    "Dictionaries are written with curly brackets {}\n",
    "Dictionaries are used to store data values in key:value pairs.\r\n",
    "\r\n"
   ]
  },
  {
   "cell_type": "code",
   "execution_count": 2,
   "id": "fba4d78c-1944-4d3b-b72c-76ceebf714ce",
   "metadata": {},
   "outputs": [
    {
     "name": "stdout",
     "output_type": "stream",
     "text": [
      "{'brand': 'Ford', 'model': 'Mustang', 'year': 1964}\n"
     ]
    }
   ],
   "source": [
    "# dict. creation \n",
    "dict = {\n",
    "  \"brand\": \"Ford\",\n",
    "  \"model\": \"Mustang\",\n",
    "  \"year\": 1964\n",
    "}\n",
    "print(dict)"
   ]
  },
  {
   "cell_type": "code",
   "execution_count": 3,
   "id": "2308f500-f988-4380-9fc0-c2fb7e4bc7fa",
   "metadata": {},
   "outputs": [
    {
     "name": "stdout",
     "output_type": "stream",
     "text": [
      "Ford\n"
     ]
    }
   ],
   "source": [
    "print(dict[\"brand\"])\n"
   ]
  },
  {
   "cell_type": "code",
   "execution_count": 4,
   "id": "93e87e3d-31a8-4c42-8f1b-316c3fd77e70",
   "metadata": {},
   "outputs": [
    {
     "name": "stdout",
     "output_type": "stream",
     "text": [
      "1964\n"
     ]
    }
   ],
   "source": [
    "# accessing items\n",
    "# You can access the items of a dictionary by referring to its key name, inside square brackets\n",
    "dict = {\n",
    "  \"brand\": \"Ford\",\n",
    "  \"model\": \"Mustang\",\n",
    "  \"year\": 1964\n",
    "}\n",
    "print(dict[\"year\"])\n",
    "\n"
   ]
  },
  {
   "cell_type": "code",
   "execution_count": 6,
   "id": "c17428cc-8dc4-4f85-b5e5-50de49097d94",
   "metadata": {},
   "outputs": [
    {
     "data": {
      "text/plain": [
       "dict_values(['Ford', 'Mustang', 1964])"
      ]
     },
     "execution_count": 6,
     "metadata": {},
     "output_type": "execute_result"
    }
   ],
   "source": [
    "x = dict.values()\n",
    "x"
   ]
  },
  {
   "cell_type": "code",
   "execution_count": 9,
   "id": "daefee62-7af6-4116-a91d-f6496b836bd9",
   "metadata": {},
   "outputs": [
    {
     "name": "stdout",
     "output_type": "stream",
     "text": [
      "{'brand': 'Ford', 'model': 'Mustang', 'year': 2002}\n"
     ]
    }
   ],
   "source": [
    "# change items\n",
    "dict = {\n",
    "  \"brand\": \"Ford\",\n",
    "  \"model\": \"Mustang\",\n",
    "  \"year\": 1964\n",
    "}\n",
    "dict[\"year\"] = 2002\n",
    "print(dict)\n"
   ]
  },
  {
   "cell_type": "code",
   "execution_count": null,
   "id": "1579145f-40f7-4582-b09e-eb8b48f8ade9",
   "metadata": {},
   "outputs": [],
   "source": [
    "# add dictionary item\n",
    "d1= { \n",
    "    \"Name\"= \"satya\"\n",
    "    \"year\" = 2012\n",
    "     \"col\"= \"blue\"\n",
    "}\n",
    "d1[\"flower\"]=\"rose\"\n",
    "print(d1)"
   ]
  },
  {
   "cell_type": "code",
   "execution_count": 16,
   "id": "00395af9-aea2-43dc-b016-6ccca88a94c9",
   "metadata": {},
   "outputs": [
    {
     "name": "stdout",
     "output_type": "stream",
     "text": [
      "{'child1': {'name': 'Anu', 'year': 2004}, 'child2': {'name': 'Teju', 'year': 2007}, 'child3': {'name': 'Veda', 'year': 2011}}\n"
     ]
    }
   ],
   "source": [
    "# nested dict.\n",
    "# Nested Dictionaries\n",
    "#A dictionary can contain dictionaries, this is called nested dictionaries.\n",
    "\n",
    "myfamily = {\n",
    "  \"child1\" : {\n",
    "    \"name\" : \"Anu\",\n",
    "    \"year\" : 2004\n",
    "  },\n",
    "  \"child2\" : {\n",
    "    \"name\" : \"Teju\",\n",
    "    \"year\" : 2007\n",
    "  },\n",
    "  \"child3\" : {\n",
    "    \"name\" : \"Veda\",\n",
    "    \"year\" : 2011\n",
    "  }\n",
    "}\n",
    "print(myfamily)\n"
   ]
  },
  {
   "cell_type": "markdown",
   "id": "00a74b32-c458-4f07-851a-b078c131cb78",
   "metadata": {},
   "source": [
    "# Dictionary Methods"
   ]
  },
  {
   "cell_type": "code",
   "execution_count": 18,
   "id": "6119b92d-8059-4e7b-a56a-0d4d9b52480f",
   "metadata": {},
   "outputs": [
    {
     "name": "stdout",
     "output_type": "stream",
     "text": [
      "{}\n"
     ]
    }
   ],
   "source": [
    "# 1 clear()\tRemoves all the elements from the dictionary\n",
    "d = { \n",
    "    \"name\":\"reva\",\n",
    "    \"year\":2001\n",
    "}\n",
    "d.clear()\n",
    "print(d)"
   ]
  },
  {
   "cell_type": "code",
   "execution_count": 19,
   "id": "46c5c917-1ff3-4087-b242-d8bd2ca64949",
   "metadata": {},
   "outputs": [
    {
     "name": "stdout",
     "output_type": "stream",
     "text": [
      "{'name': 'reva', 'year': 2001}\n"
     ]
    }
   ],
   "source": [
    "# 2 copy()\tReturns a copy of the dictionary\n",
    "d = { \n",
    "    \"name\":\"reva\",\n",
    "    \"year\":2001\n",
    "}\n",
    "d.copy()\n",
    "print(d)"
   ]
  },
  {
   "cell_type": "code",
   "execution_count": 20,
   "id": "50d6a5b4-fa81-42bc-ac65-74cd82314439",
   "metadata": {},
   "outputs": [
    {
     "name": "stdout",
     "output_type": "stream",
     "text": [
      "{'key1': 0, 'key2': 0, 'key3': 0}\n"
     ]
    }
   ],
   "source": [
    "#  3 fromkeys()\tReturns a dictionary with the specified keys and value\n",
    "x = ('key1', 'key2', 'key3')\n",
    "y = 0\n",
    "\n",
    "thisdict = dict.fromkeys(x, y)\n",
    "\n",
    "print(thisdict)\n"
   ]
  },
  {
   "cell_type": "code",
   "execution_count": 22,
   "id": "a0d50234-e30f-4ade-952d-44a81ce3541f",
   "metadata": {},
   "outputs": [
    {
     "name": "stdout",
     "output_type": "stream",
     "text": [
      "2001\n"
     ]
    }
   ],
   "source": [
    "# 4 get()\tReturns the value of the specified key\n",
    "d = { \n",
    "    \"name\":\"reva\",\n",
    "    \"year\":2001\n",
    "}\n",
    "s=d.get(\"year\")\n",
    "print(s)"
   ]
  },
  {
   "cell_type": "code",
   "execution_count": 24,
   "id": "ec9df1e0-eb25-4305-b505-5baccfe465c5",
   "metadata": {},
   "outputs": [
    {
     "name": "stdout",
     "output_type": "stream",
     "text": [
      "{'name': 'reva', 'year': 2001}\n"
     ]
    }
   ],
   "source": [
    "# 5 items()\tReturns a list containing a tuple for each key value pair\n",
    "d = { \n",
    "    \"name\":\"reva\",\n",
    "    \"year\":2001\n",
    "}\n",
    "d.items()\n",
    "print(d)"
   ]
  },
  {
   "cell_type": "code",
   "execution_count": 26,
   "id": "cb8cba3d-7aec-4f7e-87ce-3c07ded0cef1",
   "metadata": {},
   "outputs": [
    {
     "name": "stdout",
     "output_type": "stream",
     "text": [
      "{'name': 'reva', 'year': 2001}\n"
     ]
    }
   ],
   "source": [
    "# 6 keys()\tReturns a list containing the dictionary's keys\n",
    "d = { \n",
    "    \"name\":\"reva\",\n",
    "    \"year\":2001\n",
    "}\n",
    "d.keys()\n",
    "print(d)"
   ]
  },
  {
   "cell_type": "code",
   "execution_count": 28,
   "id": "a36f5a60-5675-43c9-bdab-e94cf287afd8",
   "metadata": {},
   "outputs": [
    {
     "name": "stdout",
     "output_type": "stream",
     "text": [
      "{'year': 2001}\n"
     ]
    }
   ],
   "source": [
    "# 7 pop()\tRemoves the element with the specified key\n",
    "d = { \n",
    "    \"name\":\"reva\",\n",
    "    \"year\":2001\n",
    "}\n",
    "d.pop(\"name\")\n",
    "print(d)"
   ]
  },
  {
   "cell_type": "code",
   "execution_count": 29,
   "id": "d9d9db6d-bd57-47ab-94d2-46e40c85e824",
   "metadata": {},
   "outputs": [
    {
     "name": "stdout",
     "output_type": "stream",
     "text": [
      "reva\n"
     ]
    }
   ],
   "source": [
    "# 8 setdefault()=Returns the value of the specified key. If the key does not exist: insert the key, with the specified value\n",
    "d = { \n",
    "    \"name\":\"reva\",\n",
    "    \"year\":2001\n",
    "}\n",
    "a=d.setdefault(\"name\")\n",
    "print(a)\n"
   ]
  },
  {
   "cell_type": "code",
   "execution_count": 33,
   "id": "ebdc2b3f-f534-4dbb-8bc3-8ec07f8590ff",
   "metadata": {},
   "outputs": [
    {
     "name": "stdout",
     "output_type": "stream",
     "text": [
      "{'name': 'reva', 'year': 2001, 'color': 'White'}\n"
     ]
    }
   ],
   "source": [
    "# 9 update()= Updates the dictionary with the specified key-value pairs\n",
    "d = { \n",
    "    \"name\":\"reva\",\n",
    "    \"year\":2001\n",
    "}\n",
    "d.update({\"color\": \"White\"})\n",
    "print(d)\n"
   ]
  },
  {
   "cell_type": "code",
   "execution_count": 34,
   "id": "27bb08a1-b7af-45b7-87f5-2996b5ee3c4e",
   "metadata": {},
   "outputs": [
    {
     "name": "stdout",
     "output_type": "stream",
     "text": [
      "{'name': 'reva', 'year': 2001}\n"
     ]
    }
   ],
   "source": [
    "# 10 values()=Returns a list of all the values in the dictionary\n",
    "d = { \n",
    "    \"name\":\"reva\",\n",
    "    \"year\":2001\n",
    "}\n",
    "d.values()\n",
    "print(d)"
   ]
  }
 ],
 "metadata": {
  "kernelspec": {
   "display_name": "Python 3 (ipykernel)",
   "language": "python",
   "name": "python3"
  },
  "language_info": {
   "codemirror_mode": {
    "name": "ipython",
    "version": 3
   },
   "file_extension": ".py",
   "mimetype": "text/x-python",
   "name": "python",
   "nbconvert_exporter": "python",
   "pygments_lexer": "ipython3",
   "version": "3.11.7"
  }
 },
 "nbformat": 4,
 "nbformat_minor": 5
}
