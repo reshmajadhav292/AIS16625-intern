{
 "cells": [
  {
   "cell_type": "markdown",
   "id": "5d3a5be5-860f-401a-99ad-061ac946da89",
   "metadata": {},
   "source": [
    "# pass statement :\n",
    "In Python programming, the pass statement is a null statement which can be used as a placeholder for future code.\n",
    "\r\n",
    "Suppose we have a loop or a function that is not implemented yet, but we want to implement it in the future. In such cases, we can use the pass statemen.\r\n",
    "\r\n",
    "The syntax of the pass statemen pass .s:\r\n",
    "\r\n"
   ]
  },
  {
   "cell_type": "code",
   "execution_count": 4,
   "id": "ee6ded9c-8013-4a78-821b-80efc9943c4c",
   "metadata": {},
   "outputs": [
    {
     "name": "stdout",
     "output_type": "stream",
     "text": [
      "b is greater than a\n"
     ]
    }
   ],
   "source": [
    "# 1\n",
    "# pass statement in if \n",
    "# if statements cannot be empty, but if you for some reason have an if statement with no content, put in the pass statement to avoid getting an error.\n",
    "a = 3\n",
    "b = 300\n",
    "if b > a:\n",
    "  pass\n",
    "print(\"b is greater than a\")\n"
   ]
  },
  {
   "cell_type": "code",
   "execution_count": 3,
   "id": "35ea3570-d49e-43a1-a851-b8b00b42f292",
   "metadata": {},
   "outputs": [
    {
     "name": "stdout",
     "output_type": "stream",
     "text": [
      "x is greater than or equal to 5\n"
     ]
    }
   ],
   "source": [
    "# 2\n",
    "# pass statement in for loop \n",
    "x = 10\n",
    "if x < 5:\n",
    "    pass\n",
    "else:\n",
    "    print(\"x is greater than or equal to 5\")\n"
   ]
  },
  {
   "cell_type": "code",
   "execution_count": 5,
   "id": "2d662844-0920-449b-aada-2da0397612b8",
   "metadata": {},
   "outputs": [
    {
     "name": "stdout",
     "output_type": "stream",
     "text": [
      "Hello\n"
     ]
    }
   ],
   "source": [
    "# 3\n",
    "n= 10\n",
    "# use pass inside if statement\n",
    "if n > 10:\n",
    "    pass\n",
    "\n",
    "print('Hello')\n"
   ]
  }
 ],
 "metadata": {
  "kernelspec": {
   "display_name": "Python 3 (ipykernel)",
   "language": "python",
   "name": "python3"
  },
  "language_info": {
   "codemirror_mode": {
    "name": "ipython",
    "version": 3
   },
   "file_extension": ".py",
   "mimetype": "text/x-python",
   "name": "python",
   "nbconvert_exporter": "python",
   "pygments_lexer": "ipython3",
   "version": "3.11.7"
  },
  "widgets": {
   "application/vnd.jupyter.widget-state+json": {
    "state": {},
    "version_major": 2,
    "version_minor": 0
   }
  }
 },
 "nbformat": 4,
 "nbformat_minor": 5
}
