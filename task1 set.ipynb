{
 "cells": [
  {
   "cell_type": "markdown",
   "id": "4d039667-fdba-4082-8e09-b421b7b52b5a",
   "metadata": {},
   "source": [
    "# Python set :\n",
    "Sets are used to store multiple items in a single variable.\r",
    "A set is a collection which is unordered, unchangeable*, and unindexed.\n",
    "It is declared using {} brackets.\n",
    "Duplicates not allow .\r\n"
   ]
  },
  {
   "cell_type": "code",
   "execution_count": 1,
   "id": "2fe1c8cb-2a73-4f27-b7de-40465fed25d2",
   "metadata": {},
   "outputs": [
    {
     "name": "stdout",
     "output_type": "stream",
     "text": [
      "{8, 18, 3, 6}\n"
     ]
    }
   ],
   "source": [
    "#set creation \n",
    "a={3,8,6,18}\n",
    "print(a)"
   ]
  },
  {
   "cell_type": "code",
   "execution_count": 2,
   "id": "1d5592a1-6fe1-407b-8fdb-979595b8b4e8",
   "metadata": {},
   "outputs": [
    {
     "data": {
      "text/plain": [
       "4"
      ]
     },
     "execution_count": 2,
     "metadata": {},
     "output_type": "execute_result"
    }
   ],
   "source": [
    "len(a)"
   ]
  },
  {
   "cell_type": "code",
   "execution_count": 5,
   "id": "0f6cb337-f9a2-4707-bc79-f499d3f345bc",
   "metadata": {},
   "outputs": [
    {
     "name": "stdout",
     "output_type": "stream",
     "text": [
      "{'apple', 'cherry', 'banana'}\n",
      "{1, 3, 5, 7, 9}\n"
     ]
    }
   ],
   "source": [
    "set1 = {\"apple\", \"banana\", \"cherry\"}\n",
    "set2 = {1, 5, 7, 9, 3}\n",
    "print(set1)\n",
    "print(set2)\n"
   ]
  },
  {
   "cell_type": "code",
   "execution_count": 6,
   "id": "43ae973c-744c-4871-8313-686ffdb7ae46",
   "metadata": {},
   "outputs": [
    {
     "name": "stdout",
     "output_type": "stream",
     "text": [
      "<class 'set'>\n"
     ]
    }
   ],
   "source": [
    "#type \n",
    "print(type(set1))"
   ]
  },
  {
   "cell_type": "code",
   "execution_count": 7,
   "id": "e679f44b-f606-4956-9cec-b52b7ba57514",
   "metadata": {},
   "outputs": [
    {
     "name": "stdout",
     "output_type": "stream",
     "text": [
      "{1, 3, 5, 7, 9}\n"
     ]
    }
   ],
   "source": [
    "#set constructor\n",
    "s= set((1, 5, 7, 9, 3))# note the double round bracket\n",
    "print(s)\n",
    "\n"
   ]
  },
  {
   "cell_type": "code",
   "execution_count": 9,
   "id": "c8e28d47-760c-438e-8ad4-14e5ed71a6d7",
   "metadata": {},
   "outputs": [
    {
     "data": {
      "text/plain": [
       "{1, 3, 4, 5, 7, 9}"
      ]
     },
     "execution_count": 9,
     "metadata": {},
     "output_type": "execute_result"
    }
   ],
   "source": [
    "# add the item in set\n",
    "s.add(4)\n",
    "s\n"
   ]
  },
  {
   "cell_type": "code",
   "execution_count": 11,
   "id": "8d37acfb-5c96-4db5-a42c-c362e4e4dea7",
   "metadata": {},
   "outputs": [
    {
     "name": "stdout",
     "output_type": "stream",
     "text": [
      "{'mukta', 'veda'}\n"
     ]
    }
   ],
   "source": [
    "# remove the items from the set \n",
    "a= {\"aditi\",\"mukta\",\"veda\"}\n",
    "a.remove(\"aditi\")\n",
    "print(a)\n"
   ]
  },
  {
   "cell_type": "code",
   "execution_count": 12,
   "id": "a2ec8b99-05c9-4da8-aab5-a12c73925ed7",
   "metadata": {},
   "outputs": [
    {
     "name": "stdout",
     "output_type": "stream",
     "text": [
      "{1, 'c', 'a', 4, 6, 'b'}\n"
     ]
    }
   ],
   "source": [
    "# join the set \n",
    "# The union() method returns a new set with all items from both sets.\n",
    "set1 = {\"a\", \"b\", \"c\"}\n",
    "set2 = {1, 6, 4}\n",
    "set3 = set1.union(set2)\n",
    "print(set3)"
   ]
  },
  {
   "cell_type": "code",
   "execution_count": 13,
   "id": "f3734c2d-2cf1-4c9e-bf9c-53b6ff1a78f3",
   "metadata": {},
   "outputs": [
    {
     "name": "stdout",
     "output_type": "stream",
     "text": [
      "{1, 'c', 'a', 2, 3, 'b'}\n"
     ]
    }
   ],
   "source": [
    "set1 = {\"a\", \"b\", \"c\"}\n",
    "set2 = {1, 2, 3}\n",
    "set3 = set1 | set2  # | instead of union \n",
    "print(set3)\n"
   ]
  },
  {
   "cell_type": "code",
   "execution_count": 14,
   "id": "b25cd8d8-9b1d-41d4-bb56-9fab9cebf240",
   "metadata": {},
   "outputs": [
    {
     "name": "stdout",
     "output_type": "stream",
     "text": [
      "{1, 'c', 'a', 2, 3, 'b', 'bananas', 'devansh', 'cherry', 'grapes', 'ansh'}\n"
     ]
    }
   ],
   "source": [
    "set1 = {\"a\", \"b\", \"c\"}\n",
    "set2 = {1, 2, 3}\n",
    "set3 = {\"devansh\", \"ansh\"}\n",
    "set4 = {\"grapes\", \"bananas\", \"cherry\"}\n",
    "set = set1.union(set2, set3, set4)\n",
    "print(set)\n"
   ]
  },
  {
   "cell_type": "markdown",
   "id": "7f6b24b4-243d-4574-8dbb-a47a79604050",
   "metadata": {},
   "source": [
    "# set methods "
   ]
  },
  {
   "cell_type": "code",
   "execution_count": 15,
   "id": "bd2110a8-7347-4cad-96df-e80278139770",
   "metadata": {},
   "outputs": [
    {
     "name": "stdout",
     "output_type": "stream",
     "text": [
      "{'ansh', 'devansh', 'anu'}\n"
     ]
    }
   ],
   "source": [
    "#1 add()=dds an element to the set\n",
    "pr={\"devansh\", \"ansh\"}\n",
    "pr.add(\"anu\")\n",
    "print(pr)\n"
   ]
  },
  {
   "cell_type": "code",
   "execution_count": 16,
   "id": "6d5364bf-f2f2-4c2d-acc4-94c7103e2809",
   "metadata": {},
   "outputs": [
    {
     "data": {
      "text/plain": [
       "{'anu', 'devansh'}"
      ]
     },
     "execution_count": 16,
     "metadata": {},
     "output_type": "execute_result"
    }
   ],
   "source": [
    "# 2 clear()=Removes all the elements from the set\n",
    "pr.remove(\"ansh\")\n",
    "pr"
   ]
  },
  {
   "cell_type": "code",
   "execution_count": 17,
   "id": "69d994e1-d0b0-4eaf-a8b2-5e37cd4ee42d",
   "metadata": {},
   "outputs": [
    {
     "data": {
      "text/plain": [
       "{'ansh', 'devansh'}"
      ]
     },
     "execution_count": 17,
     "metadata": {},
     "output_type": "execute_result"
    }
   ],
   "source": [
    "# 3 copy() = Returns a copy of the set\n",
    "pr={\"devansh\", \"ansh\"}\n",
    "pr.copy()"
   ]
  },
  {
   "cell_type": "code",
   "execution_count": 20,
   "id": "1314ef15-7537-41d2-acfe-a451fb22be02",
   "metadata": {},
   "outputs": [
    {
     "name": "stdout",
     "output_type": "stream",
     "text": [
      "{'devansh', 'anu'}\n"
     ]
    }
   ],
   "source": [
    "# 4 difference()=Returns a set containing the difference between two or more sets\n",
    "x={'ansh', 'devansh', 'anu'}\n",
    "y={ \"ansh\",\"radha\",\"vilas\"}\n",
    "z = x.difference(y) \n",
    "print(z)"
   ]
  },
  {
   "cell_type": "code",
   "execution_count": 29,
   "id": "39f3e625-1f4b-4823-9f80-b37853751c78",
   "metadata": {},
   "outputs": [
    {
     "name": "stdout",
     "output_type": "stream",
     "text": [
      "None\n"
     ]
    }
   ],
   "source": [
    "# 5 difference_update()=Removes the items in this set that are also included in another, specified set\n",
    "x={\"ansh\", \"devansh\", \"anu\"}\n",
    "y={ \"ansh\",\"radha\",\"vilas\"}\n",
    "z=x.difference_update(y)\n",
    "print(z)"
   ]
  },
  {
   "cell_type": "code",
   "execution_count": 30,
   "id": "1140c3fd-37d6-4797-807e-84c7138b943b",
   "metadata": {},
   "outputs": [
    {
     "name": "stdout",
     "output_type": "stream",
     "text": [
      "{'devansh', 'anu'}\n"
     ]
    }
   ],
   "source": [
    "# 6 discard()= Remove the specified item \n",
    "x={\"ansh\", \"devansh\", \"anu\"}\n",
    "x.discard(\"ansh\")\n",
    "print(x)"
   ]
  },
  {
   "cell_type": "code",
   "execution_count": 31,
   "id": "818f65ec-db3e-403f-83de-571bb28fac43",
   "metadata": {},
   "outputs": [
    {
     "data": {
      "text/plain": [
       "{'ansh'}"
      ]
     },
     "execution_count": 31,
     "metadata": {},
     "output_type": "execute_result"
    }
   ],
   "source": [
    "# 7 intersection()=Returns a set, that is the intersection of two other sets\n",
    "x={\"ansh\", \"devansh\", \"anu\"}\n",
    "y={ \"ansh\",\"radha\",\"vilas\"}\n",
    "z = x.intersection(y)\n",
    "z\n",
    "\n"
   ]
  },
  {
   "cell_type": "code",
   "execution_count": 35,
   "id": "3558bbe1-157b-42b9-abee-40d01cb1b226",
   "metadata": {},
   "outputs": [
    {
     "name": "stdout",
     "output_type": "stream",
     "text": [
      "None\n"
     ]
    }
   ],
   "source": [
    "# 8 intersection_update()=Removes the items in this set that are not present in other, specified set(s)\n",
    "x={\"ansh\", \"devansh\", \"anu\"}\n",
    "y={ \"ansh\",\"radha\",\"vilas\"}\n",
    "a=x.intersection_update(y)\n",
    "print(a)"
   ]
  },
  {
   "cell_type": "code",
   "execution_count": 36,
   "id": "b24b2462-6b49-4e23-ad4e-eb308911438c",
   "metadata": {},
   "outputs": [
    {
     "name": "stdout",
     "output_type": "stream",
     "text": [
      "False\n"
     ]
    }
   ],
   "source": [
    "#9 isdisjoint()=Returns whether two sets have a intersection or not\n",
    "x={\"ansh\", \"devansh\", \"anu\"}\n",
    "y={ \"ansh\",\"radha\",\"vilas\"}\n",
    "z = x.isdisjoint(y)\n",
    "print(z)\n"
   ]
  },
  {
   "cell_type": "code",
   "execution_count": 40,
   "id": "5dbe458a-7858-468b-aa18-06248e414734",
   "metadata": {},
   "outputs": [
    {
     "name": "stdout",
     "output_type": "stream",
     "text": [
      "True\n"
     ]
    }
   ],
   "source": [
    "#10 issubset()=Returns whether another set contains this set or not\n",
    "x={\"ansh\", \"devansh\", \"anu\"}\n",
    "y={ \"ansh\",\"radha\",\"vilas\",\"devansh\",\"anu\"}\n",
    "z = x.issubset(y)\n",
    "print(z)"
   ]
  },
  {
   "cell_type": "code",
   "execution_count": 4,
   "id": "573fd8e9-68a1-4dc3-b19f-da9743145ec3",
   "metadata": {},
   "outputs": [
    {
     "name": "stdout",
     "output_type": "stream",
     "text": [
      "True\n"
     ]
    }
   ],
   "source": [
    "# 11 issuperset() = Returns whether this set contains another set or not\n",
    "x = {\"f\", \"e\", \"d\", \"c\", \"b\", \"a\"}\n",
    "y = {\"a\", \"b\", \"c\"}\n",
    "z = x.issuperset(y)\n",
    "print(z)"
   ]
  },
  {
   "cell_type": "code",
   "execution_count": 3,
   "id": "bd2333ff-f0fd-465c-a594-7dd59b345c78",
   "metadata": {},
   "outputs": [
    {
     "name": "stdout",
     "output_type": "stream",
     "text": [
      "e\n"
     ]
    }
   ],
   "source": [
    "# 12 pop()=\tRemoves an element from the set\n",
    "x = {\"f\", \"e\", \"d\", \"c\", \"b\", \"a\"}\n",
    "z = x.pop()\n",
    "print(z)"
   ]
  },
  {
   "cell_type": "code",
   "execution_count": 5,
   "id": "0c6ddc32-3ed9-46ae-af41-41981a3bff50",
   "metadata": {},
   "outputs": [
    {
     "name": "stdout",
     "output_type": "stream",
     "text": [
      "{'e', 'f', 'd'}\n"
     ]
    }
   ],
   "source": [
    "#13 symmetric_difference()= Returns a set with the symmetric differences of two sets\n",
    "x = {\"f\", \"e\", \"d\", \"c\", \"b\", \"a\"}\n",
    "y = {\"a\", \"b\", \"c\"}\n",
    "z = x.symmetric_difference(y)\n",
    "print(z)\n"
   ]
  },
  {
   "cell_type": "code",
   "execution_count": 9,
   "id": "08a1522d-bf3d-4b1c-945d-42645cc4d2d9",
   "metadata": {},
   "outputs": [
    {
     "name": "stdout",
     "output_type": "stream",
     "text": [
      "{'b', 'f', 'c', 'a', 'd'}\n"
     ]
    }
   ],
   "source": [
    "#14 remove()=Removes the specified element\n",
    "x = {\"f\", \"e\", \"d\", \"c\", \"b\", \"a\"}\n",
    "x.remove(\"e\")\n",
    "print(x)"
   ]
  },
  {
   "cell_type": "code",
   "execution_count": 10,
   "id": "ba899f53-7a04-42c4-ba0e-39acd374b57a",
   "metadata": {},
   "outputs": [
    {
     "name": "stdout",
     "output_type": "stream",
     "text": [
      "{'e', 'c', 'a', 'f', 'b', 'd'}\n"
     ]
    }
   ],
   "source": [
    "# 15 union()=Return a set containing the union of sets\n",
    "x = {\"f\", \"e\", \"d\", \"c\", \"b\", \"a\"}\n",
    "y = {\"a\", \"b\", \"c\"}\n",
    "z = x.union(y)\n",
    "print(z)\n"
   ]
  },
  {
   "cell_type": "code",
   "execution_count": 12,
   "id": "91d85798-95cb-416a-b0f8-07d8682ab1ba",
   "metadata": {},
   "outputs": [
    {
     "name": "stdout",
     "output_type": "stream",
     "text": [
      "{'e', 'c', 'a', 'f', 'b', 'd'}\n"
     ]
    }
   ],
   "source": [
    "# 16 update()=Update the set with the union of this set and others\n",
    "x = {\"f\", \"e\", \"d\", \"c\", \"b\", \"a\"}\n",
    "y = {\"a\", \"b\", \"c\"}\n",
    "x.update(y)\n",
    "print(x)"
   ]
  }
 ],
 "metadata": {
  "kernelspec": {
   "display_name": "Python 3 (ipykernel)",
   "language": "python",
   "name": "python3"
  },
  "language_info": {
   "codemirror_mode": {
    "name": "ipython",
    "version": 3
   },
   "file_extension": ".py",
   "mimetype": "text/x-python",
   "name": "python",
   "nbconvert_exporter": "python",
   "pygments_lexer": "ipython3",
   "version": "3.11.7"
  }
 },
 "nbformat": 4,
 "nbformat_minor": 5
}
