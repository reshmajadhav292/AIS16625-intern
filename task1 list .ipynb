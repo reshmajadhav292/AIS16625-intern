{
 "cells": [
  {
   "cell_type": "markdown",
   "id": "50634a9f-96f1-4cf8-ae7e-e1baa244e5a0",
   "metadata": {},
   "source": [
    "# Python List \n",
    "#Lists are used to store multiple items in a single variable.\n",
    "#Lists are created using square brackets[]\n",
    "#List items are ordered, changeable, and allow duplicate values.\n",
    "#\r\n",
    "List items are indexed, the first item has index [.\n",
    "\r\n",
    "\r\n",
    "\n"
   ]
  },
  {
   "cell_type": "code",
   "execution_count": 1,
   "id": "f02aaaeb-8bb2-48fd-9c5a-26d26fdb3fac",
   "metadata": {},
   "outputs": [
    {
     "data": {
      "text/plain": [
       "[5, 'red', 6, 9, 'pink']"
      ]
     },
     "execution_count": 1,
     "metadata": {},
     "output_type": "execute_result"
    }
   ],
   "source": [
    "# list creation []\n",
    "list1=[5,\"red\",6,9,\"pink\"]\n",
    "list1"
   ]
  },
  {
   "cell_type": "code",
   "execution_count": 2,
   "id": "ab2d7f60-a9e8-4c87-a970-79e3251277a7",
   "metadata": {},
   "outputs": [
    {
     "data": {
      "text/plain": [
       "list"
      ]
     },
     "execution_count": 2,
     "metadata": {},
     "output_type": "execute_result"
    }
   ],
   "source": [
    "type(list1)"
   ]
  },
  {
   "cell_type": "code",
   "execution_count": 3,
   "id": "8c2fbb8b-bd25-49ce-96f9-543d8c736c63",
   "metadata": {},
   "outputs": [
    {
     "data": {
      "text/plain": [
       "[1, 2, 3, 4, 6]"
      ]
     },
     "execution_count": 3,
     "metadata": {},
     "output_type": "execute_result"
    }
   ],
   "source": [
    "# list of integer \n",
    "list=[1,2,3,4,6]\n",
    "list\n"
   ]
  },
  {
   "cell_type": "code",
   "execution_count": 4,
   "id": "8a3ea1fd-1f58-41a5-a52b-34bd4b74212d",
   "metadata": {},
   "outputs": [
    {
     "data": {
      "text/plain": [
       "[1, 'shree', 'manjiri', 5]"
      ]
     },
     "execution_count": 4,
     "metadata": {},
     "output_type": "execute_result"
    }
   ],
   "source": [
    "#list with mixed datatypes\n",
    "list2= [1,\"shree\",\"manjiri\",5]\n",
    "list2"
   ]
  },
  {
   "cell_type": "code",
   "execution_count": 5,
   "id": "957fb575-be82-479e-b560-cbdb2436fc43",
   "metadata": {},
   "outputs": [
    {
     "data": {
      "text/plain": [
       "9"
      ]
     },
     "execution_count": 5,
     "metadata": {},
     "output_type": "execute_result"
    }
   ],
   "source": [
    "# accesing the items \n",
    "# you access the list items by referring to the index number \n",
    "list1[3]"
   ]
  },
  {
   "cell_type": "code",
   "execution_count": 6,
   "id": "f25cf367-bd43-47cb-9e2c-e8cb7a25e123",
   "metadata": {},
   "outputs": [
    {
     "data": {
      "text/plain": [
       "'manjiri'"
      ]
     },
     "execution_count": 6,
     "metadata": {},
     "output_type": "execute_result"
    }
   ],
   "source": [
    "#Negative indexing means start from the end\n",
    "#-1 refers to the last item, -2 refers to the second last item\n",
    "list2[-2]"
   ]
  },
  {
   "cell_type": "code",
   "execution_count": 7,
   "id": "4372fe01-31d0-46d2-bb58-733d85821f18",
   "metadata": {},
   "outputs": [
    {
     "name": "stdout",
     "output_type": "stream",
     "text": [
      "[1, 2, 3, 4, 6]\n"
     ]
    }
   ],
   "source": [
    "# elements beginning to end \n",
    "print(list[:])"
   ]
  },
  {
   "cell_type": "code",
   "execution_count": 8,
   "id": "b2949b98-b1aa-4d44-b193-6ba8d16b2a4a",
   "metadata": {},
   "outputs": [
    {
     "data": {
      "text/plain": [
       "[5, 'red', 6, 'vibha', 'pink']"
      ]
     },
     "execution_count": 8,
     "metadata": {},
     "output_type": "execute_result"
    }
   ],
   "source": [
    "#Change Item Value\n",
    "#To change the value of a specific item, refer to the index number\n",
    "\n",
    "list1[3]=\"vibha\"\n",
    "list1\n"
   ]
  },
  {
   "cell_type": "code",
   "execution_count": 9,
   "id": "38739000-edb9-42ec-8ff3-78d11345da44",
   "metadata": {},
   "outputs": [
    {
     "data": {
      "text/plain": [
       "4"
      ]
     },
     "execution_count": 9,
     "metadata": {},
     "output_type": "execute_result"
    }
   ],
   "source": [
    "#list length \n",
    "# to determine how many items a list has use the len() method \n",
    "len(list2)"
   ]
  },
  {
   "cell_type": "markdown",
   "id": "016fb8d4-5aaf-427b-8833-eaf99e150e83",
   "metadata": {},
   "source": [
    "#  list methods "
   ]
  },
  {
   "cell_type": "code",
   "execution_count": 10,
   "id": "6528bfc1-10eb-4688-a4f1-e4de237ed73c",
   "metadata": {},
   "outputs": [
    {
     "data": {
      "text/plain": [
       "[6, 7, 8, 9]"
      ]
     },
     "execution_count": 10,
     "metadata": {},
     "output_type": "execute_result"
    }
   ],
   "source": [
    "# 1 - append()= appends an element to the end of the list \n",
    "x= [1,\"shree\",\"manjiri\",5]\n",
    "x.append(\"shree\")\n",
    "y=[7,6,8,9]\n",
    "y.sort()\n",
    "y"
   ]
  },
  {
   "cell_type": "code",
   "execution_count": 20,
   "id": "f5e67694-a30b-450f-ab03-7fe03800775a",
   "metadata": {},
   "outputs": [
    {
     "data": {
      "text/plain": [
       "1"
      ]
     },
     "execution_count": 20,
     "metadata": {},
     "output_type": "execute_result"
    }
   ],
   "source": [
    "z=[5,\"red\",6,9,\"pink\"]\n",
    "z.count(\"red\")\n"
   ]
  },
  {
   "cell_type": "code",
   "execution_count": 21,
   "id": "052059ce-c7be-42c2-b7d5-0b4d8c585e53",
   "metadata": {},
   "outputs": [
    {
     "data": {
      "text/plain": [
       "[5, 'red', 6, 'pink']"
      ]
     },
     "execution_count": 21,
     "metadata": {},
     "output_type": "execute_result"
    }
   ],
   "source": [
    "z.pop(-2)\n",
    "z"
   ]
  },
  {
   "cell_type": "code",
   "execution_count": 44,
   "id": "5ff1f65c-898d-4fb2-b995-6e42c937ca33",
   "metadata": {},
   "outputs": [
    {
     "name": "stdout",
     "output_type": "stream",
     "text": [
      "None\n"
     ]
    }
   ],
   "source": [
    "fruits = ['apple', 'banana', 'cherry', 'orange']\n",
    "s=fruits.clear()\n",
    "print(s)\n"
   ]
  },
  {
   "cell_type": "code",
   "execution_count": 36,
   "id": "bc8fab2c-d46f-47ce-a439-32ec7e3ad4f0",
   "metadata": {},
   "outputs": [
    {
     "name": "stdout",
     "output_type": "stream",
     "text": [
      "['apple', 'banana', 'cherry']\n"
     ]
    }
   ],
   "source": [
    "l1= [\"apple\", \"banana\", \"cherry\"]\n",
    "mylist = l1.copy()\n",
    "print(mylist)"
   ]
  },
  {
   "cell_type": "code",
   "execution_count": 39,
   "id": "6afa5c5f-b7ee-4303-b995-c66b3046b33c",
   "metadata": {},
   "outputs": [
    {
     "data": {
      "text/plain": [
       "['vilas', 'radha', 'anu']"
      ]
     },
     "execution_count": 39,
     "metadata": {},
     "output_type": "execute_result"
    }
   ],
   "source": [
    "l5=[\"anu\",\"radha\",\"vilas\"]\n",
    "l5.reverse()\n",
    "l5"
   ]
  },
  {
   "cell_type": "code",
   "execution_count": 40,
   "id": "e7f2a0e9-11e9-44b1-ba12-37cb162af72b",
   "metadata": {},
   "outputs": [
    {
     "data": {
      "text/plain": [
       "1"
      ]
     },
     "execution_count": 40,
     "metadata": {},
     "output_type": "execute_result"
    }
   ],
   "source": [
    "l5.index(\"radha\")"
   ]
  },
  {
   "cell_type": "code",
   "execution_count": 42,
   "id": "6b9a7b52-6f7c-4ca4-8123-bd5c77139e30",
   "metadata": {},
   "outputs": [
    {
     "name": "stdout",
     "output_type": "stream",
     "text": [
      "[]\n"
     ]
    }
   ],
   "source": [
    "#2 clear()=removes all the elements froom a list \n",
    "fruits = [2, 'banana', 18, 'orange']\n",
    "fruits.clear()\n",
    "print(fruits)"
   ]
  },
  {
   "cell_type": "code",
   "execution_count": 45,
   "id": "de2adbdb-d6b0-4351-b48b-d2ff8fc9b8db",
   "metadata": {},
   "outputs": [
    {
     "data": {
      "text/plain": [
       "['anu', 'radha', 'vilas']"
      ]
     },
     "execution_count": 45,
     "metadata": {},
     "output_type": "execute_result"
    }
   ],
   "source": [
    "#3 copy -returns a copy of the specified list \n",
    "l5=[\"anu\",\"radha\",\"vilas\"]\n",
    "f=l5.copy()\n",
    "f"
   ]
  },
  {
   "cell_type": "code",
   "execution_count": 46,
   "id": "93d6295a-fec9-4fde-898f-29ea8eef4fb5",
   "metadata": {},
   "outputs": [
    {
     "data": {
      "text/plain": [
       "1208546393408"
      ]
     },
     "execution_count": 46,
     "metadata": {},
     "output_type": "execute_result"
    }
   ],
   "source": [
    "id(f)"
   ]
  },
  {
   "cell_type": "code",
   "execution_count": 47,
   "id": "d51f7d3e-b45e-4c12-a6af-6f78d2c976e3",
   "metadata": {},
   "outputs": [
    {
     "data": {
      "text/plain": [
       "1208541047296"
      ]
     },
     "execution_count": 47,
     "metadata": {},
     "output_type": "execute_result"
    }
   ],
   "source": [
    "id(l5)"
   ]
  },
  {
   "cell_type": "code",
   "execution_count": 48,
   "id": "b33f5a3a-2bf7-4e64-842f-df45cc2c2f8f",
   "metadata": {},
   "outputs": [
    {
     "data": {
      "text/plain": [
       "'anu'"
      ]
     },
     "execution_count": 48,
     "metadata": {},
     "output_type": "execute_result"
    }
   ],
   "source": [
    "l5.pop(0)"
   ]
  },
  {
   "cell_type": "code",
   "execution_count": 49,
   "id": "acf81c70-2e92-4376-910d-511c4505083b",
   "metadata": {},
   "outputs": [
    {
     "data": {
      "text/plain": [
       "1"
      ]
     },
     "execution_count": 49,
     "metadata": {},
     "output_type": "execute_result"
    }
   ],
   "source": [
    "# 4 count()= returns the number of elements with the specified value \n",
    "l5.count(\"radha\")"
   ]
  },
  {
   "cell_type": "code",
   "execution_count": 59,
   "id": "ea4132f5-7602-4c3f-9fd2-d6d02a933d1c",
   "metadata": {},
   "outputs": [
    {
     "data": {
      "text/plain": [
       "['apple', 'banana', 'cherry', 'red', 'pink', 'blue']"
      ]
     },
     "execution_count": 59,
     "metadata": {},
     "output_type": "execute_result"
    }
   ],
   "source": [
    "#5 extend () - odds the specified list element (or any iterable )to the end \n",
    "fruits = ['apple', 'banana', 'cherry']\n",
    "\n",
    "cl= ['red', 'pink', 'blue']\n",
    "fruits.extend(cl)\n",
    "fruits\n"
   ]
  },
  {
   "cell_type": "code",
   "execution_count": 60,
   "id": "667a8201-95df-4b6a-bd8f-23e7ab039bb3",
   "metadata": {},
   "outputs": [
    {
     "data": {
      "text/plain": [
       "6"
      ]
     },
     "execution_count": 60,
     "metadata": {},
     "output_type": "execute_result"
    }
   ],
   "source": [
    "len(fruits)"
   ]
  },
  {
   "cell_type": "code",
   "execution_count": 62,
   "id": "41cb4d6a-4c92-470c-91da-70ea2bc3fbd7",
   "metadata": {},
   "outputs": [
    {
     "data": {
      "text/plain": [
       "1"
      ]
     },
     "execution_count": 62,
     "metadata": {},
     "output_type": "execute_result"
    }
   ],
   "source": [
    "# 6 index()=returns ghe position at the first occurrence of the specified value \n",
    "fruits.index(\"banana\")\n",
    "             "
   ]
  },
  {
   "cell_type": "code",
   "execution_count": 63,
   "id": "4122204d-5177-42b5-9960-727450f6bd96",
   "metadata": {},
   "outputs": [
    {
     "name": "stdout",
     "output_type": "stream",
     "text": [
      "['red', 'black', 'pink', 'blue']\n"
     ]
    }
   ],
   "source": [
    "# 7 - insert()=inserts the specified value at the specified position.\n",
    "cl.insert(1,\"black\")\n",
    "print(cl)"
   ]
  },
  {
   "cell_type": "code",
   "execution_count": 64,
   "id": "f4a9884e-c11b-4de4-ac9b-aba474c6ca49",
   "metadata": {},
   "outputs": [
    {
     "data": {
      "text/plain": [
       "'pink'"
      ]
     },
     "execution_count": 64,
     "metadata": {},
     "output_type": "execute_result"
    }
   ],
   "source": [
    "#8 pop () = value the element at the specified position \n",
    "cl.pop(2)"
   ]
  },
  {
   "cell_type": "code",
   "execution_count": 67,
   "id": "445b9350-20dc-4674-b854-acb1d922cf88",
   "metadata": {},
   "outputs": [
    {
     "name": "stdout",
     "output_type": "stream",
     "text": [
      "['blue', 'black', 'red']\n"
     ]
    }
   ],
   "source": [
    "# 9 reverse()= reverses the sorting order of the elements \n",
    "cl.reverse()\n",
    "print(cl)"
   ]
  },
  {
   "cell_type": "code",
   "execution_count": 68,
   "id": "a3486eca-021b-45ad-be19-f038baa6a83b",
   "metadata": {},
   "outputs": [
    {
     "data": {
      "text/plain": [
       "[9, 7, 4, 1]"
      ]
     },
     "execution_count": 68,
     "metadata": {},
     "output_type": "execute_result"
    }
   ],
   "source": [
    "a=[1,4,7,9]\n",
    "a.reverse()\n",
    "a"
   ]
  },
  {
   "cell_type": "code",
   "execution_count": 70,
   "id": "7b98de0e-aff7-4945-a939-c060c8ef3072",
   "metadata": {},
   "outputs": [
    {
     "data": {
      "text/plain": [
       "[1, 4, 7, 9]"
      ]
     },
     "execution_count": 70,
     "metadata": {},
     "output_type": "execute_result"
    }
   ],
   "source": [
    "#10 = sort()=sorts the list ascending by default \n",
    "a.sort()\n",
    "a"
   ]
  }
 ],
 "metadata": {
  "kernelspec": {
   "display_name": "Python 3 (ipykernel)",
   "language": "python",
   "name": "python3"
  },
  "language_info": {
   "codemirror_mode": {
    "name": "ipython",
    "version": 3
   },
   "file_extension": ".py",
   "mimetype": "text/x-python",
   "name": "python",
   "nbconvert_exporter": "python",
   "pygments_lexer": "ipython3",
   "version": "3.11.7"
  }
 },
 "nbformat": 4,
 "nbformat_minor": 5
}
