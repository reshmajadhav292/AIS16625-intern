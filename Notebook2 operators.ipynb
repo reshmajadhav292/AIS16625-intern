
Arithmatic operator : Arithmatic operator is +,-,*,/,**(power),%(modulus) . To performed mathematical operation be used arithmatic operator . \n",
    "2) Assignment operator : Assignment operator is +=,-=,%=,*=,/=. Assignment operator is used to assign any value to the variable .\n",
    "3) logical operator : logical operator is and,or,not .It is used to combine two or more  conditional statement .\n",


{
 "cells": [
  {
   "cell_type": "markdown",
   "id": "68372fdb-4f2e-4594-9432-1fc3baab6b09",
   "metadata": {},
   "source": [
    "Python Operators\n",
    "1) Arithmatic operator : Arithmatic operator is +,-,*,/,**(power),%(modulus) . To performed mathematical operation be used arithmatic operator . \n",
    "2) Assignment operator : Assignment operator is +=,-=,%=,*=,/=. Assignment operator is used to assign any value to the variable .\n",
    "3) logical operator : logical operator is and,or,not .It is used to combine two or more  conditional statement .\n",
    "4) comparision operator : comparision operator is <,><=,>=,==,!= . It is used to comparing two values ."
   ]
  },
  {
   "cell_type": "code",
   "execution_count": 1,
   "id": "98c93f84-5639-4fb9-8955-dd6c923520f8",
   "metadata": {},
   "outputs": [
    {
     "data": {
      "text/plain": [
       "521"
      ]
     },
     "execution_count": 1,
     "metadata": {},
     "output_type": "execute_result"
    }
   ],
   "source": [
    "# Arithmatic operator (+,-,*,/,**(power),%(modulus))\n",
    "793278%763"
   ]
  },
  {
   "cell_type": "code",
   "execution_count": 2,
   "id": "e85fb10a-1194-44df-8214-9ba5b7d1da27",
   "metadata": {},
   "outputs": [
    {
     "data": {
      "text/plain": [
       "18533027778365537970688"
      ]
     },
     "execution_count": 2,
     "metadata": {},
     "output_type": "execute_result"
    }
   ],
   "source": [
    "298**9"
   ]
  },
  {
   "cell_type": "code",
   "execution_count": 3,
   "id": "8f3097c3-3a7a-44f5-9623-e827f5514251",
   "metadata": {},
   "outputs": [
    {
     "data": {
      "text/plain": [
       "1.921875"
      ]
     },
     "execution_count": 3,
     "metadata": {},
     "output_type": "execute_result"
    }
   ],
   "source": [
    "123/64"
   ]
  },
  {
   "cell_type": "code",
   "execution_count": 8,
   "id": "d05ee2fb-3f8f-49e0-ab25-ce7f911881ed",
   "metadata": {},
   "outputs": [
    {
     "name": "stdout",
     "output_type": "stream",
     "text": [
      "3510\n"
     ]
    }
   ],
   "source": [
    "# Assignment operator \n",
    "# += value \n",
    "# -=value \n",
    "# *=value\n",
    "# /=value \n",
    "r=78\n",
    "r*=45  # r=r*45\n",
    "print(r)\n"
   ]
  },
  {
   "cell_type": "code",
   "execution_count": 11,
   "id": "98a059b7-3f8b-4487-b64e-84983af1ef10",
   "metadata": {},
   "outputs": [
    {
     "name": "stdout",
     "output_type": "stream",
     "text": [
      "0.0016505840528186896\n"
     ]
    }
   ],
   "source": [
    "t=13\n",
    "t/=7876\n",
    "print(t)"
   ]
  },
  {
   "cell_type": "code",
   "execution_count": 12,
   "id": "c834b2c0-80fe-43c4-8104-fa36d0d47ee4",
   "metadata": {},
   "outputs": [
    {
     "name": "stdout",
     "output_type": "stream",
     "text": [
      "23\n"
     ]
    }
   ],
   "source": [
    "x=23\n",
    "x=x%876\n",
    "print(x)"
   ]
  },
  {
   "cell_type": "code",
   "execution_count": 13,
   "id": "42ccd38f-efdf-4297-9c37-940b09caa421",
   "metadata": {},
   "outputs": [
    {
     "data": {
      "text/plain": [
       "False"
      ]
     },
     "execution_count": 13,
     "metadata": {},
     "output_type": "execute_result"
    }
   ],
   "source": [
    "#logical operator \n",
    "# and= returns true if both statements are true \n",
    "x=18\n",
    "x>78 and x<22"
   ]
  },
  {
   "cell_type": "code",
   "execution_count": 14,
   "id": "263a0f53-df10-4835-b6b7-65afa813fc46",
   "metadata": {},
   "outputs": [
    {
     "data": {
      "text/plain": [
       "True"
      ]
     },
     "execution_count": 14,
     "metadata": {},
     "output_type": "execute_result"
    }
   ],
   "source": [
    "#or = returns true if one statement is true \n",
    "r=56\n",
    "r<78 or r>34"
   ]
  },
  {
   "cell_type": "code",
   "execution_count": 15,
   "id": "654c5049-a923-4c8a-9693-962f0bdfcfcd",
   "metadata": {},
   "outputs": [
    {
     "data": {
      "text/plain": [
       "True"
      ]
     },
     "execution_count": 15,
     "metadata": {},
     "output_type": "execute_result"
    }
   ],
   "source": [
    "# not = reverse the result , returns false if the result is true \n",
    "x=12\n",
    "not(x<3 and x>67)"
   ]
  },
  {
   "cell_type": "code",
   "execution_count": 16,
   "id": "9f04f9d6-82bc-4ab5-8040-fad55f954d87",
   "metadata": {},
   "outputs": [
    {
     "data": {
      "text/plain": [
       "True"
      ]
     },
     "execution_count": 16,
     "metadata": {},
     "output_type": "execute_result"
    }
   ],
   "source": [
    "# comparision operator \n",
    "56==56"
   ]
  },
  {
   "cell_type": "code",
   "execution_count": 17,
   "id": "21338688-b27b-4aaa-95b7-530aaad66353",
   "metadata": {},
   "outputs": [
    {
     "data": {
      "text/plain": [
       "True"
      ]
     },
     "execution_count": 17,
     "metadata": {},
     "output_type": "execute_result"
    }
   ],
   "source": [
    "56<=67"
   ]
  },
  {
   "cell_type": "code",
   "execution_count": 18,
   "id": "a58b60a1-da42-4783-afc7-10fedf1d7f7b",
   "metadata": {},
   "outputs": [
    {
     "data": {
      "text/plain": [
       "False"
      ]
     },
     "execution_count": 18,
     "metadata": {},
     "output_type": "execute_result"
    }
   ],
   "source": [
    "4!=4"
   ]
  },
  {
   "cell_type": "code",
   "execution_count": 19,
   "id": "053755bc-6653-49dc-bc08-9b7ff3b7bc0b",
   "metadata": {},
   "outputs": [
    {
     "data": {
      "text/plain": [
       "True"
      ]
     },
     "execution_count": 19,
     "metadata": {},
     "output_type": "execute_result"
    }
   ],
   "source": [
    "34!=78"
   ]
  }
 ],
 "metadata": {
  "kernelspec": {
   "display_name": "Python 3 (ipykernel)",
   "language": "python",
   "name": "python3"
  },
  "language_info": {
   "codemirror_mode": {
    "name": "ipython",
    "version": 3
   },
   "file_extension": ".py",
   "mimetype": "text/x-python",
   "name": "python",
   "nbconvert_exporter": "python",
   "pygments_lexer": "ipython3",
   "version": "3.11.7"
  }
 },
 "nbformat": 4,
 "nbformat_minor": 5
}
