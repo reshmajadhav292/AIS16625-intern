{
 "cells": [
  {
   "cell_type": "markdown",
   "id": "56b742a7-0d54-462e-a833-41f88e1dc996",
   "metadata": {},
   "source": [
    "# if else \n",
    "there are situation where we want to excute a statement when the if condition is true and another statement when the condition is false .In such type of situation we use if else statement \n",
    "It is declared using if else key words "
   ]
  },
  {
   "cell_type": "code",
   "execution_count": 1,
   "id": "6d7dd78d-520c-4536-aca1-901f05b13542",
   "metadata": {},
   "outputs": [
    {
     "name": "stdout",
     "output_type": "stream",
     "text": [
      "b is greater than a\n"
     ]
    }
   ],
   "source": [
    "# 1\n",
    "a = 100\n",
    "b = 765\n",
    "if b > a:\n",
    "  print(\"b is greater than a\")\n",
    "else:\n",
    "  print(\"b is not greater than a\")"
   ]
  },
  {
   "cell_type": "code",
   "execution_count": 4,
   "id": "c9903f55-0c2f-4b58-8e5f-29240adc928e",
   "metadata": {},
   "outputs": [
    {
     "name": "stdout",
     "output_type": "stream",
     "text": [
      "a is even number\n"
     ]
    }
   ],
   "source": [
    "# 2\n",
    "a=5646\n",
    "if a%2==0:\n",
    "   print(\"a is even number\")\n",
    "else:\n",
    "   print(\"a is odd number\")"
   ]
  },
  {
   "cell_type": "code",
   "execution_count": 5,
   "id": "0d8b2272-c06a-47de-af4a-02e1046c91b2",
   "metadata": {},
   "outputs": [
    {
     "name": "stdout",
     "output_type": "stream",
     "text": [
      " student is pass\n"
     ]
    }
   ],
   "source": [
    "# 3 \n",
    "a=63\n",
    "if a>=35:\n",
    "   print(\" student is pass\")\n",
    "else:\n",
    "    print(\" student is fail\")\n"
   ]
  },
  {
   "cell_type": "code",
   "execution_count": 8,
   "id": "bddfa841-0b4a-435a-b471-da17ee9407e2",
   "metadata": {},
   "outputs": [
    {
     "name": "stdout",
     "output_type": "stream",
     "text": [
      " student is  pass with distinction\n"
     ]
    }
   ],
   "source": [
    "# 4\n",
    "r= 60\n",
    "if r>=60 or r<75:\n",
    "    print(\" student is  pass with distinction\")\n",
    "else:\n",
    "        print(\" student is not pass with distinction\")"
   ]
  },
  {
   "cell_type": "code",
   "execution_count": 10,
   "id": "01786091-7159-4a74-88e0-91b8c62f397d",
   "metadata": {},
   "outputs": [
    {
     "name": "stdout",
     "output_type": "stream",
     "text": [
      "g is less than b\n"
     ]
    }
   ],
   "source": [
    "# 5\n",
    "g=45\n",
    "b=353\n",
    "if g<b :\n",
    "   print(\"g is less than b\")\n",
    "else:\n",
    "   print(\"g is grater than b\")"
   ]
  },
  {
   "cell_type": "code",
   "execution_count": 1,
   "id": "79704724-2ebb-42af-827d-05a2cb53de3f",
   "metadata": {},
   "outputs": [
    {
     "name": "stdout",
     "output_type": "stream",
     "text": [
      "Both conditions are True\n"
     ]
    }
   ],
   "source": [
    "# 6\n",
    "a = 200\n",
    "b = 33\n",
    "c = 500\n",
    "if a > b and c > a: # and is used to combine conditional statements:\n",
    "  print(\"Both conditions are True\")\n",
    "else:\n",
    "    print(\"both condition are false \")\n",
    "    \n"
   ]
  },
  {
   "cell_type": "code",
   "execution_count": 2,
   "id": "3608bd23-7e60-4b7c-9933-65affdfdef38",
   "metadata": {},
   "outputs": [
    {
     "name": "stdout",
     "output_type": "stream",
     "text": [
      "i is greater than 15\n"
     ]
    }
   ],
   "source": [
    "# 7\n",
    "i = 20\n",
    "if (i < 15):\n",
    "    print(\"i is smaller than 15\")\n",
    "else:\n",
    "    print(\"i is greater than 15\")\n",
    "\n"
   ]
  },
  {
   "cell_type": "code",
   "execution_count": 4,
   "id": "2243e058-7f2d-4ae9-b1f5-69ec61bd10ef",
   "metadata": {},
   "outputs": [
    {
     "name": "stdout",
     "output_type": "stream",
     "text": [
      " given cond. is true \n"
     ]
    }
   ],
   "source": [
    "# 8\n",
    "a=34\n",
    "b=67\n",
    "if a==b:\n",
    "    print(\" given cond. is true\")\n",
    "else :\n",
    "   print(\" given cond. is true \")\n"
   ]
  },
  {
   "cell_type": "code",
   "execution_count": 5,
   "id": "4c39cd0c-6823-4da0-a0db-751c34b76609",
   "metadata": {},
   "outputs": [
    {
     "name": "stdout",
     "output_type": "stream",
     "text": [
      "a is even number\n"
     ]
    }
   ],
   "source": [
    "# 9\n",
    "a=89076\n",
    "if a%2!=0:\n",
    "   print(\"a is odd number\")\n",
    "else:\n",
    "   print(\"a is even number\")"
   ]
  },
  {
   "cell_type": "code",
   "execution_count": 7,
   "id": "c795b779-1fc2-4b55-aaec-4ae7c21c5634",
   "metadata": {},
   "outputs": [
    {
     "name": "stdout",
     "output_type": "stream",
     "text": [
      "b is not greater than a\n"
     ]
    }
   ],
   "source": [
    "# 10\n",
    "a = 2546\n",
    "b = 897\n",
    "if b > a:\n",
    "  print(\"b is greater than a\")\n",
    "else:\n",
    "  print(\"b is not greater than a\")"
   ]
  }
 ],
 "metadata": {
  "kernelspec": {
   "display_name": "Python 3 (ipykernel)",
   "language": "python",
   "name": "python3"
  },
  "language_info": {
   "codemirror_mode": {
    "name": "ipython",
    "version": 3
   },
   "file_extension": ".py",
   "mimetype": "text/x-python",
   "name": "python",
   "nbconvert_exporter": "python",
   "pygments_lexer": "ipython3",
   "version": "3.11.7"
  }
 },
 "nbformat": 4,
 "nbformat_minor": 5
}
