{
 "cells": [
  {
   "cell_type": "markdown",
   "id": "60d93f9a-b361-41bb-9276-c2d347b43128",
   "metadata": {},
   "source": [
    "# python strings \n",
    "Strings in python are surrounded by either single quotation marks, or double quotation marks.\r",
    "You can display a string literal with the print() function\n",
    "\n",
    "\r\n"
   ]
  },
  {
   "cell_type": "code",
   "execution_count": 1,
   "id": "a47b5cb4-40d7-4420-91bc-c63efdec2ebf",
   "metadata": {},
   "outputs": [
    {
     "name": "stdout",
     "output_type": "stream",
     "text": [
      "welcome\n"
     ]
    }
   ],
   "source": [
    "# assign string to a variable \n",
    "a= \"welcome\"\n",
    "print(a)"
   ]
  },
  {
   "cell_type": "code",
   "execution_count": 2,
   "id": "d8e95c4b-df08-4b2d-ae64-8abdfe52f17e",
   "metadata": {},
   "outputs": [
    {
     "name": "stdout",
     "output_type": "stream",
     "text": [
      "Lorem ipsum dolor sit amet,\n",
      "consectetur adipiscing elit,\n",
      "sed do eiusmod tempor incididunt\n",
      "ut labore et dolore magna aliqua.\n"
     ]
    }
   ],
   "source": [
    "# Multiline Strings\n",
    "a = \"\"\"Lorem ipsum dolor sit amet,\n",
    "consectetur adipiscing elit,\n",
    "sed do eiusmod tempor incididunt\n",
    "ut labore et dolore magna aliqua.\"\"\"\n",
    "print(a)\n"
   ]
  },
  {
   "cell_type": "code",
   "execution_count": 6,
   "id": "b558911f-a146-4a33-a8bc-800610245258",
   "metadata": {},
   "outputs": [
    {
     "name": "stdout",
     "output_type": "stream",
     "text": [
      "e\n"
     ]
    }
   ],
   "source": [
    "a = \"Hello, World!\"\n",
    "print(a[1]) # Square brackets can be used to access elements of the string."
   ]
  },
  {
   "cell_type": "code",
   "execution_count": 8,
   "id": "bf36bde1-7c67-41db-a554-89690f7be9eb",
   "metadata": {},
   "outputs": [
    {
     "name": "stdout",
     "output_type": "stream",
     "text": [
      "WELCOME, INDIA!\n"
     ]
    }
   ],
   "source": [
    "# modify string \n",
    "#upper() method returns the string in upper case:\n",
    "a = \"welcome, India!\"\n",
    "print(a.upper())\n"
   ]
  },
  {
   "cell_type": "code",
   "execution_count": 10,
   "id": "bc12df75-51bb-43dc-845f-92bfcbe9bc43",
   "metadata": {},
   "outputs": [
    {
     "name": "stdout",
     "output_type": "stream",
     "text": [
      "welcome, india!\n"
     ]
    }
   ],
   "source": [
    "# lower() method returns the string in lower case\n",
    "a = \"welcome, India!\"\n",
    "print(a.lower())\n"
   ]
  },
  {
   "cell_type": "code",
   "execution_count": 11,
   "id": "80ad58b5-7908-495d-b0c2-e6e44d84f323",
   "metadata": {},
   "outputs": [
    {
     "name": "stdout",
     "output_type": "stream",
     "text": [
      "welcome, India!\n"
     ]
    }
   ],
   "source": [
    "a = \"welcome, India!\"\n",
    "print(a.strip()) "
   ]
  },
  {
   "cell_type": "code",
   "execution_count": 14,
   "id": "be00827f-4875-42e4-840b-7141ae317c1f",
   "metadata": {},
   "outputs": [
    {
     "name": "stdout",
     "output_type": "stream",
     "text": [
      "Relcome, India!\n"
     ]
    }
   ],
   "source": [
    "# replace() method replaces a string with another string:\n",
    "a = \"welcome, India!\"\n",
    "print(a.replace(\"w\", \"R\"))\n",
    "\n"
   ]
  },
  {
   "cell_type": "code",
   "execution_count": 15,
   "id": "f8481f7e-f6b2-43ed-95b5-a42abf22f1d4",
   "metadata": {},
   "outputs": [
    {
     "name": "stdout",
     "output_type": "stream",
     "text": [
      "lco\n"
     ]
    }
   ],
   "source": [
    "# slicing \n",
    "# Specify the start index and the end index, separated by a colon, to return a part of the string\n",
    "a = \"welcome, India!\"\n",
    "print(a[2:5])\n"
   ]
  },
  {
   "cell_type": "code",
   "execution_count": 16,
   "id": "b5ab13fa-72b7-41f1-b9e6-206e466b1e25",
   "metadata": {},
   "outputs": [
    {
     "name": "stdout",
     "output_type": "stream",
     "text": [
      "lcome, India!\n"
     ]
    }
   ],
   "source": [
    "a = \"welcome, India!\"\n",
    "print(a[2:])\n"
   ]
  },
  {
   "cell_type": "code",
   "execution_count": 20,
   "id": "37e9cc7e-7ab3-4e90-8c15-f6bfb24228c6",
   "metadata": {},
   "outputs": [
    {
     "name": "stdout",
     "output_type": "stream",
     "text": [
      "('My name is Reshma I am ', 'my age is 21')\n"
     ]
    }
   ],
   "source": [
    "# format string \n",
    "age = 21\n",
    "txt = \"My name is Reshma I am \" ,\"my age is 21\"\n",
    "print(txt)\n"
   ]
  },
  {
   "cell_type": "code",
   "execution_count": 21,
   "id": "2277c15b-6328-4da5-995e-19e1fab8979b",
   "metadata": {},
   "outputs": [
    {
     "name": "stdout",
     "output_type": "stream",
     "text": [
      "My name is reshma, I am 21\n"
     ]
    }
   ],
   "source": [
    "age = 21\n",
    "txt = f\"My name is reshma, I am {age}\"\n",
    "print(txt)\n"
   ]
  },
  {
   "cell_type": "markdown",
   "id": "18eaec0d-65d1-4faf-86b0-a2c6c39edb9b",
   "metadata": {},
   "source": [
    "# string methods"
   ]
  },
  {
   "cell_type": "code",
   "execution_count": 22,
   "id": "a2fb0827-2193-4d49-9a47-43731a47b7b1",
   "metadata": {},
   "outputs": [
    {
     "name": "stdout",
     "output_type": "stream",
     "text": [
      "       vilas        \n"
     ]
    }
   ],
   "source": [
    "#1 center()=Returns a centered string\n",
    "txt = \"vilas\"\n",
    "x = txt.center(20)\n",
    "print(x)\n"
   ]
  },
  {
   "cell_type": "code",
   "execution_count": 23,
   "id": "9348accd-f2e2-4f09-8c8e-aded5d2616e7",
   "metadata": {},
   "outputs": [
    {
     "name": "stdout",
     "output_type": "stream",
     "text": [
      "1\n"
     ]
    }
   ],
   "source": [
    "# 2 count()\t=Returns the number of times a specified value occurs in a string\n",
    "txt = \"I love flowers, rose are my favorite flower\"\n",
    "x = txt.count(\"rose\")\n",
    "print(x)\n"
   ]
  },
  {
   "cell_type": "code",
   "execution_count": 24,
   "id": "13e3d0f3-ea1a-4d5c-8a28-3ec05d96a08d",
   "metadata": {},
   "outputs": [
    {
     "name": "stdout",
     "output_type": "stream",
     "text": [
      "b'My name is radha'\n"
     ]
    }
   ],
   "source": [
    "#3 encode()=Returns an encoded version of the string\n",
    "txt = \"My name is radha\"\n",
    "x = txt.encode()\n",
    "print(x)"
   ]
  },
  {
   "cell_type": "code",
   "execution_count": 25,
   "id": "2bf1cca5-6056-4d47-a884-717fa7bdec49",
   "metadata": {},
   "outputs": [
    {
     "name": "stdout",
     "output_type": "stream",
     "text": [
      "My name is reshma, I am 21\n"
     ]
    }
   ],
   "source": [
    "# 4 format()= Formats specified values in a string\n",
    "age = 21\n",
    "txt = f\"My name is reshma, I am {age}\"\n",
    "print(txt)\n"
   ]
  },
  {
   "cell_type": "code",
   "execution_count": 26,
   "id": "52af345f-3527-4f34-a7d6-100b06052f13",
   "metadata": {},
   "outputs": [
    {
     "name": "stdout",
     "output_type": "stream",
     "text": [
      "True\n"
     ]
    }
   ],
   "source": [
    "# 5 isalnum()=Returns True if all characters in the string are alphanumeric\n",
    "txt = \"Company12\"\n",
    "x = txt.isalnum()\n",
    "print(x)\n"
   ]
  },
  {
   "cell_type": "code",
   "execution_count": 27,
   "id": "4b0fb836-06cb-4cbe-915d-274c44830c1c",
   "metadata": {},
   "outputs": [
    {
     "name": "stdout",
     "output_type": "stream",
     "text": [
      "True\n"
     ]
    }
   ],
   "source": [
    "# 6 islower()=Returns True if all characters in the string are lower case\n",
    "txt = \"hello world!\"\n",
    "x = txt.islower()\n",
    "print(x)\n"
   ]
  },
  {
   "cell_type": "code",
   "execution_count": 28,
   "id": "2f318ea7-6fb0-43b9-9333-80dbd06152eb",
   "metadata": {},
   "outputs": [
    {
     "name": "stdout",
     "output_type": "stream",
     "text": [
      "True\n"
     ]
    }
   ],
   "source": [
    "# 7 isidentifier()=Returns True if the string is an identifier\n",
    "txt = \"Demo\"\n",
    "x = txt.isidentifier()\n",
    "print(x)\n"
   ]
  },
  {
   "cell_type": "code",
   "execution_count": 29,
   "id": "4f477d06-765a-4598-aa8c-056bf64ce643",
   "metadata": {},
   "outputs": [
    {
     "name": "stdout",
     "output_type": "stream",
     "text": [
      "True\n"
     ]
    }
   ],
   "source": [
    "# 8 isspace()=Returns True if all characters in the string are whitespaces\n",
    "txt = \"   \"\n",
    "x = txt.isspace()\n",
    "print(x)\n"
   ]
  },
  {
   "cell_type": "code",
   "execution_count": 33,
   "id": "ed6c46fc-a7b1-4c92-a97d-f98983118aea",
   "metadata": {},
   "outputs": [
    {
     "name": "stdout",
     "output_type": "stream",
     "text": [
      "banana     is my favorite fruit.\n"
     ]
    }
   ],
   "source": [
    "# 9 ljust()=Returns a left justified version of the string\n",
    "txt = \"banana\"\n",
    "x = txt.ljust(10)\n",
    "print(x, \"is my favorite fruit.\")\n"
   ]
  },
  {
   "cell_type": "code",
   "execution_count": 34,
   "id": "26298972-f9de-4d2c-bda3-44a782526664",
   "metadata": {},
   "outputs": [
    {
     "name": "stdout",
     "output_type": "stream",
     "text": [
      "True\n"
     ]
    }
   ],
   "source": [
    "# 10 isdigit()=Returns True if all characters in the string are digits\n",
    "txt = \"50800\"\n",
    "x = txt.isdigit()\n",
    "print(x)\n"
   ]
  }
 ],
 "metadata": {
  "kernelspec": {
   "display_name": "Python 3 (ipykernel)",
   "language": "python",
   "name": "python3"
  },
  "language_info": {
   "codemirror_mode": {
    "name": "ipython",
    "version": 3
   },
   "file_extension": ".py",
   "mimetype": "text/x-python",
   "name": "python",
   "nbconvert_exporter": "python",
   "pygments_lexer": "ipython3",
   "version": "3.11.7"
  }
 },
 "nbformat": 4,
 "nbformat_minor": 5
}
