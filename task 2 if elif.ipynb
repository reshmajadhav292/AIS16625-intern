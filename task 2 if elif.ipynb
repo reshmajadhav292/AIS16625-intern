{
 "cells": [
  {
   "cell_type": "markdown",
   "id": "b23ee55f-1f58-4d68-92d5-6a35a92725c3",
   "metadata": {},
   "source": [
    "# if elif statement \n",
    "if the previous conditions were not true, then we  try elif condition.\n",
    "and it is declare using elif key word\r\n"
   ]
  },
  {
   "cell_type": "code",
   "execution_count": 4,
   "id": "07d31fc5-63c9-44fa-92e5-3a06bc8189ec",
   "metadata": {},
   "outputs": [
    {
     "name": "stdout",
     "output_type": "stream",
     "text": [
      "a and b are equal\n"
     ]
    }
   ],
   "source": [
    "# 1\n",
    "a = 33\n",
    "b = 33\n",
    "if b > a:\n",
    "  print(\"b is greater than a\")\n",
    "elif a == b:\n",
    "  print(\"a and b are equal\")\n"
   ]
  },
  {
   "cell_type": "code",
   "execution_count": 5,
   "id": "d51dee5f-870c-4ca9-a70a-2f76c3805903",
   "metadata": {},
   "outputs": [
    {
     "name": "stdout",
     "output_type": "stream",
     "text": [
      "b is greater than a\n"
     ]
    }
   ],
   "source": [
    "#2\n",
    "a = 33\n",
    "b = 4678\n",
    "if b > a:\n",
    "  print(\"b is greater than a\")\n",
    "elif a == b:\n",
    "  print(\"a and b are equal\")\n"
   ]
  },
  {
   "cell_type": "code",
   "execution_count": 1,
   "id": "340c71cd-4602-4b97-92ef-7536d6d835df",
   "metadata": {},
   "outputs": [
    {
     "name": "stdout",
     "output_type": "stream",
     "text": [
      " students pass with distinction\n"
     ]
    }
   ],
   "source": [
    "# 3\n",
    "a = 90\n",
    "b = 87\n",
    "if a>= 75 or b>=75 :\n",
    "  print(\" students pass with distinction\")\n",
    "elif a <75 or b<75 :\n",
    "  print(\" students pass with distinction\")\n"
   ]
  },
  {
   "cell_type": "code",
   "execution_count": 4,
   "id": "6131622f-2bf0-4b8e-a987-500fa2e7da4e",
   "metadata": {},
   "outputs": [
    {
     "name": "stdout",
     "output_type": "stream",
     "text": [
      "a is even number\n"
     ]
    }
   ],
   "source": [
    "# 4\n",
    "a = 34\n",
    "if a%2==0:\n",
    "  print(\"a is even number\")\n",
    "elif a%2!=0:\n",
    "  print(\"a is odd number\")"
   ]
  },
  {
   "cell_type": "code",
   "execution_count": 6,
   "id": "9288a518-6b8d-4974-9253-84807f3592a3",
   "metadata": {},
   "outputs": [
    {
     "name": "stdout",
     "output_type": "stream",
     "text": [
      "given number is not equal to a\n"
     ]
    }
   ],
   "source": [
    "# 5\n",
    "a= 9878\n",
    "if a==5787:\n",
    "   print(\"given number is equal to a\")\n",
    "elif a!=5787:\n",
    "   print(\"given number is not equal to a\")\n"
   ]
  },
  {
   "cell_type": "code",
   "execution_count": 7,
   "id": "e7eb9ac5-8bb3-45f3-865f-3a446032e547",
   "metadata": {},
   "outputs": [
    {
     "name": "stdout",
     "output_type": "stream",
     "text": [
      "but not above 20.\n"
     ]
    }
   ],
   "source": [
    "# 6\n",
    "x=4\n",
    "if x > 20:\n",
    "    print(\"and also above 20!\")\n",
    "elif x<20:\n",
    "    print(\"but not above 20.\")\n"
   ]
  },
  {
   "cell_type": "code",
   "execution_count": 8,
   "id": "ea855083-8317-40c7-8ede-4cac4587f090",
   "metadata": {},
   "outputs": [
    {
     "name": "stdout",
     "output_type": "stream",
     "text": [
      "you are adult\n"
     ]
    }
   ],
   "source": [
    "# 7\n",
    "age=21\n",
    "if age<18:\n",
    "   print(\"you are minor \")\n",
    "elif age>18:\n",
    "    print(\"you are adult\")"
   ]
  },
  {
   "cell_type": "code",
   "execution_count": 9,
   "id": "2d180172-0b64-439a-87ee-af8383c2c182",
   "metadata": {},
   "outputs": [
    {
     "name": "stdout",
     "output_type": "stream",
     "text": [
      "The number is positive.\n"
     ]
    }
   ],
   "source": [
    "# 8\n",
    "num=8678\n",
    "if num > 0:\n",
    "    print(\"The number is positive.\")\n",
    "elif num == 0:\n",
    "    print(\"The number is zero.\")"
   ]
  },
  {
   "cell_type": "code",
   "execution_count": 10,
   "id": "1419d56a-8bf0-4ef6-8d17-e7e11c90df3d",
   "metadata": {},
   "outputs": [
    {
     "name": "stdout",
     "output_type": "stream",
     "text": [
      "It's warm outside.\n"
     ]
    }
   ],
   "source": [
    "# 9\n",
    "temperature = 25\n",
    "if temperature > 30:\n",
    "    print(\"It's hot outside.\")\n",
    "elif temperature > 20:\n",
    "    print(\"It's warm outside.\")\n"
   ]
  },
  {
   "cell_type": "code",
   "execution_count": 12,
   "id": "858511d5-1487-4ba5-84c4-c44c388a9724",
   "metadata": {},
   "outputs": [
    {
     "name": "stdout",
     "output_type": "stream",
     "text": [
      "Good afternoon!\n"
     ]
    }
   ],
   "source": [
    "#10\n",
    "hour = 14\n",
    "if hour < 12:\n",
    "    print(\"Good morning!\")\n",
    "elif hour < 18:\n",
    "    print(\"Good afternoon!\")\n"
   ]
  },
  {
   "cell_type": "code",
   "execution_count": null,
   "id": "5b4b484a-5a07-46b0-80c9-d2a4ae8eb4be",
   "metadata": {},
   "outputs": [],
   "source": []
  }
 ],
 "metadata": {
  "kernelspec": {
   "display_name": "Python 3 (ipykernel)",
   "language": "python",
   "name": "python3"
  },
  "language_info": {
   "codemirror_mode": {
    "name": "ipython",
    "version": 3
   },
   "file_extension": ".py",
   "mimetype": "text/x-python",
   "name": "python",
   "nbconvert_exporter": "python",
   "pygments_lexer": "ipython3",
   "version": "3.11.7"
  }
 },
 "nbformat": 4,
 "nbformat_minor": 5
}
