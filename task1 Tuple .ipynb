{
 "cells": [
  {
   "cell_type": "markdown",
   "id": "de9685dd-56c1-4aba-99db-bb6189d127b5",
   "metadata": {},
   "source": [
    "# Python Tuples : \n",
    "#Immutable - can not change .\n",
    "#Tuples are used to store multiple items in a single variable.\n",
    "#Tuple items are indexed, the first item has index [0] .\n",
    "#In tuple items have a defined order, and that order will not change. \n",
    "#It is declared using () brckets."
   ]
  },
  {
   "cell_type": "code",
   "execution_count": 1,
   "id": "36f1e584-9303-4278-863d-daade761b5c6",
   "metadata": {},
   "outputs": [
    {
     "data": {
      "text/plain": [
       "('Mrunal', 'Aaditi', 'Reshma')"
      ]
     },
     "execution_count": 1,
     "metadata": {},
     "output_type": "execute_result"
    }
   ],
   "source": [
    "# tuple creation ()\n",
    "tuple1 = (\"Mrunal\", \"Aaditi\", \"Reshma\")\n",
    "tuple1"
   ]
  },
  {
   "cell_type": "code",
   "execution_count": 2,
   "id": "6713b43a-d7a8-4240-acdc-16d97f39925a",
   "metadata": {},
   "outputs": [
    {
     "data": {
      "text/plain": [
       "tuple"
      ]
     },
     "execution_count": 2,
     "metadata": {},
     "output_type": "execute_result"
    }
   ],
   "source": [
    "# type of tuple\n",
    "type(tuple1)"
   ]
  },
  {
   "cell_type": "code",
   "execution_count": 3,
   "id": "f01a05ab-46a2-47f4-9873-527db319e2a9",
   "metadata": {},
   "outputs": [
    {
     "data": {
      "text/plain": [
       "3"
      ]
     },
     "execution_count": 3,
     "metadata": {},
     "output_type": "execute_result"
    }
   ],
   "source": [
    "# tuple length \n",
    "# len()=it determine how many item in tuple \n",
    "tuple = (\"Mrunal\", \"Aaditi\", \"Reshma\")\n",
    "len(tuple)"
   ]
  },
  {
   "cell_type": "code",
   "execution_count": 7,
   "id": "ecc0c448-3374-4cc4-8895-2a208513b431",
   "metadata": {},
   "outputs": [
    {
     "data": {
      "text/plain": [
       "(1, 5, 7, 9, 3)"
      ]
     },
     "execution_count": 7,
     "metadata": {},
     "output_type": "execute_result"
    }
   ],
   "source": [
    "# tuple of integer \n",
    "tuple2 = (1, 5, 7, 9, 3)\n",
    "tuple2"
   ]
  },
  {
   "cell_type": "code",
   "execution_count": 8,
   "id": "51dd0e65-ac84-42c1-a7ea-fb9d90497b84",
   "metadata": {},
   "outputs": [
    {
     "data": {
      "text/plain": [
       "5"
      ]
     },
     "execution_count": 8,
     "metadata": {},
     "output_type": "execute_result"
    }
   ],
   "source": [
    "len(tuple2)"
   ]
  },
  {
   "cell_type": "code",
   "execution_count": 23,
   "id": "3c47438a-c28e-4ffb-97b5-524788f55f94",
   "metadata": {},
   "outputs": [
    {
     "data": {
      "text/plain": [
       "('reshu',)"
      ]
     },
     "execution_count": 23,
     "metadata": {},
     "output_type": "execute_result"
    }
   ],
   "source": [
    "# tuple with one item \n",
    "t1=(\"reshu\",)\n",
    "t1"
   ]
  },
  {
   "cell_type": "code",
   "execution_count": 10,
   "id": "364b5607-9f00-435b-b79a-500e610b747a",
   "metadata": {},
   "outputs": [
    {
     "data": {
      "text/plain": [
       "tuple"
      ]
     },
     "execution_count": 10,
     "metadata": {},
     "output_type": "execute_result"
    }
   ],
   "source": [
    "type(tuple2)"
   ]
  },
  {
   "cell_type": "code",
   "execution_count": 11,
   "id": "a9b45044-661a-4ab9-a5f5-0ceb345281f1",
   "metadata": {},
   "outputs": [
    {
     "data": {
      "text/plain": [
       "('Anushka', 23, 'veda', 18, 2)"
      ]
     },
     "execution_count": 11,
     "metadata": {},
     "output_type": "execute_result"
    }
   ],
   "source": [
    "# tuple with mixed datatypes \n",
    "tuple=(\"Anushka\",23,\"veda\",18,2)\n",
    "tuple\n"
   ]
  },
  {
   "cell_type": "code",
   "execution_count": 12,
   "id": "b9ba03b2-5c98-4a7f-9d12-4ebbc7e13a45",
   "metadata": {},
   "outputs": [
    {
     "data": {
      "text/plain": [
       "'veda'"
      ]
     },
     "execution_count": 12,
     "metadata": {},
     "output_type": "execute_result"
    }
   ],
   "source": [
    "# Accesing the items \n",
    "# You can access tuple items by referring to the index number, inside square bracket \n",
    "tuple[2]"
   ]
  },
  {
   "cell_type": "code",
   "execution_count": 13,
   "id": "ed1b7e04-a003-4632-b4c4-18a0934a30f9",
   "metadata": {},
   "outputs": [
    {
     "data": {
      "text/plain": [
       "18"
      ]
     },
     "execution_count": 13,
     "metadata": {},
     "output_type": "execute_result"
    }
   ],
   "source": [
    "# negative indexing \n",
    "# it means start  from the end \n",
    "# -1 refers to the last item, -2 refers to the second last item etc.\n",
    "tuple=(\"Anushka\",23,\"veda\",18,2)\n",
    "tuple[-2]"
   ]
  },
  {
   "cell_type": "code",
   "execution_count": 14,
   "id": "73429443-cb3a-4346-a8aa-8dacec2228af",
   "metadata": {},
   "outputs": [
    {
     "data": {
      "text/plain": [
       "(23, 'veda')"
      ]
     },
     "execution_count": 14,
     "metadata": {},
     "output_type": "execute_result"
    }
   ],
   "source": [
    "# range indexed \n",
    "#You can specify a range of indexes by specifying where to start and where to end the range.When specifying a range, the return value will be a new tuple with the specified items.\n",
    "tuple[1:3]\n"
   ]
  },
  {
   "cell_type": "code",
   "execution_count": 15,
   "id": "182bd371-4fa0-41b2-b1df-a752a150ec37",
   "metadata": {},
   "outputs": [
    {
     "data": {
      "text/plain": [
       "('Anushka', 23, 'veda', 18)"
      ]
     },
     "execution_count": 15,
     "metadata": {},
     "output_type": "execute_result"
    }
   ],
   "source": [
    "tuple[:4]"
   ]
  },
  {
   "cell_type": "code",
   "execution_count": 24,
   "id": "358ffdfe-dd06-46cb-8ee4-508e4881391d",
   "metadata": {},
   "outputs": [
    {
     "name": "stdout",
     "output_type": "stream",
     "text": [
      "('apple', 'mango', 'grapes', 'orange')\n"
     ]
    }
   ],
   "source": [
    "# add items into the tuple :\n",
    "# Add tuple to a tuple\n",
    "# if you want to add one item, (or many) create a new tuple with the item(s) and add it to the existing tuple:\n",
    "thistuple = (\"apple\", \"mango\", \"grapes\")\n",
    "y = (\"orange\",)\n",
    "thistuple += y\n",
    "print(thistuple)"
   ]
  },
  {
   "cell_type": "code",
   "execution_count": 25,
   "id": "fc227334-7813-4470-9dd3-344e5e2ed8bd",
   "metadata": {},
   "outputs": [
    {
     "name": "stdout",
     "output_type": "stream",
     "text": [
      "('Mrunal', 'Aaditi', 'Reshma', 1, 5, 7, 9, 3)\n"
     ]
    }
   ],
   "source": [
    "# to join two or more tuple use + operator \n",
    "t2=tuple1+tuple2\n",
    "print(t2)"
   ]
  },
  {
   "cell_type": "code",
   "execution_count": 3,
   "id": "29ca0111-02b8-48da-ba4c-18abe0ca45c5",
   "metadata": {},
   "outputs": [
    {
     "data": {
      "text/plain": [
       "(1, 2, 3, 1, 2, 3, 1, 2, 3)"
      ]
     },
     "execution_count": 3,
     "metadata": {},
     "output_type": "execute_result"
    }
   ],
   "source": [
    "# muktiply tuples\n",
    "# If you want to multiply the content of a tuple a given number of times, you can use the * operator\n",
    "t1=(1,2,3)\n",
    "t3 = t1*3\n",
    "t3\n"
   ]
  },
  {
   "cell_type": "code",
   "execution_count": 5,
   "id": "9c6a8567-8d8a-4dcc-97e3-063bcda4b25d",
   "metadata": {},
   "outputs": [
    {
     "name": "stdout",
     "output_type": "stream",
     "text": [
      "apple\n",
      "banana\n",
      "['cherry', 'strawberry', 'raspberry']\n"
     ]
    }
   ],
   "source": [
    "# If the number of variables is less than the number of values then we use *(Asterisk) \n",
    "\n",
    "fruits = (\"apple\", \"banana\", \"cherry\", \"strawberry\", \"raspberry\")\n",
    "(green, yellow, *pink) = fruits\n",
    "print(green)\n",
    "print(yellow)\n",
    "print(pink)"
   ]
  },
  {
   "cell_type": "code",
   "execution_count": 6,
   "id": "1a29c157-b786-466f-9da0-76d063a8f8f3",
   "metadata": {},
   "outputs": [
    {
     "name": "stdout",
     "output_type": "stream",
     "text": [
      "Adity\n",
      "reva\n",
      "['madhu', 'vrunda', 'manjiri']\n"
     ]
    }
   ],
   "source": [
    "names= ( \"Adity\",\"reva\",\"madhu\",\"vrunda\",\"manjiri\")\n",
    "(anu, gayu,*nitya) = names \n",
    "print(anu)\n",
    "print(gayu)\n",
    "print(nitya)"
   ]
  },
  {
   "cell_type": "markdown",
   "id": "f76ebd31-d34c-4227-b236-f574bb6a38cc",
   "metadata": {},
   "source": [
    "#Tuple methods :\n",
    "1) count()\n",
    "2) index()"
   ]
  },
  {
   "cell_type": "code",
   "execution_count": 7,
   "id": "30776ae9-0bf9-46d0-91eb-8213e98b5a8a",
   "metadata": {},
   "outputs": [
    {
     "data": {
      "text/plain": [
       "3"
      ]
     },
     "execution_count": 7,
     "metadata": {},
     "output_type": "execute_result"
    }
   ],
   "source": [
    "# 1 count = Returns the number of times a specified value occurs in a tuple\n",
    "my_tuple=(1,1,1,2,3,4,5)\n",
    "a=my_tuple.count(1)\n",
    "a"
   ]
  },
  {
   "cell_type": "code",
   "execution_count": 9,
   "id": "e626c71d-7bfd-4904-9124-cbd2d4b75691",
   "metadata": {},
   "outputs": [
    {
     "data": {
      "text/plain": [
       "3"
      ]
     },
     "execution_count": 9,
     "metadata": {},
     "output_type": "execute_result"
    }
   ],
   "source": [
    "rj=(\"Adity\",\"reva\",\"madhu\",\"vrunda\",\"manjiri\",\"vrunda\",\"veda\",\"vrunda\")\n",
    "g=rj.count(\"vrunda\")\n",
    "g"
   ]
  },
  {
   "cell_type": "code",
   "execution_count": 10,
   "id": "f1098e96-8736-4019-83ba-434dd5013f43",
   "metadata": {},
   "outputs": [
    {
     "data": {
      "text/plain": [
       "3"
      ]
     },
     "execution_count": 10,
     "metadata": {},
     "output_type": "execute_result"
    }
   ],
   "source": [
    "#2 index= Searches the tuple for a specified value and returns the position of where it was found\n",
    "rj=(\"Adity\",\"reva\",\"madhu\",\"vrunda\",\"manjiri\",\"vrunda\",\"veda\",\"vrunda\")\n",
    "g=rj.index(\"vrunda\")\n",
    "g"
   ]
  },
  {
   "cell_type": "code",
   "execution_count": 11,
   "id": "4c329ba8-67f2-450b-b038-a6591087c1d0",
   "metadata": {},
   "outputs": [
    {
     "data": {
      "text/plain": [
       "3"
      ]
     },
     "execution_count": 11,
     "metadata": {},
     "output_type": "execute_result"
    }
   ],
   "source": [
    "my_tuple=(1,1,1,2,3,4,5)\n",
    "a=my_tuple.count(1)\n",
    "a"
   ]
  }
 ],
 "metadata": {
  "kernelspec": {
   "display_name": "Python 3 (ipykernel)",
   "language": "python",
   "name": "python3"
  },
  "language_info": {
   "codemirror_mode": {
    "name": "ipython",
    "version": 3
   },
   "file_extension": ".py",
   "mimetype": "text/x-python",
   "name": "python",
   "nbconvert_exporter": "python",
   "pygments_lexer": "ipython3",
   "version": "3.11.7"
  }
 },
 "nbformat": 4,
 "nbformat_minor": 5
}
