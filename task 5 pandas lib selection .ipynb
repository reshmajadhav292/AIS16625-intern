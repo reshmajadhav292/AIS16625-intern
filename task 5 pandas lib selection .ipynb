{
 "cells": [
  {
   "cell_type": "code",
   "execution_count": 14,
   "id": "c22fccef-465a-4723-af5f-4ed39508d0b0",
   "metadata": {},
   "outputs": [
    {
     "name": "stdout",
     "output_type": "stream",
     "text": [
      "0    1\n",
      "1    2\n",
      "2    3\n",
      "3    4\n",
      "Name: A, dtype: int64\n",
      "A    1\n",
      "B    5\n",
      "C    9\n",
      "Name: 0, dtype: int64\n",
      "1\n",
      "1\n",
      "   A  B   C\n",
      "2  3  7  11\n",
      "3  4  8  12\n"
     ]
    }
   ],
   "source": [
    "# DataFrame Column and Row Selection:\n",
    "# Import pandas\n",
    "import pandas as pd\n",
    "# Create a DataFrame (example)\n",
    "data = {\n",
    "    'A': [1, 2, 3, 4],\n",
    "    'B': [5, 6, 7, 8],\n",
    "    'C': [9, 10, 11, 12]\n",
    "}\n",
    "df = pd.DataFrame(data)\n",
    "\n",
    "# Selecting columns by name\n",
    "print(df['A'])\n",
    "\n",
    "# Selecting rows by label using .loc\n",
    "print(df.loc[0])\n",
    "\n",
    "# Selecting rows and columns using .loc\n",
    "print(df.loc[0, 'A'])\n",
    "\n",
    "# Selecting rows and columns by position using .iloc\n",
    "print(df.iloc[0, 0])\n",
    "\n",
    "# Conditional selection\n",
    "print(df[df['A'] > 2])\n"
   ]
  },
  {
   "cell_type": "code",
   "execution_count": 7,
   "id": "5e721802-43c6-460c-95d0-f4559a7e9d5f",
   "metadata": {},
   "outputs": [
    {
     "data": {
      "text/plain": [
       "0     80\n",
       "1     96\n",
       "2    112\n",
       "3    128\n",
       "Name: B, dtype: int64"
      ]
     },
     "execution_count": 7,
     "metadata": {},
     "output_type": "execute_result"
    }
   ],
   "source": [
    "# Adding, Deleting, and Updating Columns:\n",
    "# Adding a new column\n",
    "df['D'] = [13, 14, 15, 16]\n",
    "\n",
    "# Deleting a column\n",
    "del df['D']\n",
    "# Updating a column\n",
    "df['B'] = df['B'] * 2\n",
    "df['B']"
   ]
  },
  {
   "cell_type": "code",
   "execution_count": 10,
   "id": "76db03ec-bb82-45f9-8198-37640e9d641f",
   "metadata": {},
   "outputs": [],
   "source": [
    "# DataFrame Index Operations:\n",
    "# Set a new index\n",
    "s=df.set_index('A', inplace=True)\n",
    "\n",
    "# Reset index\n",
    "df.reset_index(inplace=True)\n",
    "\n",
    "# Remove index name\n",
    "df.index.name = None\n"
   ]
  },
  {
   "cell_type": "code",
   "execution_count": 11,
   "id": "89cec194-e0ff-402d-8a6c-7e0159f1846a",
   "metadata": {},
   "outputs": [
    {
     "name": "stdout",
     "output_type": "stream",
     "text": [
      "      calories  duration\n",
      "day1       420        50\n",
      "day2       380        40\n",
      "day3       390        45\n"
     ]
    }
   ],
   "source": [
    "import pandas as pd\n",
    "\n",
    "data = {\n",
    "  \"calories\": [420, 380, 390],\n",
    "  \"duration\": [50, 40, 45]\n",
    "}\n",
    "\n",
    "df = pd.DataFrame(data, index = [\"day1\", \"day2\", \"day3\"])\n",
    "\n",
    "print(df) "
   ]
  },
  {
   "cell_type": "code",
   "execution_count": 13,
   "id": "564105bd-36eb-4da8-b2ce-dc3b46cc2669",
   "metadata": {},
   "outputs": [
    {
     "name": "stdout",
     "output_type": "stream",
     "text": [
      "   A  B   C  D   E         F\n",
      "0  1  5   6 -4   5  0.200000\n",
      "1  2  6   8 -4  12  0.333333\n",
      "2  3  7  10 -4  21  0.428571\n",
      "3  4  8  12 -4  32  0.500000\n"
     ]
    }
   ],
   "source": [
    "# Import pandas\n",
    "import pandas as pd\n",
    "\n",
    "# Create a DataFrame (example)\n",
    "data = {\n",
    "    'A': [1, 2, 3, 4],\n",
    "    'B': [5, 6, 7, 8]\n",
    "}\n",
    "df = pd.DataFrame(data)\n",
    "\n",
    "# Addition\n",
    "df['C'] = df['A'] + df['B']\n",
    "df['C']\n",
    "# Subtraction\n",
    "df['D'] = df['A'] - df['B']\n",
    "df['D'] \n",
    "# Multiplication\n",
    "df['E'] = df['A'] * df['B']\n",
    "df['E']\n",
    "# Division\n",
    "df['F'] = df['A'] / df['B']\n",
    "df['F']\n",
    "print(df)\n"
   ]
  },
  {
   "cell_type": "code",
   "execution_count": null,
   "id": "e9e6a11a-58a6-4daa-9c73-96b301176e27",
   "metadata": {},
   "outputs": [],
   "source": []
  }
 ],
 "metadata": {
  "kernelspec": {
   "display_name": "Python 3 (ipykernel)",
   "language": "python",
   "name": "python3"
  },
  "language_info": {
   "codemirror_mode": {
    "name": "ipython",
    "version": 3
   },
   "file_extension": ".py",
   "mimetype": "text/x-python",
   "name": "python",
   "nbconvert_exporter": "python",
   "pygments_lexer": "ipython3",
   "version": "3.11.7"
  },
  "widgets": {
   "application/vnd.jupyter.widget-state+json": {
    "state": {},
    "version_major": 2,
    "version_minor": 0
   }
  }
 },
 "nbformat": 4,
 "nbformat_minor": 5
}
