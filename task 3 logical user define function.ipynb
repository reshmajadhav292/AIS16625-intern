{
 "cells": [
  {
   "cell_type": "code",
   "execution_count": 1,
   "id": "32afedb9-fe83-41a3-9c82-f55e966478c1",
   "metadata": {},
   "outputs": [
    {
     "name": "stdin",
     "output_type": "stream",
     "text": [
      "Enter a number:  45\n"
     ]
    },
    {
     "name": "stdout",
     "output_type": "stream",
     "text": [
      "The number is Odd.\n"
     ]
    }
   ],
   "source": [
    "# Odd even\n",
    "def odd_even(num):\n",
    "    if num % 2 ==0:\n",
    "        return(\"Even\")\n",
    "    else:\n",
    "        return(\"Odd\")\n",
    "num = int(input(\"Enter a number: \"))\n",
    "print(f\"The number is {odd_even(num)}.\")"
   ]
  },
  {
   "cell_type": "code",
   "execution_count": 2,
   "id": "684c8506-a8e7-47e5-a1e6-0f9fceb81258",
   "metadata": {},
   "outputs": [
    {
     "name": "stdin",
     "output_type": "stream",
     "text": [
      "Enter a number:  25\n"
     ]
    },
    {
     "name": "stdout",
     "output_type": "stream",
     "text": [
      "The grades for score is F.\n"
     ]
    }
   ],
   "source": [
    "# Grades\n",
    "def grades(score):\n",
    "    if score >= 90:\n",
    "        return(\"A\")\n",
    "    elif score >= 80:\n",
    "        return(\"B\")\n",
    "    elif score >= 70:\n",
    "        return(\"C\")\n",
    "    elif score >=60:\n",
    "        return(\"D\")\n",
    "    else:\n",
    "        return(\"F\")\n",
    "score=float(input(\"Enter a number: \"))\n",
    "print(f\"The grades for score is {grades(score)}.\")\n",
    "               "
   ]
  },
  {
   "cell_type": "code",
   "execution_count": 3,
   "id": "bc86fd85-936a-4c50-9f1d-d31dca52e31c",
   "metadata": {},
   "outputs": [
    {
     "name": "stdin",
     "output_type": "stream",
     "text": [
      "Enter a number to calculate its factorial:  25\n"
     ]
    },
    {
     "name": "stdout",
     "output_type": "stream",
     "text": [
      "The factorial of number is: 15511210043330985984000000\n"
     ]
    }
   ],
   "source": [
    "# Factorial function: \n",
    "def fact(n):\n",
    "    if n == 0:\n",
    "       return(1)\n",
    "    else:\n",
    "       return(n * fact(n-1))\n",
    "n = int(input(\"Enter a number to calculate its factorial: \"))\n",
    "print(f\"The factorial of number is: {fact(n)}\")"
   ]
  },
  {
   "cell_type": "code",
   "execution_count": 4,
   "id": "120cc888-4632-4030-882a-6b0c54645d7b",
   "metadata": {},
   "outputs": [
    {
     "name": "stdin",
     "output_type": "stream",
     "text": [
      "Enter year to check if it is a leap year: 1996\n"
     ]
    },
    {
     "name": "stdout",
     "output_type": "stream",
     "text": [
      "1996 is a leap year.\n"
     ]
    }
   ],
   "source": [
    "# leap year\n",
    "def leap_year(year):\n",
    "    if year % 4 == 0:\n",
    "        if year % 100 == 0:\n",
    "            if year % 400 == 0:\n",
    "                return True\n",
    "            else: \n",
    "                return False\n",
    "        else:\n",
    "            return True\n",
    "    else:\n",
    "        return False\n",
    "year = int(input(\"Enter year to check if it is a leap year:\"))\n",
    "if leap_year(year):\n",
    "    print(f\"{year} is a leap year.\")\n",
    "else:\n",
    "    print(f\"{year} is not a leap year.\")"
   ]
  },
  {
   "cell_type": "code",
   "execution_count": 5,
   "id": "b67c4fe0-7d22-404f-8a59-dfc28a35204b",
   "metadata": {},
   "outputs": [
    {
     "name": "stdin",
     "output_type": "stream",
     "text": [
      "Enter number to check if it is perfect square: 26\n"
     ]
    },
    {
     "name": "stdout",
     "output_type": "stream",
     "text": [
      "n is not perfect square.\n"
     ]
    }
   ],
   "source": [
    "# Perfect square\n",
    "def perfect_square(n):\n",
    "     if n < 0:\n",
    "         return(\"False\")\n",
    "     sqrt_n = int(n**0.5)\n",
    "     return sqrt_n * sqrt_n == n\n",
    "n=int(input(\"Enter number to check if it is perfect square:\"))\n",
    "if perfect_square(n):\n",
    "    print(f\"n is perfect square.\")\n",
    "else:\n",
    "    print(f\"n is not perfect square.\")"
   ]
  },
  {
   "cell_type": "code",
   "execution_count": 6,
   "id": "3a5e1571-c165-4cbd-bc57-d156088879d5",
   "metadata": {},
   "outputs": [
    {
     "name": "stdout",
     "output_type": "stream",
     "text": [
      "GCD 22 and 5 is: 1\n"
     ]
    }
   ],
   "source": [
    "# Gretest common divissor\n",
    "def gcd(a,b):\n",
    "    while b != 0:\n",
    "        a, b = b, a % b\n",
    "    return a\n",
    "a=22\n",
    "b=5\n",
    "result=gcd(a,b)\n",
    "print(\"GCD\", a, \"and\", b, \"is:\", result)"
   ]
  },
  {
   "cell_type": "code",
   "execution_count": 7,
   "id": "d3bfad98-6b4f-4d05-8a86-91acf37ba99e",
   "metadata": {},
   "outputs": [
    {
     "name": "stdout",
     "output_type": "stream",
     "text": [
      "3\n"
     ]
    }
   ],
   "source": [
    "#count the number of vowels in a string\n",
    "def count_vowels(s):\n",
    "    vowels = 'aeiou'\n",
    "    return sum(1 for char in s if char in vowels)\n",
    "s = \"Hello World\"\n",
    "print(count_vowels(s))"
   ]
  },
  {
   "cell_type": "code",
   "execution_count": 9,
   "id": "0b5ccab1-7651-483a-8117-cc4dee138f94",
   "metadata": {},
   "outputs": [
    {
     "name": "stdin",
     "output_type": "stream",
     "text": [
      "Enter a number:  23\n"
     ]
    },
    {
     "name": "stdout",
     "output_type": "stream",
     "text": [
      "The number is not negative.\n"
     ]
    }
   ],
   "source": [
    "# Negative number\n",
    "def negative(num):\n",
    "    return num < 0\n",
    "num = float(input(\"Enter a number: \"))\n",
    "if negative(num):\n",
    "    print(\"The number is negative.\")\n",
    "else:\n",
    "    print(\"The number is not negative.\")\n"
   ]
  },
  {
   "cell_type": "code",
   "execution_count": 8,
   "id": "24ea7f2f-90fe-445b-ac32-73afbde89102",
   "metadata": {},
   "outputs": [
    {
     "name": "stdout",
     "output_type": "stream",
     "text": [
      "12\n"
     ]
    }
   ],
   "source": [
    "# least common multiple (LCM) of two numbers\n",
    "def lcm(a, b):\n",
    "    return abs(a * b) // gcd(a, b)\n",
    "a = 4\n",
    "b = 6\n",
    "print(lcm(a, b))"
   ]
  },
  {
   "cell_type": "code",
   "execution_count": 10,
   "id": "bd195e6c-5d88-4f6a-9f4c-e1b49c00346d",
   "metadata": {},
   "outputs": [
    {
     "name": "stdin",
     "output_type": "stream",
     "text": [
      "Enter a number:  45\n"
     ]
    },
    {
     "name": "stdout",
     "output_type": "stream",
     "text": [
      "The number is positive.\n"
     ]
    }
   ],
   "source": [
    "# Positive number\n",
    "def positive(num):\n",
    "    return num > 0\n",
    "num = float(input(\"Enter a number: \"))\n",
    "if positive(num):\n",
    "    print(\"The number is positive.\")\n",
    "else:\n",
    "    print(\"The number is not positive.\")"
   ]
  },
  {
   "cell_type": "code",
   "execution_count": null,
   "id": "4a7b0718-928e-4163-8edb-ff0bbc0c59fa",
   "metadata": {},
   "outputs": [],
   "source": []
  }
 ],
 "metadata": {
  "kernelspec": {
   "display_name": "Python 3 (ipykernel)",
   "language": "python",
   "name": "python3"
  },
  "language_info": {
   "codemirror_mode": {
    "name": "ipython",
    "version": 3
   },
   "file_extension": ".py",
   "mimetype": "text/x-python",
   "name": "python",
   "nbconvert_exporter": "python",
   "pygments_lexer": "ipython3",
   "version": "3.11.7"
  },
  "widgets": {
   "application/vnd.jupyter.widget-state+json": {
    "state": {},
    "version_major": 2,
    "version_minor": 0
   }
  }
 },
 "nbformat": 4,
 "nbformat_minor": 5
}
