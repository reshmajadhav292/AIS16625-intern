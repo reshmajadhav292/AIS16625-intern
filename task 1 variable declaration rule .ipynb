{
 "cells": [
  {
   "cell_type": "markdown",
   "id": "3cc5faa5-0f4f-4dd3-a54e-8b7662561cd9",
   "metadata": {},
   "source": [
    "# variable declaration rule :\n",
    "A variable name must start with a letter or the underscore character\r\n",
    "A variable name cannot start with a number\r\n",
    "A variable name can only contain alpha-numeric characters and underscores (A-z, 0-9, and _ )\r\n",
    "Variable names are case-sensitive (age, Age and AGE are three different variables)\r\n",
    "A variable name cannot be any of the Python keywome. \n"
   ]
  },
  {
   "cell_type": "code",
   "execution_count": 2,
   "id": "f6c87bbd-ecc0-4671-a7a8-ede932320f58",
   "metadata": {},
   "outputs": [
    {
     "data": {
      "text/plain": [
       "(10, 'hello', 3.14)"
      ]
     },
     "execution_count": 2,
     "metadata": {},
     "output_type": "execute_result"
    }
   ],
   "source": [
    "# multiple aasignment \n",
    "x, y, z = 10, \"hello\", 3.14\n",
    "x,y,z\n"
   ]
  },
  {
   "cell_type": "code",
   "execution_count": 3,
   "id": "d2dd6e6a-144b-47db-9330-11a626e043e2",
   "metadata": {},
   "outputs": [
    {
     "name": "stdout",
     "output_type": "stream",
     "text": [
      "i love india\n"
     ]
    }
   ],
   "source": [
    "# print() function is often used to output variables.\n",
    "x = \"i love india\"\n",
    "print(x)\n",
    "\n"
   ]
  },
  {
   "cell_type": "code",
   "execution_count": 5,
   "id": "1e2d2cfa-8aa9-4e2d-ab3d-9f2acf8b773d",
   "metadata": {},
   "outputs": [
    {
     "name": "stdout",
     "output_type": "stream",
     "text": [
      "India is awesome\n"
     ]
    }
   ],
   "source": [
    "# You can also use the + operator to output multiple variables:\n",
    "x = \"India\"\n",
    "y = \" is \"\n",
    "z = \"awesome\"\n",
    "print(x + y + z)\n",
    "\n"
   ]
  },
  {
   "cell_type": "code",
   "execution_count": 6,
   "id": "bf841c07-3da2-401a-beff-dd0b9ef81a9a",
   "metadata": {},
   "outputs": [
    {
     "name": "stdout",
     "output_type": "stream",
     "text": [
      "5 reshma\n"
     ]
    }
   ],
   "source": [
    "x = 5\n",
    "y = \"reshma\"\n",
    "print(x, y)\n"
   ]
  },
  {
   "cell_type": "code",
   "execution_count": 8,
   "id": "7fa13f8e-6deb-4019-a856-8855873fb060",
   "metadata": {},
   "outputs": [
    {
     "name": "stdout",
     "output_type": "stream",
     "text": [
      "india is awesome\n"
     ]
    }
   ],
   "source": [
    "# Global variables can be used by everyone, both inside of functions and outside.\n",
    "x = \"awesome\"\n",
    "def myfunc():\n",
    "  print(\"india is \" + x)\n",
    "myfunc()\n"
   ]
  },
  {
   "cell_type": "code",
   "execution_count": 9,
   "id": "ccd3b102-9800-49da-ae08-7883ae310e02",
   "metadata": {},
   "outputs": [
    {
     "name": "stdout",
     "output_type": "stream",
     "text": [
      "apple\n",
      "banana\n",
      "cherry\n"
     ]
    }
   ],
   "source": [
    "fruits = [\"apple\", \"banana\", \"cherry\"]\n",
    "x, y, z = fruits\n",
    "print(x)\n",
    "print(y)\n",
    "print(z)\n"
   ]
  },
  {
   "cell_type": "code",
   "execution_count": 10,
   "id": "6d040333-342e-476c-b8cf-53de5b1bb2fc",
   "metadata": {},
   "outputs": [
    {
     "name": "stdout",
     "output_type": "stream",
     "text": [
      "Akansha\n",
      "Akansha\n",
      "Akansha\n"
     ]
    }
   ],
   "source": [
    "x = y = z = \"Akansha\"\n",
    "print(x)\n",
    "print(y)\n",
    "print(z)\n"
   ]
  },
  {
   "cell_type": "code",
   "execution_count": 12,
   "id": "628ce9ea-c4c2-4327-a48d-4b9390bd0b3f",
   "metadata": {},
   "outputs": [
    {
     "data": {
      "text/plain": [
       "{1, 2, 3, 4, 5}"
      ]
     },
     "execution_count": 12,
     "metadata": {},
     "output_type": "execute_result"
    }
   ],
   "source": [
    "# set variables\n",
    "unique_numbers = {1, 2, 3, 4, 5}\n",
    "unique_numbers"
   ]
  },
  {
   "cell_type": "code",
   "execution_count": 14,
   "id": "c46f8c09-7cf5-4a2e-878b-52f3e0c85d6c",
   "metadata": {},
   "outputs": [
    {
     "data": {
      "text/plain": [
       "{'name': 'radha', 'age': 22}"
      ]
     },
     "execution_count": 14,
     "metadata": {},
     "output_type": "execute_result"
    }
   ],
   "source": [
    "# dictionary number\n",
    "person = {'name': 'radha', 'age': 22}\n",
    "person"
   ]
  }
 ],
 "metadata": {
  "kernelspec": {
   "display_name": "Python 3 (ipykernel)",
   "language": "python",
   "name": "python3"
  },
  "language_info": {
   "codemirror_mode": {
    "name": "ipython",
    "version": 3
   },
   "file_extension": ".py",
   "mimetype": "text/x-python",
   "name": "python",
   "nbconvert_exporter": "python",
   "pygments_lexer": "ipython3",
   "version": "3.11.7"
  }
 },
 "nbformat": 4,
 "nbformat_minor": 5
}
