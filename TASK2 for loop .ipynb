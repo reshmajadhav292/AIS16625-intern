{
 "cells": [
  {
   "cell_type": "markdown",
   "id": "35ac6ec9-a6ec-49c7-a900-60d92b4b6bb7",
   "metadata": {},
   "source": [
    "# Python For Loops\n",
    " for loop is used for iterating over a sequence.\n",
    " With the for loop we can execute a set of statements, once for each item in a list, tuple, set etc.\n",
    "\r\n"
   ]
  },
  {
   "cell_type": "code",
   "execution_count": 1,
   "id": "d5ac19e6-1622-47d5-898a-28b29e3182a2",
   "metadata": {},
   "outputs": [
    {
     "name": "stdout",
     "output_type": "stream",
     "text": [
      "apple\n",
      "banana\n",
      "cherry\n"
     ]
    }
   ],
   "source": [
    "# 1\n",
    "fruits = [\"apple\", \"banana\", \"cherry\"]\n",
    "for x in fruits:\n",
    "  print(x)\n"
   ]
  },
  {
   "cell_type": "code",
   "execution_count": 15,
   "id": "66a6eccb-4f60-40ef-97d9-1aa763a06542",
   "metadata": {},
   "outputs": [
    {
     "name": "stdout",
     "output_type": "stream",
     "text": [
      "0\n",
      "1\n",
      "2\n",
      "3\n"
     ]
    }
   ],
   "source": [
    "#2\n",
    "for x in range(4): #range() function returns a sequence of numbers, starting from 0 \n",
    "  print(x)\n"
   ]
  },
  {
   "cell_type": "code",
   "execution_count": 12,
   "id": "c658d5b0-ea68-4a52-8221-c48a8f00bff0",
   "metadata": {},
   "outputs": [
    {
     "name": "stdout",
     "output_type": "stream",
     "text": [
      "1\n",
      "2\n",
      "3\n",
      "4\n"
     ]
    }
   ],
   "source": [
    "#3\n",
    "for x in range(1, 5):\n",
    "  print(x)\n"
   ]
  },
  {
   "cell_type": "code",
   "execution_count": 13,
   "id": "b876aabc-a60d-4e02-9c21-ad1642d1bf12",
   "metadata": {},
   "outputs": [
    {
     "name": "stdout",
     "output_type": "stream",
     "text": [
      "0\n",
      "1\n",
      "2\n",
      "3\n",
      "4\n",
      "Finally finished!\n"
     ]
    }
   ],
   "source": [
    "#4\n",
    "#Else in For Loop\n",
    "#The else keyword in a for loop specifies a block of code to be executed when the loop is finished:\n",
    "for x in range(5):\n",
    "  print(x)\n",
    "else:\n",
    "  print(\"Finally finished!\")\n"
   ]
  },
  {
   "cell_type": "code",
   "execution_count": 14,
   "id": "43c92940-b425-48da-a1fc-5b7dc58fb67c",
   "metadata": {},
   "outputs": [
    {
     "name": "stdout",
     "output_type": "stream",
     "text": [
      "red apple\n",
      "red banana\n",
      "big apple\n",
      "big banana\n"
     ]
    }
   ],
   "source": [
    "#5\n",
    "#Nested Loops\n",
    "#A nested loop is a loop inside a loop.\n",
    "adj = [\"red\", \"big\"]\n",
    "fruits = [\"apple\", \"banana\"]\n",
    "for x in adj:\n",
    "  for y in fruits:\n",
    "    print(x, y)"
   ]
  },
  {
   "cell_type": "code",
   "execution_count": 16,
   "id": "43619e18-976f-4c96-ae1f-c9a6aba08994",
   "metadata": {},
   "outputs": [
    {
     "name": "stdout",
     "output_type": "stream",
     "text": [
      "The sum is: 150\n"
     ]
    }
   ],
   "source": [
    "#6\n",
    "numbers = [10, 20, 30, 40, 50]\n",
    "total = 0\n",
    "for num in numbers:\n",
    "    total += num\n",
    "print(\"The sum is:\", total)\n"
   ]
  },
  {
   "cell_type": "code",
   "execution_count": 17,
   "id": "12606e32-4478-4e38-8e4a-fe9955df7657",
   "metadata": {},
   "outputs": [
    {
     "name": "stdout",
     "output_type": "stream",
     "text": [
      "apple\n",
      "banana\n"
     ]
    }
   ],
   "source": [
    "# 7\n",
    "fruits = [\"apple\", \"banana\", \"cherry\"]\n",
    "for x in fruits:\n",
    "  print(x)\n",
    "  if x == \"banana\":\n",
    "    break\n"
   ]
  },
  {
   "cell_type": "code",
   "execution_count": 18,
   "id": "45d2bc6d-1369-4e86-9b80-5589bf1767ed",
   "metadata": {},
   "outputs": [
    {
     "name": "stdout",
     "output_type": "stream",
     "text": [
      "radha\n",
      "veda\n",
      "aditya\n"
     ]
    }
   ],
   "source": [
    "# 8 \n",
    "names = [\"radha\", \"veda\", \"aditya\"]\n",
    "for x in names:\n",
    "  print(x)"
   ]
  },
  {
   "cell_type": "code",
   "execution_count": 22,
   "id": "4f4e5150-4fc0-43d0-a3b7-b17e4481917f",
   "metadata": {},
   "outputs": [
    {
     "name": "stdout",
     "output_type": "stream",
     "text": [
      "x: 1 y: 2\n",
      "x: 3 y: 4\n",
      "x: 5 y: 6\n"
     ]
    }
   ],
   "source": [
    "# 9\n",
    "coordinates = [(1, 2), (3, 4), (5, 6)]\n",
    "for x, y in coordinates:\n",
    "    print(\"x:\", x, \"y:\", y)\n"
   ]
  },
  {
   "cell_type": "code",
   "execution_count": 24,
   "id": "9ff2ee2a-302f-48a1-9b45-87ecd1cfa83f",
   "metadata": {},
   "outputs": [
    {
     "name": "stdout",
     "output_type": "stream",
     "text": [
      "-5\n",
      "-4\n",
      "-3\n",
      "-2\n",
      "-1\n"
     ]
    }
   ],
   "source": [
    "# 10\n",
    "for x in range(-5, 0):\n",
    "  print(x)\n"
   ]
  },
  {
   "cell_type": "code",
   "execution_count": null,
   "id": "6734c9bd-756a-43cd-a0d2-857999b7a7b2",
   "metadata": {},
   "outputs": [],
   "source": []
  }
 ],
 "metadata": {
  "kernelspec": {
   "display_name": "Python 3 (ipykernel)",
   "language": "python",
   "name": "python3"
  },
  "language_info": {
   "codemirror_mode": {
    "name": "ipython",
    "version": 3
   },
   "file_extension": ".py",
   "mimetype": "text/x-python",
   "name": "python",
   "nbconvert_exporter": "python",
   "pygments_lexer": "ipython3",
   "version": "3.11.7"
  }
 },
 "nbformat": 4,
 "nbformat_minor": 5
}
