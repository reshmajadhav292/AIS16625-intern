{
 "cells": [
  {
   "cell_type": "markdown",
   "id": "a265f971-6bac-42e4-b034-586d9f560a9a",
   "metadata": {},
   "source": [
    "## Student Perforemance Prediction  with selecting important feature "
   ]
  },
  {
   "cell_type": "code",
   "execution_count": 1,
   "id": "3a709cc5-056d-4df1-acaf-e5d45210316e",
   "metadata": {},
   "outputs": [],
   "source": [
    "import numpy as np"
   ]
  },
  {
   "cell_type": "code",
   "execution_count": 2,
   "id": "79be2610-e717-4a14-a1c4-f8bd3d228f4c",
   "metadata": {},
   "outputs": [],
   "source": [
    "import pandas as pd"
   ]
  },
  {
   "cell_type": "code",
   "execution_count": 3,
   "id": "109f0e24-1f55-44a1-8052-35d792e547b6",
   "metadata": {},
   "outputs": [],
   "source": [
    "data=pd.read_csv(\"C://Users//DISHA_COMPUTER//Documents//student performance dataset ....csv\")"
   ]
  },
  {
   "cell_type": "code",
   "execution_count": 4,
   "id": "868ffb7b-d352-403d-a659-57fe90ffe9a7",
   "metadata": {},
   "outputs": [
    {
     "data": {
      "text/html": [
       "<div>\n",
       "<style scoped>\n",
       "    .dataframe tbody tr th:only-of-type {\n",
       "        vertical-align: middle;\n",
       "    }\n",
       "\n",
       "    .dataframe tbody tr th {\n",
       "        vertical-align: top;\n",
       "    }\n",
       "\n",
       "    .dataframe thead th {\n",
       "        text-align: right;\n",
       "    }\n",
       "</style>\n",
       "<table border=\"1\" class=\"dataframe\">\n",
       "  <thead>\n",
       "    <tr style=\"text-align: right;\">\n",
       "      <th></th>\n",
       "      <th>StudentID</th>\n",
       "      <th>Age</th>\n",
       "      <th>Gender</th>\n",
       "      <th>Ethnicity</th>\n",
       "      <th>ParentalEducation</th>\n",
       "      <th>StudyTimeWeekly</th>\n",
       "      <th>Absences</th>\n",
       "      <th>Tutoring</th>\n",
       "      <th>ParentalSupport</th>\n",
       "      <th>Extracurricular</th>\n",
       "      <th>Sports</th>\n",
       "      <th>Music</th>\n",
       "      <th>Volunteering</th>\n",
       "      <th>GPA</th>\n",
       "      <th>GradeClass</th>\n",
       "    </tr>\n",
       "  </thead>\n",
       "  <tbody>\n",
       "    <tr>\n",
       "      <th>0</th>\n",
       "      <td>1001</td>\n",
       "      <td>17</td>\n",
       "      <td>1</td>\n",
       "      <td>0</td>\n",
       "      <td>2</td>\n",
       "      <td>19.833723</td>\n",
       "      <td>7</td>\n",
       "      <td>1</td>\n",
       "      <td>2</td>\n",
       "      <td>0</td>\n",
       "      <td>0</td>\n",
       "      <td>1</td>\n",
       "      <td>0</td>\n",
       "      <td>2.929196</td>\n",
       "      <td>2</td>\n",
       "    </tr>\n",
       "    <tr>\n",
       "      <th>1</th>\n",
       "      <td>1002</td>\n",
       "      <td>18</td>\n",
       "      <td>0</td>\n",
       "      <td>0</td>\n",
       "      <td>1</td>\n",
       "      <td>15.408756</td>\n",
       "      <td>0</td>\n",
       "      <td>0</td>\n",
       "      <td>1</td>\n",
       "      <td>0</td>\n",
       "      <td>0</td>\n",
       "      <td>0</td>\n",
       "      <td>0</td>\n",
       "      <td>3.042915</td>\n",
       "      <td>1</td>\n",
       "    </tr>\n",
       "    <tr>\n",
       "      <th>2</th>\n",
       "      <td>1003</td>\n",
       "      <td>15</td>\n",
       "      <td>0</td>\n",
       "      <td>2</td>\n",
       "      <td>3</td>\n",
       "      <td>4.210570</td>\n",
       "      <td>26</td>\n",
       "      <td>0</td>\n",
       "      <td>2</td>\n",
       "      <td>0</td>\n",
       "      <td>0</td>\n",
       "      <td>0</td>\n",
       "      <td>0</td>\n",
       "      <td>0.112602</td>\n",
       "      <td>4</td>\n",
       "    </tr>\n",
       "    <tr>\n",
       "      <th>3</th>\n",
       "      <td>1004</td>\n",
       "      <td>17</td>\n",
       "      <td>1</td>\n",
       "      <td>0</td>\n",
       "      <td>3</td>\n",
       "      <td>10.028829</td>\n",
       "      <td>14</td>\n",
       "      <td>0</td>\n",
       "      <td>3</td>\n",
       "      <td>1</td>\n",
       "      <td>0</td>\n",
       "      <td>0</td>\n",
       "      <td>0</td>\n",
       "      <td>2.054218</td>\n",
       "      <td>3</td>\n",
       "    </tr>\n",
       "    <tr>\n",
       "      <th>4</th>\n",
       "      <td>1005</td>\n",
       "      <td>17</td>\n",
       "      <td>1</td>\n",
       "      <td>0</td>\n",
       "      <td>2</td>\n",
       "      <td>4.672495</td>\n",
       "      <td>17</td>\n",
       "      <td>1</td>\n",
       "      <td>3</td>\n",
       "      <td>0</td>\n",
       "      <td>0</td>\n",
       "      <td>0</td>\n",
       "      <td>0</td>\n",
       "      <td>1.288061</td>\n",
       "      <td>4</td>\n",
       "    </tr>\n",
       "  </tbody>\n",
       "</table>\n",
       "</div>"
      ],
      "text/plain": [
       "   StudentID  Age  Gender  Ethnicity  ParentalEducation  StudyTimeWeekly  \\\n",
       "0       1001   17       1          0                  2        19.833723   \n",
       "1       1002   18       0          0                  1        15.408756   \n",
       "2       1003   15       0          2                  3         4.210570   \n",
       "3       1004   17       1          0                  3        10.028829   \n",
       "4       1005   17       1          0                  2         4.672495   \n",
       "\n",
       "   Absences  Tutoring  ParentalSupport  Extracurricular  Sports  Music  \\\n",
       "0         7         1                2                0       0      1   \n",
       "1         0         0                1                0       0      0   \n",
       "2        26         0                2                0       0      0   \n",
       "3        14         0                3                1       0      0   \n",
       "4        17         1                3                0       0      0   \n",
       "\n",
       "   Volunteering       GPA  GradeClass  \n",
       "0             0  2.929196           2  \n",
       "1             0  3.042915           1  \n",
       "2             0  0.112602           4  \n",
       "3             0  2.054218           3  \n",
       "4             0  1.288061           4  "
      ]
     },
     "execution_count": 4,
     "metadata": {},
     "output_type": "execute_result"
    }
   ],
   "source": [
    "data.head()"
   ]
  },
  {
   "cell_type": "code",
   "execution_count": 5,
   "id": "e0638284-e321-4854-a5aa-fe7930b3b063",
   "metadata": {},
   "outputs": [],
   "source": [
    "data.drop([\"GPA\",\"StudentID\",\"Sports\",\"Gender\",\"Extracurricular\",\"Music\",\"Volunteering\"\t],axis=1,inplace=True)\n"
   ]
  },
  {
   "cell_type": "code",
   "execution_count": 6,
   "id": "84d0c751-32ad-4ac4-923b-e6500dfdc5eb",
   "metadata": {},
   "outputs": [
    {
     "data": {
      "text/plain": [
       "((1913, 7), (479, 7), (1913,), (479,))"
      ]
     },
     "execution_count": 6,
     "metadata": {},
     "output_type": "execute_result"
    }
   ],
   "source": [
    "from sklearn.model_selection import train_test_split\n",
    "X=data[['Age','ParentalEducation','StudyTimeWeekly','Absences','Tutoring','ParentalSupport',\"Ethnicity\"]]\n",
    "Y=data[\"GradeClass\"]\n",
    "X_train, X_test, Y_train, Y_test = train_test_split(X, Y, test_size=0.20, random_state=42)\n",
    "X_train.shape, X_test.shape, Y_train.shape,Y_test.shape"
   ]
  },
  {
   "cell_type": "code",
   "execution_count": 7,
   "id": "1512a377-0bc2-4121-9fb3-fd1e92c2d7e1",
   "metadata": {},
   "outputs": [
    {
     "name": "stdout",
     "output_type": "stream",
     "text": [
      "{0: 974, 1: 974, 2: 974, 3: 974, 4: 974}\n"
     ]
    }
   ],
   "source": [
    "from imblearn.over_sampling import SMOTE\n",
    "smote = SMOTE( random_state=42)\n",
    "X_train_resampled, Y_train_resampled = smote.fit_resample(X_train, Y_train)\n",
    "unique, counts = np.unique(Y_train_resampled, return_counts=True)\n",
    "print(dict(zip(unique, counts)))"
   ]
  },
  {
   "cell_type": "markdown",
   "id": "15da1790-d677-4e7e-b0d3-2f4dafb804ac",
   "metadata": {},
   "source": [
    "## Multinomial Naive Bayes "
   ]
  },
  {
   "cell_type": "code",
   "execution_count": 8,
   "id": "0a52a3e7-5c87-4f3b-96cf-44b66e42ad8d",
   "metadata": {},
   "outputs": [],
   "source": [
    "from sklearn.naive_bayes import MultinomialNB\n",
    "Mnb=MultinomialNB()\n",
    "Mnb.fit(X_train_resampled,Y_train_resampled)\n",
    "MNy_pred=Mnb.predict(X_test)"
   ]
  },
  {
   "cell_type": "markdown",
   "id": "3a7441d3-a0cd-434e-89ea-7aeb7676f568",
   "metadata": {},
   "source": [
    "* Accuracy"
   ]
  },
  {
   "cell_type": "code",
   "execution_count": 9,
   "id": "d83a4b6f-ae26-4fa5-8ba3-db1594e1a175",
   "metadata": {},
   "outputs": [
    {
     "name": "stdout",
     "output_type": "stream",
     "text": [
      "Accuracy: 0.5949895615866388\n"
     ]
    }
   ],
   "source": [
    "\n",
    "from sklearn.metrics import accuracy_score\n",
    "accur_score=accuracy_score(Y_test,MNy_pred)\n",
    "print(\"Accuracy:\",accur_score)"
   ]
  },
  {
   "cell_type": "markdown",
   "id": "acedb1f6-7e06-4cfa-8e54-33f9f10e3786",
   "metadata": {},
   "source": [
    "* precision, recall,f1score"
   ]
  },
  {
   "cell_type": "code",
   "execution_count": 61,
   "id": "99e03c52-ea03-4adf-bc96-b4b281691a8a",
   "metadata": {},
   "outputs": [
    {
     "name": "stdout",
     "output_type": "stream",
     "text": [
      "micro_precision_MN:0.59\n",
      "micro_recallMN:0.59\n",
      "micro_f1scoreMN:0.59\n"
     ]
    }
   ],
   "source": [
    "from sklearn.metrics import precision_recall_fscore_support\n",
    "micro_precisionMN, micro_recallMN, micro_f1MN, _ = precision_recall_fscore_support(Y_test, MNy_pred, average='micro')\n",
    "print(f'micro_precision_MN:{micro_precisionMN:.2f}')\n",
    "print(f'micro_recallMN:{micro_recallMN:.2f}')\n",
    "print(f'micro_f1scoreMN:{micro_f1MN:.2f}')"
   ]
  },
  {
   "cell_type": "markdown",
   "id": "5d57930d-1147-47ab-8cac-b2e7810734c9",
   "metadata": {},
   "source": [
    "*  Classification report\n"
   ]
  },
  {
   "cell_type": "code",
   "execution_count": 15,
   "id": "c68136dc-5dc8-47c5-9ee0-7a4647052a2d",
   "metadata": {},
   "outputs": [
    {
     "name": "stdout",
     "output_type": "stream",
     "text": [
      "              precision    recall  f1-score   support\n",
      "\n",
      "           0       0.15      0.36      0.21        22\n",
      "           1       0.40      0.37      0.38        49\n",
      "           2       0.53      0.34      0.41        85\n",
      "           3       0.38      0.45      0.41        86\n",
      "           4       0.86      0.81      0.83       237\n",
      "\n",
      "    accuracy                           0.59       479\n",
      "   macro avg       0.46      0.47      0.45       479\n",
      "weighted avg       0.63      0.59      0.61       479\n",
      "\n"
     ]
    }
   ],
   "source": [
    "\n",
    "from sklearn.metrics import classification_report\n",
    "reportmny=classification_report(Y_test,MNy_pred)\n",
    "print(reportmny)"
   ]
  },
  {
   "cell_type": "markdown",
   "id": "245a3e70-4015-4a51-bef6-e42f6117227f",
   "metadata": {},
   "source": [
    "## KNN "
   ]
  },
  {
   "cell_type": "code",
   "execution_count": 16,
   "id": "1012c6fd-e096-4a70-bdf4-b855714bff30",
   "metadata": {},
   "outputs": [],
   "source": [
    "from sklearn.neighbors import KNeighborsClassifier\n",
    "classifier=KNeighborsClassifier(n_neighbors=5)\n",
    "classifier.fit(X_train_resampled,Y_train_resampled)\n",
    "ky_pred=classifier.predict(X_test)\n"
   ]
  },
  {
   "cell_type": "markdown",
   "id": "48ffb5ce-3c13-45b2-bada-6971f8614ff1",
   "metadata": {},
   "source": [
    "*  Accuracy"
   ]
  },
  {
   "cell_type": "code",
   "execution_count": 17,
   "id": "960347e8-0bc7-4261-a72d-a58b665d0f87",
   "metadata": {},
   "outputs": [
    {
     "name": "stdout",
     "output_type": "stream",
     "text": [
      "Accuracy:0.52\n"
     ]
    }
   ],
   "source": [
    "from sklearn.metrics import accuracy_score\n",
    "knn_accur_score=accuracy_score(Y_test,ky_pred)\n",
    "print(f\"Accuracy:{knn_accur_score:.2f}\")"
   ]
  },
  {
   "cell_type": "markdown",
   "id": "a019286b-03d7-4990-9572-b7b6af6702b5",
   "metadata": {},
   "source": [
    "* precision ,recall ,f1- score"
   ]
  },
  {
   "cell_type": "code",
   "execution_count": 18,
   "id": "b9e848a3-99da-4101-8f0e-b49c78473326",
   "metadata": {},
   "outputs": [
    {
     "name": "stdout",
     "output_type": "stream",
     "text": [
      "micro_precision_knn:0.52\n",
      "micro_recall_knn: 0.52\n",
      "micro_f1score_knn: 0.52\n"
     ]
    }
   ],
   "source": [
    "from sklearn.metrics import precision_recall_fscore_support\n",
    "micro_precision_knn, micro_recall_knn, micro_f1_knn, _ = precision_recall_fscore_support(Y_test, ky_pred, average='micro')\n",
    "print(f'micro_precision_knn:{micro_precision_knn:.2f}')\n",
    "print(f'micro_recall_knn: {micro_recall_knn:.2f}')\n",
    "print(f'micro_f1score_knn: {micro_f1_knn:.2f}')"
   ]
  },
  {
   "cell_type": "markdown",
   "id": "273f939c-d860-4802-8d3e-60d41d6fa455",
   "metadata": {},
   "source": [
    "*  Classification report"
   ]
  },
  {
   "cell_type": "code",
   "execution_count": 19,
   "id": "e7b3951d-02ff-444d-919a-17a80de42296",
   "metadata": {},
   "outputs": [
    {
     "name": "stdout",
     "output_type": "stream",
     "text": [
      "              precision    recall  f1-score   support\n",
      "\n",
      "           0       0.16      0.36      0.22        22\n",
      "           1       0.23      0.39      0.29        49\n",
      "           2       0.40      0.35      0.38        85\n",
      "           3       0.36      0.37      0.36        86\n",
      "           4       0.88      0.68      0.77       237\n",
      "\n",
      "    accuracy                           0.52       479\n",
      "   macro avg       0.41      0.43      0.40       479\n",
      "weighted avg       0.60      0.52      0.55       479\n",
      "\n"
     ]
    }
   ],
   "source": [
    "from sklearn.metrics import classification_report\n",
    "reportky=classification_report(Y_test,ky_pred)\n",
    "print(reportky)"
   ]
  },
  {
   "cell_type": "markdown",
   "id": "1a5447ce-c6e5-48f1-95fe-79629203c23d",
   "metadata": {},
   "source": [
    "## Decision Tree "
   ]
  },
  {
   "cell_type": "code",
   "execution_count": 20,
   "id": "4b0c196f-96da-43a0-b0e6-78f0507b4c17",
   "metadata": {},
   "outputs": [],
   "source": [
    "import pandas as pd\n",
    "from sklearn.tree import DecisionTreeClassifier\n",
    "from sklearn.metrics import accuracy_score,classification_report,confusion_matrix\n",
    "clf=DecisionTreeClassifier(random_state=42)\n",
    "clf.fit(X_train_resampled,Y_train_resampled)\n",
    "clf_pred=clf.predict(X_test)"
   ]
  },
  {
   "cell_type": "markdown",
   "id": "137a42f7-e87f-4616-a1a0-f6e8f2adc985",
   "metadata": {},
   "source": [
    "* Accuracy "
   ]
  },
  {
   "cell_type": "code",
   "execution_count": 21,
   "id": "460ed1bb-327e-4dae-b924-c2f9a3201334",
   "metadata": {},
   "outputs": [
    {
     "data": {
      "text/plain": [
       "0.5156576200417536"
      ]
     },
     "execution_count": 21,
     "metadata": {},
     "output_type": "execute_result"
    }
   ],
   "source": [
    "acc=accuracy_score(Y_test,clf_pred)\n",
    "acc"
   ]
  },
  {
   "cell_type": "code",
   "execution_count": 24,
   "id": "0ac52a9c-7bbd-44a2-a1f3-b4f1e26d7b49",
   "metadata": {},
   "outputs": [
    {
     "name": "stdout",
     "output_type": "stream",
     "text": [
      "micro_precision_dt: 0.5156576200417536\n",
      "micro_recall_dt: 0.5156576200417536\n",
      "micro_f1score_dt: 0.5156576200417536\n"
     ]
    }
   ],
   "source": [
    "from sklearn.metrics import precision_recall_fscore_support\n",
    "micro_precision_dt, micro_recall_dt, micro_f1_dt, _ = precision_recall_fscore_support(Y_test, clf_pred, average='micro')\n",
    "print(\"micro_precision_dt:\",micro_precision_dt)\n",
    "print(\"micro_recall_dt:\",micro_recall_dt)\n",
    "print(\"micro_f1score_dt:\",micro_f1_dt)"
   ]
  },
  {
   "cell_type": "markdown",
   "id": "fff7cf85-0292-4854-a550-d91b13bfc6be",
   "metadata": {},
   "source": [
    "* Classification report"
   ]
  },
  {
   "cell_type": "code",
   "execution_count": 25,
   "id": "1b4e8afd-acd3-48bf-b165-bb119240a8c6",
   "metadata": {},
   "outputs": [
    {
     "name": "stdout",
     "output_type": "stream",
     "text": [
      "              precision    recall  f1-score   support\n",
      "\n",
      "           0       0.17      0.32      0.23        22\n",
      "           1       0.22      0.33      0.26        49\n",
      "           2       0.43      0.41      0.42        85\n",
      "           3       0.40      0.47      0.43        86\n",
      "           4       0.81      0.63      0.71       237\n",
      "\n",
      "    accuracy                           0.52       479\n",
      "   macro avg       0.41      0.43      0.41       479\n",
      "weighted avg       0.58      0.52      0.54       479\n",
      "\n"
     ]
    }
   ],
   "source": [
    "# Classification report\n",
    "from sklearn.metrics import classification_report\n",
    "reportclfD=classification_report(Y_test,clf_pred)\n",
    "print(reportclfD)"
   ]
  },
  {
   "cell_type": "markdown",
   "id": "39d134b4-44cc-451e-97b2-1dff1fe4d201",
   "metadata": {},
   "source": [
    "## Support vector machine "
   ]
  },
  {
   "cell_type": "code",
   "execution_count": 26,
   "id": "be137844-db78-489c-87a5-18f979eb417d",
   "metadata": {},
   "outputs": [],
   "source": [
    "from sklearn.svm import SVC\n",
    "model=SVC()\n",
    "model.fit(X_train_resampled,Y_train_resampled)\n",
    "svmy_pred=model.predict(X_test)\n"
   ]
  },
  {
   "cell_type": "markdown",
   "id": "bcbdabd6-add2-45c9-8f9c-493ef6cbd27f",
   "metadata": {},
   "source": [
    "* Accuracy"
   ]
  },
  {
   "cell_type": "code",
   "execution_count": 27,
   "id": "da925cbf-1d94-4624-959d-fb10b50b51fb",
   "metadata": {},
   "outputs": [
    {
     "name": "stdout",
     "output_type": "stream",
     "text": [
      "Accuracy: 0.6701461377870563\n"
     ]
    }
   ],
   "source": [
    "\n",
    "from sklearn.metrics import accuracy_score\n",
    "accursvm_score=accuracy_score(Y_test,svmy_pred)\n",
    "print(\"Accuracy:\",accursvm_score)"
   ]
  },
  {
   "cell_type": "markdown",
   "id": "9f198d80-d67c-4935-a087-5a1d5fa82e21",
   "metadata": {},
   "source": [
    "* Classification report"
   ]
  },
  {
   "cell_type": "code",
   "execution_count": 28,
   "id": "2137c67c-0c32-4e75-b943-125fc96ce44f",
   "metadata": {},
   "outputs": [
    {
     "name": "stdout",
     "output_type": "stream",
     "text": [
      "              precision    recall  f1-score   support\n",
      "\n",
      "           0       0.33      0.32      0.33        22\n",
      "           1       0.43      0.45      0.44        49\n",
      "           2       0.59      0.51      0.54        85\n",
      "           3       0.45      0.66      0.54        86\n",
      "           4       0.92      0.81      0.86       237\n",
      "\n",
      "    accuracy                           0.67       479\n",
      "   macro avg       0.55      0.55      0.54       479\n",
      "weighted avg       0.70      0.67      0.68       479\n",
      "\n"
     ]
    }
   ],
   "source": [
    "\n",
    "from sklearn.metrics import classification_report\n",
    "reportsvmy=classification_report(Y_test,svmy_pred)\n",
    "print(reportsvmy)"
   ]
  },
  {
   "cell_type": "code",
   "execution_count": 29,
   "id": "cb601555-60fb-4be3-aff3-c05acd658f33",
   "metadata": {},
   "outputs": [
    {
     "name": "stdout",
     "output_type": "stream",
     "text": [
      "micro_precision_svm: 0.6701461377870563\n",
      "micro_recall_svm: 0.6701461377870563\n",
      "micro_f1score_svm: 0.6701461377870563\n"
     ]
    }
   ],
   "source": [
    "from sklearn.metrics import precision_recall_fscore_support\n",
    "micro_precision_svm, micro_recall_svm, micro_f1_svm, _ = precision_recall_fscore_support(Y_test, svmy_pred, average='micro')\n",
    "print(\"micro_precision_svm:\",micro_precision_svm)\n",
    "print(\"micro_recall_svm:\",micro_recall_svm)\n",
    "print(\"micro_f1score_svm:\",micro_f1_svm)"
   ]
  },
  {
   "cell_type": "markdown",
   "id": "fac7475f-fefc-4e69-9d52-a526aa1e0d62",
   "metadata": {},
   "source": [
    "##  logistic Regression "
   ]
  },
  {
   "cell_type": "code",
   "execution_count": 30,
   "id": "22cc7435-8dc6-4985-b5c4-ce6ba72ed38a",
   "metadata": {},
   "outputs": [],
   "source": [
    "from sklearn.linear_model import LogisticRegression\n",
    "l = LogisticRegression(multi_class='auto',max_iter=1000)\n",
    "l.fit(X_train_resampled,Y_train_resampled)\n",
    "lry_pred=l.predict(X_test)"
   ]
  },
  {
   "cell_type": "markdown",
   "id": "c7c33e87-6e2a-4534-bc91-962dbe5c3eae",
   "metadata": {},
   "source": [
    "* Accuracy"
   ]
  },
  {
   "cell_type": "code",
   "execution_count": 31,
   "id": "df8feb8f-9ed5-44f7-b233-86266e7bbf6b",
   "metadata": {},
   "outputs": [
    {
     "name": "stdout",
     "output_type": "stream",
     "text": [
      "Accuracy: 0.5741127348643006\n"
     ]
    }
   ],
   "source": [
    "accurlr_score=accuracy_score(Y_test,lry_pred)\n",
    "print(\"Accuracy:\",accurlr_score)"
   ]
  },
  {
   "cell_type": "markdown",
   "id": "93420eb3-5446-4a25-a208-7b5411977bbf",
   "metadata": {},
   "source": [
    "* Classification report\n"
   ]
  },
  {
   "cell_type": "code",
   "execution_count": 32,
   "id": "39c25fab-4b06-41bb-abe5-5935e5d14e55",
   "metadata": {},
   "outputs": [
    {
     "name": "stdout",
     "output_type": "stream",
     "text": [
      "              precision    recall  f1-score   support\n",
      "\n",
      "           0       0.13      0.36      0.19        22\n",
      "           1       0.29      0.31      0.30        49\n",
      "           2       0.48      0.33      0.39        85\n",
      "           3       0.40      0.44      0.42        86\n",
      "           4       0.88      0.78      0.83       237\n",
      "\n",
      "    accuracy                           0.57       479\n",
      "   macro avg       0.44      0.45      0.43       479\n",
      "weighted avg       0.63      0.57      0.59       479\n",
      "\n"
     ]
    }
   ],
   "source": [
    "# Classification report\n",
    "from sklearn.metrics import classification_report\n",
    "reportlr=classification_report(Y_test,lry_pred)\n",
    "print(reportlr)"
   ]
  },
  {
   "cell_type": "code",
   "execution_count": 33,
   "id": "6c13fa5d-fe73-4347-a48d-4959343d701b",
   "metadata": {},
   "outputs": [
    {
     "name": "stdout",
     "output_type": "stream",
     "text": [
      "micro_precision_lry: 0.5741127348643006\n",
      "micro_recall_lry: 0.5741127348643006\n",
      "micro_f1score_lry: 0.5741127348643006\n"
     ]
    }
   ],
   "source": [
    "from sklearn.metrics import precision_recall_fscore_support\n",
    "micro_precision_lry, micro_recall_lry, micro_f1_lry, _ = precision_recall_fscore_support(Y_test, lry_pred, average='micro')\n",
    "print(\"micro_precision_lry:\",micro_precision_lry)\n",
    "print(\"micro_recall_lry:\",micro_recall_lry)\n",
    "print(\"micro_f1score_lry:\",micro_f1_lry)"
   ]
  },
  {
   "cell_type": "markdown",
   "id": "3d1b6620-b963-493f-a324-e34fa27cdebb",
   "metadata": {},
   "source": [
    "## Random Forest "
   ]
  },
  {
   "cell_type": "code",
   "execution_count": 34,
   "id": "3bba5c40-5f89-45fc-9a60-534be38fc27c",
   "metadata": {},
   "outputs": [],
   "source": [
    "from sklearn.ensemble import RandomForestClassifier\n",
    "rf_model=RandomForestClassifier(n_estimators=100,random_state=42)\n",
    "rf_model.fit(X_train_resampled,Y_train_resampled)\n",
    "rf_y_pred=rf_model.predict(X_test)\n"
   ]
  },
  {
   "cell_type": "markdown",
   "id": "75a40f9c-8c52-422a-bfe9-247a0be14868",
   "metadata": {},
   "source": [
    "* Accuracy "
   ]
  },
  {
   "cell_type": "code",
   "execution_count": 35,
   "id": "9a20829e-b00a-415a-a25a-bcf2da677e87",
   "metadata": {},
   "outputs": [
    {
     "name": "stdout",
     "output_type": "stream",
     "text": [
      "Accuracy: 0.6367432150313153\n"
     ]
    }
   ],
   "source": [
    "accurrf_y_score=accuracy_score(Y_test,rf_y_pred)\n",
    "print(\"Accuracy:\",accurrf_y_score)"
   ]
  },
  {
   "cell_type": "markdown",
   "id": "8efdb9c9-0ba0-49a1-9209-6c1993e7aff5",
   "metadata": {},
   "source": [
    "*  Classification report\n"
   ]
  },
  {
   "cell_type": "code",
   "execution_count": 36,
   "id": "e4f5c1b7-4ffc-464c-86d2-1aaa540fd5ed",
   "metadata": {},
   "outputs": [
    {
     "name": "stdout",
     "output_type": "stream",
     "text": [
      "              precision    recall  f1-score   support\n",
      "\n",
      "           0       0.29      0.36      0.32        22\n",
      "           1       0.45      0.51      0.48        49\n",
      "           2       0.47      0.46      0.46        85\n",
      "           3       0.44      0.45      0.45        86\n",
      "           4       0.87      0.82      0.84       237\n",
      "\n",
      "    accuracy                           0.64       479\n",
      "   macro avg       0.50      0.52      0.51       479\n",
      "weighted avg       0.65      0.64      0.64       479\n",
      "\n"
     ]
    }
   ],
   "source": [
    "\n",
    "from sklearn.metrics import classification_report\n",
    "reportrf=classification_report(Y_test,rf_y_pred)\n",
    "print(reportrf)"
   ]
  },
  {
   "cell_type": "code",
   "execution_count": 37,
   "id": "4a67cbd6-4636-4baf-a1f2-385c9706d70d",
   "metadata": {},
   "outputs": [
    {
     "name": "stdout",
     "output_type": "stream",
     "text": [
      "micro_precision_rf: 0.6367432150313153\n",
      "micro_recall_rf: 0.6367432150313153\n",
      "micro_f1score_rf: 0.6367432150313153\n"
     ]
    }
   ],
   "source": [
    "from sklearn.metrics import precision_recall_fscore_support\n",
    "micro_precision_rf, micro_recall_rf, micro_f1_rf, _ = precision_recall_fscore_support(Y_test, rf_y_pred, average='micro')\n",
    "print(\"micro_precision_rf:\",micro_precision_rf)\n",
    "print(\"micro_recall_rf:\",micro_recall_rf)\n",
    "print(\"micro_f1score_rf:\",micro_f1_rf)"
   ]
  },
  {
   "cell_type": "markdown",
   "id": "d62ea20f-f2c8-40e6-b795-98f0f50e2d45",
   "metadata": {},
   "source": [
    "## Gradient Boosting Classifier"
   ]
  },
  {
   "cell_type": "code",
   "execution_count": 38,
   "id": "859b50fe-045f-4a65-a1c3-1e99b7982e02",
   "metadata": {},
   "outputs": [],
   "source": [
    "from sklearn.ensemble import GradientBoostingClassifier"
   ]
  },
  {
   "cell_type": "code",
   "execution_count": 39,
   "id": "b9dd18fc-08b0-434c-98d9-cd35ebcd0b67",
   "metadata": {},
   "outputs": [],
   "source": [
    "gb_model=GradientBoostingClassifier(n_estimators=100,learning_rate=1.0,max_depth=1,random_state=42)\n",
    "gb_model.fit(X_train_resampled,Y_train_resampled)\n",
    "gbcy_pred=rf_model.predict(X_test)\n"
   ]
  },
  {
   "cell_type": "markdown",
   "id": "825b5070-5e0e-4778-8100-56c72f0b66dd",
   "metadata": {},
   "source": [
    "* Accuracy"
   ]
  },
  {
   "cell_type": "code",
   "execution_count": 40,
   "id": "33738797-f24e-4c61-b298-408fe4383b6d",
   "metadata": {},
   "outputs": [
    {
     "name": "stdout",
     "output_type": "stream",
     "text": [
      "Accuracy: 0.6367432150313153\n"
     ]
    }
   ],
   "source": [
    "accurgb_y_score=accuracy_score(Y_test,gbcy_pred)\n",
    "print(\"Accuracy:\",accurgb_y_score)"
   ]
  },
  {
   "cell_type": "markdown",
   "id": "f9e94eae-0bd4-4387-a11c-7381317f4a24",
   "metadata": {},
   "source": [
    "*  Classification report"
   ]
  },
  {
   "cell_type": "code",
   "execution_count": 41,
   "id": "18d9facf-d271-4661-b504-1cd5347b9e13",
   "metadata": {},
   "outputs": [
    {
     "name": "stdout",
     "output_type": "stream",
     "text": [
      "              precision    recall  f1-score   support\n",
      "\n",
      "           0       0.29      0.36      0.32        22\n",
      "           1       0.45      0.51      0.48        49\n",
      "           2       0.47      0.46      0.46        85\n",
      "           3       0.44      0.45      0.45        86\n",
      "           4       0.87      0.82      0.84       237\n",
      "\n",
      "    accuracy                           0.64       479\n",
      "   macro avg       0.50      0.52      0.51       479\n",
      "weighted avg       0.65      0.64      0.64       479\n",
      "\n"
     ]
    }
   ],
   "source": [
    "from sklearn.metrics import classification_report\n",
    "reportgbc=classification_report(Y_test,gbcy_pred)\n",
    "print(reportgbc)"
   ]
  },
  {
   "cell_type": "code",
   "execution_count": 42,
   "id": "f1a3d7de-0c42-46cd-ab21-210b9da0fd6d",
   "metadata": {},
   "outputs": [
    {
     "name": "stdout",
     "output_type": "stream",
     "text": [
      "micro_precision_gbc: 0.6367432150313153\n",
      "micro_recall_gbc: 0.6367432150313153\n",
      "micro_f1score_gbc: 0.6367432150313153\n"
     ]
    }
   ],
   "source": [
    "from sklearn.metrics import precision_recall_fscore_support\n",
    "micro_precision_gbc, micro_recall_gbc, micro_f1_gbc, _ = precision_recall_fscore_support(Y_test, gbcy_pred, average='micro')\n",
    "print(\"micro_precision_gbc:\",micro_precision_gbc)\n",
    "print(\"micro_recall_gbc:\",micro_recall_gbc)\n",
    "print(\"micro_f1score_gbc:\",micro_f1_gbc)"
   ]
  },
  {
   "cell_type": "markdown",
   "id": "632dbe0c-9478-4857-a324-91f8f8537aa3",
   "metadata": {},
   "source": [
    "## Bagging Classifier "
   ]
  },
  {
   "cell_type": "code",
   "execution_count": 43,
   "id": "bd0b5ec2-fa85-4c8e-83fd-970269e6f5de",
   "metadata": {},
   "outputs": [],
   "source": [
    "from sklearn.ensemble import BaggingClassifier\n",
    "from sklearn.tree import DecisionTreeClassifier\n",
    "base_estimator = DecisionTreeClassifier(random_state=42)\n",
    "bagging_clf = BaggingClassifier(estimator=base_estimator, n_estimators=100, random_state=42)\n",
    "bagging_clf.fit(X_train_resampled, Y_train_resampled)\n",
    "ybg_pred = bagging_clf.predict(X_test)"
   ]
  },
  {
   "cell_type": "markdown",
   "id": "1e7edc35-0065-4e19-9cef-5cd2f54441ec",
   "metadata": {},
   "source": [
    "* Accuracy"
   ]
  },
  {
   "cell_type": "code",
   "execution_count": 44,
   "id": "9ffe4100-c0ff-4841-9ccf-1f049232b681",
   "metadata": {},
   "outputs": [
    {
     "name": "stdout",
     "output_type": "stream",
     "text": [
      "Accuracy 0.6221294363256785\n"
     ]
    }
   ],
   "source": [
    "accuracy = accuracy_score(Y_test, ybg_pred)\n",
    "print(\"Accuracy\",accuracy)"
   ]
  },
  {
   "cell_type": "markdown",
   "id": "03fef283-00aa-4ca6-b76d-8679b712dfd6",
   "metadata": {},
   "source": [
    "* Classification report"
   ]
  },
  {
   "cell_type": "code",
   "execution_count": 45,
   "id": "34f9cd45-a281-4eba-a180-665d2849a0e6",
   "metadata": {},
   "outputs": [
    {
     "name": "stdout",
     "output_type": "stream",
     "text": [
      "              precision    recall  f1-score   support\n",
      "\n",
      "           0       0.23      0.32      0.27        22\n",
      "           1       0.37      0.53      0.44        49\n",
      "           2       0.49      0.42      0.46        85\n",
      "           3       0.47      0.50      0.49        86\n",
      "           4       0.87      0.78      0.82       237\n",
      "\n",
      "    accuracy                           0.62       479\n",
      "   macro avg       0.49      0.51      0.49       479\n",
      "weighted avg       0.65      0.62      0.63       479\n",
      "\n"
     ]
    }
   ],
   "source": [
    "from sklearn.metrics import classification_report\n",
    "reportbg=classification_report(Y_test,ybg_pred)\n",
    "print(reportbg)"
   ]
  },
  {
   "cell_type": "code",
   "execution_count": 47,
   "id": "70a9d3f7-ed9f-415c-a9e9-db1ca3f10537",
   "metadata": {},
   "outputs": [
    {
     "name": "stdout",
     "output_type": "stream",
     "text": [
      "micro_precision_bg: 0.6221294363256785\n",
      "micro_recall_bg: 0.6221294363256785\n",
      "micro_f1score_bg: 0.6221294363256785\n"
     ]
    }
   ],
   "source": [
    "from sklearn.metrics import precision_recall_fscore_support\n",
    "micro_precision_bg, micro_recall_bg, micro_f1_bg, _ = precision_recall_fscore_support(Y_test, ybg_pred, average='micro')\n",
    "print(\"micro_precision_bg:\",micro_precision_bg)\n",
    "print(\"micro_recall_bg:\",micro_recall_bg)\n",
    "print(\"micro_f1score_bg:\",micro_f1_bg)"
   ]
  },
  {
   "cell_type": "markdown",
   "id": "9bd09062-2148-4165-98a2-29f58472a7fa",
   "metadata": {},
   "source": [
    "## Linear Discriminant Analysis"
   ]
  },
  {
   "cell_type": "code",
   "execution_count": 48,
   "id": "b98d19c1-b03a-486e-a1a8-15fbeaf7dfc4",
   "metadata": {},
   "outputs": [],
   "source": [
    "from sklearn.discriminant_analysis import LinearDiscriminantAnalysis as LDA\n",
    "ld=LDA()\n",
    "ld.fit(X_train_resampled, Y_train_resampled)\n",
    "y_predld=ld.predict(X_test)"
   ]
  },
  {
   "cell_type": "markdown",
   "id": "a529e158-c52a-4349-bbe8-421352c54da2",
   "metadata": {},
   "source": [
    "* Accuracy "
   ]
  },
  {
   "cell_type": "code",
   "execution_count": 49,
   "id": "6b6af47f-c275-4cc4-b1eb-7e514493d320",
   "metadata": {},
   "outputs": [
    {
     "data": {
      "text/plain": [
       "0.569937369519833"
      ]
     },
     "execution_count": 49,
     "metadata": {},
     "output_type": "execute_result"
    }
   ],
   "source": [
    "accuracy = accuracy_score(Y_test, y_predld)\n",
    "accuracy "
   ]
  },
  {
   "cell_type": "markdown",
   "id": "56f3cade-fb18-482e-a0df-6e599e3bf3d7",
   "metadata": {},
   "source": [
    "* Classification report"
   ]
  },
  {
   "cell_type": "code",
   "execution_count": 50,
   "id": "c7ba5f27-f811-4eb7-bdde-76ef6f697176",
   "metadata": {},
   "outputs": [
    {
     "name": "stdout",
     "output_type": "stream",
     "text": [
      "              precision    recall  f1-score   support\n",
      "\n",
      "           0       0.13      0.36      0.19        22\n",
      "           1       0.30      0.31      0.30        49\n",
      "           2       0.41      0.29      0.34        85\n",
      "           3       0.40      0.42      0.41        86\n",
      "           4       0.88      0.80      0.84       237\n",
      "\n",
      "    accuracy                           0.57       479\n",
      "   macro avg       0.42      0.44      0.42       479\n",
      "weighted avg       0.62      0.57      0.59       479\n",
      "\n"
     ]
    }
   ],
   "source": [
    "from sklearn.metrics import classification_report\n",
    "reportldy=classification_report(Y_test,y_predld)\n",
    "print(reportldy)"
   ]
  },
  {
   "cell_type": "code",
   "execution_count": 56,
   "id": "4ce2cfd7-9e63-4c46-ac82-e214b3a4df41",
   "metadata": {},
   "outputs": [
    {
     "name": "stdout",
     "output_type": "stream",
     "text": [
      "micro_precision_ld: 0.569937369519833\n",
      "micro_recall_ld: 0.569937369519833\n",
      "micro_f1score_ld: 0.569937369519833\n"
     ]
    }
   ],
   "source": [
    "from sklearn.metrics import precision_recall_fscore_support\n",
    "micro_precision_ld, micro_recall_ld, micro_f1_ld, _ = precision_recall_fscore_support(Y_test, y_predld, average='micro')\n",
    "print(\"micro_precision_ld:\",micro_precision_ld)\n",
    "print(\"micro_recall_ld:\",micro_recall_ld)\n",
    "print(\"micro_f1score_ld:\",micro_f1_ld)"
   ]
  },
  {
   "cell_type": "code",
   "execution_count": 57,
   "id": "5e0f6b77-03d1-4c43-8a77-f874d3dd4d54",
   "metadata": {},
   "outputs": [
    {
     "data": {
      "image/png": "[encoded data removed]",
      "text/plain": [
       "<Figure size 1000x600 with 1 Axes>"
      ]
     },
     "metadata": {},
     "output_type": "display_data"
    }
   ],
   "source": [
    "import matplotlib.pyplot as plt\n",
    "import numpy as np\n",
    "models = [\"NB\", \"KNN\", 'Decision_Tree', \"SVM\", \"lR\", \n",
    "          \"rf\", \"GB\", \"BC\", \n",
    "          \"LDA\"]\n",
    "precision = [micro_precisionMN , micro_precision_knn,micro_precision_dt,micro_precision_svm, micro_precision_lry,micro_precision_rf,micro_precision_gbc, micro_precision_bg,micro_precision_ld]\n",
    "plt.figure(figsize=(10, 6))\n",
    "bars = plt.bar(models, precision, color='skyblue')  # Create the bar plot\n",
    "plt.xlabel('Models')  # Label for x-axis\n",
    "plt.ylabel('Precision')  # Label for y-axis\n",
    "plt.title('Precision of Different Models')  # Title for the plot\n",
    "\n",
    "plt.show()"
   ]
  },
  {
   "cell_type": "code",
   "execution_count": 58,
   "id": "3d2c9c9b-00b1-4464-8b33-27fe9ee6f36c",
   "metadata": {},
   "outputs": [
    {
     "data": {
      "image/png": "[encoded data removed]",
      "text/plain": [
       "<Figure size 1000x600 with 1 Axes>"
      ]
     },
     "metadata": {},
     "output_type": "display_data"
    }
   ],
   "source": [
    "import matplotlib.pyplot as plt\n",
    "import numpy as np\n",
    "models = [\"NB\", \"KNN\", 'Decision_Tree', \"SVM\", \"lR\", \n",
    "          \"rf\", \"GB\", \"BC\", \n",
    "          \"LDA\"]\n",
    "precision = [micro_recallMN , micro_recall_knn,micro_recall_dt,micro_recall_svm, micro_recall_lry,micro_recall_rf,micro_recall_gbc, micro_recall_bg,micro_recall_ld]\n",
    "plt.figure(figsize=(10, 6))\n",
    "bars = plt.bar(models, precision, color='hotpink')  # Create the bar plot\n",
    "plt.xlabel('Models')  # Label for x-axis\n",
    "plt.ylabel('Recall')  # Label for y-axis\n",
    "plt.title('Recall of Different Models')  # Title for the plot\n",
    "plt.show()"
   ]
  },
  {
   "cell_type": "code",
   "execution_count": 59,
   "id": "5817f3f1-ace8-4430-8f5e-af1233b09f62",
   "metadata": {},
   "outputs": [
    {
     "data": {
      "image/png": "[encoded data removed]",
      "text/plain": [
       "<Figure size 1000x600 with 1 Axes>"
      ]
     },
     "metadata": {},
     "output_type": "display_data"
    }
   ],
   "source": [
    "import matplotlib.pyplot as plt\n",
    "import numpy as np\n",
    "models = [\"NB\", \"KNN\", 'Decision_Tree', \"SVM\", \"lR\", \n",
    "          \"rf\", \"GB\", \"BC\", \n",
    "          \"LDA\"]\n",
    "precision = [micro_f1MN , micro_f1_knn,micro_f1_dt,micro_f1_svm, micro_f1_lry,micro_f1_rf,micro_f1_gbc, micro_f1_bg,micro_f1_ld]\n",
    "plt.figure(figsize=(10, 6))\n",
    "bars = plt.bar(models, precision, color='c')  # Create the bar plot\n",
    "plt.xlabel('Models')  # Label for x-axis\n",
    "plt.ylabel('f1 score')  # Label for y-axis\n",
    "plt.title('f1 score  of Different Models')  # Title for the plot\n",
    "plt.show()\n"
   ]
  },
  {
   "cell_type": "code",
   "execution_count": 60,
   "id": "0f8cb1a8-70a6-4a20-96e1-606a2300a7e3",
   "metadata": {},
   "outputs": [
    {
     "data": {
      "image/png": "[encoded data removed]",
      "text/plain": [
       "<Figure size 1000x600 with 1 Axes>"
      ]
     },
     "metadata": {},
     "output_type": "display_data"
    }
   ],
   "source": [
    "import matplotlib.pyplot as plt\n",
    "import numpy as np\n",
    "models = [\"NB\", \"KNN\", 'Decision_Tree', \"SVM\", \"lR\", \n",
    "          \"rf\", \"GB\", \"BC\", \n",
    "          \"LDA\"]\n",
    "precision = [accur_score ,knn_accur_score,acc,accursvm_score, accurlr_score,accurrf_y_score,accurgb_y_score,accuracy ,accuracy]\n",
    "plt.figure(figsize=(10, 6))\n",
    "bars = plt.bar(models, precision, color='pink')  # Create the bar plot\n",
    "plt.xlabel('Models')  # Label for x-axis\n",
    "plt.ylabel('Accuracy')  # Label for y-axis\n",
    "plt.title('Accuracy  of Different Models')  # Title for the plot\n",
    "plt.show()"
   ]
  },
  {
   "cell_type": "markdown",
   "id": "b85285ee-8f2a-49d0-8e1f-efa4c750ad73",
   "metadata": {},
   "source": [
    "## From the above graphs we conclude that Super vector machine model  gives better result than other models"
   ]
  },
  {
   "cell_type": "code",
   "execution_count": null,
   "id": "fad5576f-e1ff-4a1a-8018-32702372b7a9",
   "metadata": {},
   "outputs": [],
   "source": []
  },
  {
   "cell_type": "code",
   "execution_count": null,
   "id": "46cd8e16-e271-4787-8b2b-5b66b0faeb16",
   "metadata": {},
   "outputs": [],
   "source": []
  },
  {
   "cell_type": "code",
   "execution_count": null,
   "id": "0152300d-1a2e-4acf-a7e5-6a87cddd7696",
   "metadata": {},
   "outputs": [],
   "source": []
  },
  {
   "cell_type": "code",
   "execution_count": null,
   "id": "72e9f59f-6c72-46c1-9204-bc3c6fc31663",
   "metadata": {},
   "outputs": [],
   "source": []
  }
 ],
 "metadata": {
  "kernelspec": {
   "display_name": "Python 3 (ipykernel)",
   "language": "python",
   "name": "python3"
  },
  "language_info": {
   "codemirror_mode": {
    "name": "ipython",
    "version": 3
   },
   "file_extension": ".py",
   "mimetype": "text/x-python",
   "name": "python",
   "nbconvert_exporter": "python",
   "pygments_lexer": "ipython3",
   "version": "3.11.7"
  },
  "widgets": {
   "application/vnd.jupyter.widget-state+json": {
    "state": {},
    "version_major": 2,
    "version_minor": 0
   }
  }
 },
 "nbformat": 4,
 "nbformat_minor": 5
}
