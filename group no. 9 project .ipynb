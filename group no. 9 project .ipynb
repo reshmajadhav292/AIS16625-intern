{
 "cells": [
  {
   "cell_type": "markdown",
   "id": "3204a94a-bafa-4a75-8486-d972b871f758",
   "metadata": {},
   "source": [
    "## student performance prediction with all features"
   ]
  },
  {
   "cell_type": "code",
   "execution_count": 3,
   "id": "264fe70c-ad6c-406b-9ade-b2c7cbe38f3f",
   "metadata": {},
   "outputs": [],
   "source": [
    "import numpy as np"
   ]
  },
  {
   "cell_type": "code",
   "execution_count": 4,
   "id": "e86f75e9-e92e-47e2-bd75-86b21c16a9b1",
   "metadata": {},
   "outputs": [],
   "source": [
    "import pandas as pd"
   ]
  },
  {
   "cell_type": "code",
   "execution_count": 5,
   "id": "e3c069fb-0d6d-4b70-a9a0-6eb8d58d2f0a",
   "metadata": {},
   "outputs": [],
   "source": [
    "data=pd.read_csv(\"C://Users//DISHA_COMPUTER//Documents//student performance dataset ....csv\")\n"
   ]
  },
  {
   "cell_type": "code",
   "execution_count": 6,
   "id": "e62d3dde-f1d7-4b50-b5fb-adf7816424d2",
   "metadata": {},
   "outputs": [
    {
     "data": {
      "text/html": [
       "<div>\n",
       "<style scoped>\n",
       "    .dataframe tbody tr th:only-of-type {\n",
       "        vertical-align: middle;\n",
       "    }\n",
       "\n",
       "    .dataframe tbody tr th {\n",
       "        vertical-align: top;\n",
       "    }\n",
       "\n",
       "    .dataframe thead th {\n",
       "        text-align: right;\n",
       "    }\n",
       "</style>\n",
       "<table border=\"1\" class=\"dataframe\">\n",
       "  <thead>\n",
       "    <tr style=\"text-align: right;\">\n",
       "      <th></th>\n",
       "      <th>StudentID</th>\n",
       "      <th>Age</th>\n",
       "      <th>Gender</th>\n",
       "      <th>Ethnicity</th>\n",
       "      <th>ParentalEducation</th>\n",
       "      <th>StudyTimeWeekly</th>\n",
       "      <th>Absences</th>\n",
       "      <th>Tutoring</th>\n",
       "      <th>ParentalSupport</th>\n",
       "      <th>Extracurricular</th>\n",
       "      <th>Sports</th>\n",
       "      <th>Music</th>\n",
       "      <th>Volunteering</th>\n",
       "      <th>GPA</th>\n",
       "      <th>GradeClass</th>\n",
       "    </tr>\n",
       "  </thead>\n",
       "  <tbody>\n",
       "    <tr>\n",
       "      <th>0</th>\n",
       "      <td>1001</td>\n",
       "      <td>17</td>\n",
       "      <td>1</td>\n",
       "      <td>0</td>\n",
       "      <td>2</td>\n",
       "      <td>19.833723</td>\n",
       "      <td>7</td>\n",
       "      <td>1</td>\n",
       "      <td>2</td>\n",
       "      <td>0</td>\n",
       "      <td>0</td>\n",
       "      <td>1</td>\n",
       "      <td>0</td>\n",
       "      <td>2.929196</td>\n",
       "      <td>2</td>\n",
       "    </tr>\n",
       "    <tr>\n",
       "      <th>1</th>\n",
       "      <td>1002</td>\n",
       "      <td>18</td>\n",
       "      <td>0</td>\n",
       "      <td>0</td>\n",
       "      <td>1</td>\n",
       "      <td>15.408756</td>\n",
       "      <td>0</td>\n",
       "      <td>0</td>\n",
       "      <td>1</td>\n",
       "      <td>0</td>\n",
       "      <td>0</td>\n",
       "      <td>0</td>\n",
       "      <td>0</td>\n",
       "      <td>3.042915</td>\n",
       "      <td>1</td>\n",
       "    </tr>\n",
       "    <tr>\n",
       "      <th>2</th>\n",
       "      <td>1003</td>\n",
       "      <td>15</td>\n",
       "      <td>0</td>\n",
       "      <td>2</td>\n",
       "      <td>3</td>\n",
       "      <td>4.210570</td>\n",
       "      <td>26</td>\n",
       "      <td>0</td>\n",
       "      <td>2</td>\n",
       "      <td>0</td>\n",
       "      <td>0</td>\n",
       "      <td>0</td>\n",
       "      <td>0</td>\n",
       "      <td>0.112602</td>\n",
       "      <td>4</td>\n",
       "    </tr>\n",
       "    <tr>\n",
       "      <th>3</th>\n",
       "      <td>1004</td>\n",
       "      <td>17</td>\n",
       "      <td>1</td>\n",
       "      <td>0</td>\n",
       "      <td>3</td>\n",
       "      <td>10.028829</td>\n",
       "      <td>14</td>\n",
       "      <td>0</td>\n",
       "      <td>3</td>\n",
       "      <td>1</td>\n",
       "      <td>0</td>\n",
       "      <td>0</td>\n",
       "      <td>0</td>\n",
       "      <td>2.054218</td>\n",
       "      <td>3</td>\n",
       "    </tr>\n",
       "    <tr>\n",
       "      <th>4</th>\n",
       "      <td>1005</td>\n",
       "      <td>17</td>\n",
       "      <td>1</td>\n",
       "      <td>0</td>\n",
       "      <td>2</td>\n",
       "      <td>4.672495</td>\n",
       "      <td>17</td>\n",
       "      <td>1</td>\n",
       "      <td>3</td>\n",
       "      <td>0</td>\n",
       "      <td>0</td>\n",
       "      <td>0</td>\n",
       "      <td>0</td>\n",
       "      <td>1.288061</td>\n",
       "      <td>4</td>\n",
       "    </tr>\n",
       "  </tbody>\n",
       "</table>\n",
       "</div>"
      ],
      "text/plain": [
       "   StudentID  Age  Gender  Ethnicity  ParentalEducation  StudyTimeWeekly  \\\n",
       "0       1001   17       1          0                  2        19.833723   \n",
       "1       1002   18       0          0                  1        15.408756   \n",
       "2       1003   15       0          2                  3         4.210570   \n",
       "3       1004   17       1          0                  3        10.028829   \n",
       "4       1005   17       1          0                  2         4.672495   \n",
       "\n",
       "   Absences  Tutoring  ParentalSupport  Extracurricular  Sports  Music  \\\n",
       "0         7         1                2                0       0      1   \n",
       "1         0         0                1                0       0      0   \n",
       "2        26         0                2                0       0      0   \n",
       "3        14         0                3                1       0      0   \n",
       "4        17         1                3                0       0      0   \n",
       "\n",
       "   Volunteering       GPA  GradeClass  \n",
       "0             0  2.929196           2  \n",
       "1             0  3.042915           1  \n",
       "2             0  0.112602           4  \n",
       "3             0  2.054218           3  \n",
       "4             0  1.288061           4  "
      ]
     },
     "execution_count": 6,
     "metadata": {},
     "output_type": "execute_result"
    }
   ],
   "source": [
    "data.head()"
   ]
  },
  {
   "cell_type": "code",
   "execution_count": 66,
   "id": "aa5c8235-62a3-4c32-bdae-2c348c89d8fb",
   "metadata": {},
   "outputs": [],
   "source": [
    "# Gender = 0- male , 1- female \n",
    "# parental education = o- none,1- high school,2-some college ,3-bachleor,4-higher\n",
    "# tutoring = 0- no ,1-yes\n",
    "# parental support = 0-none,1-low,2-moderate ,3-high,4-very high\n",
    "# Extracurricular\t= 0- no,1-yes\n",
    "# Sports= 0- no,1-yes\n",
    "# Music\t= 0-no,1-yes\n",
    "# Volunteering=0-no ,1-yes"
   ]
  },
  {
   "cell_type": "code",
   "execution_count": 7,
   "id": "06a3ccbf-88ce-4a50-9586-cc9fa31edb65",
   "metadata": {},
   "outputs": [
    {
     "data": {
      "text/plain": [
       "StudentID            0\n",
       "Age                  0\n",
       "Gender               0\n",
       "Ethnicity            0\n",
       "ParentalEducation    0\n",
       "StudyTimeWeekly      0\n",
       "Absences             0\n",
       "Tutoring             0\n",
       "ParentalSupport      0\n",
       "Extracurricular      0\n",
       "Sports               0\n",
       "Music                0\n",
       "Volunteering         0\n",
       "GPA                  0\n",
       "GradeClass           0\n",
       "dtype: int64"
      ]
     },
     "execution_count": 7,
     "metadata": {},
     "output_type": "execute_result"
    }
   ],
   "source": [
    "missing_value = data.isnull().sum()\n",
    "missing_value"
   ]
  },
  {
   "cell_type": "code",
   "execution_count": 8,
   "id": "3251b6ac-b934-4a9d-9e24-3c54ecce502a",
   "metadata": {},
   "outputs": [
    {
     "name": "stdout",
     "output_type": "stream",
     "text": [
      "<class 'pandas.core.frame.DataFrame'>\n",
      "RangeIndex: 2392 entries, 0 to 2391\n",
      "Data columns (total 15 columns):\n",
      " #   Column             Non-Null Count  Dtype  \n",
      "---  ------             --------------  -----  \n",
      " 0   StudentID          2392 non-null   int64  \n",
      " 1   Age                2392 non-null   int64  \n",
      " 2   Gender             2392 non-null   int64  \n",
      " 3   Ethnicity          2392 non-null   int64  \n",
      " 4   ParentalEducation  2392 non-null   int64  \n",
      " 5   StudyTimeWeekly    2392 non-null   float64\n",
      " 6   Absences           2392 non-null   int64  \n",
      " 7   Tutoring           2392 non-null   int64  \n",
      " 8   ParentalSupport    2392 non-null   int64  \n",
      " 9   Extracurricular    2392 non-null   int64  \n",
      " 10  Sports             2392 non-null   int64  \n",
      " 11  Music              2392 non-null   int64  \n",
      " 12  Volunteering       2392 non-null   int64  \n",
      " 13  GPA                2392 non-null   float64\n",
      " 14  GradeClass         2392 non-null   int64  \n",
      "dtypes: float64(2), int64(13)\n",
      "memory usage: 280.4 KB\n"
     ]
    }
   ],
   "source": [
    "data.info()"
   ]
  },
  {
   "cell_type": "code",
   "execution_count": 9,
   "id": "cf2abd18-a19d-49f4-9cdf-d6cfb37a971b",
   "metadata": {},
   "outputs": [
    {
     "data": {
      "text/plain": [
       "StudentID            0\n",
       "Age                  0\n",
       "Gender               0\n",
       "Ethnicity            0\n",
       "ParentalEducation    0\n",
       "StudyTimeWeekly      0\n",
       "Absences             0\n",
       "Tutoring             0\n",
       "ParentalSupport      0\n",
       "Extracurricular      0\n",
       "Sports               0\n",
       "Music                0\n",
       "Volunteering         0\n",
       "GPA                  0\n",
       "GradeClass           0\n",
       "dtype: int64"
      ]
     },
     "execution_count": 9,
     "metadata": {},
     "output_type": "execute_result"
    }
   ],
   "source": [
    "data.isnull().sum()"
   ]
  },
  {
   "cell_type": "code",
   "execution_count": 10,
   "id": "e2704d6d-fe79-4f44-b384-eeb949eab6fa",
   "metadata": {},
   "outputs": [],
   "source": [
    "data.drop([\"GPA\",\"StudentID\"],axis=1,inplace=True)"
   ]
  },
  {
   "cell_type": "code",
   "execution_count": 11,
   "id": "bf679443-90d9-41ab-a81c-796ab1decbfb",
   "metadata": {},
   "outputs": [
    {
     "ename": "AttributeError",
     "evalue": "'numpy.int64' object has no attribute 'startswith'",
     "output_type": "error",
     "traceback": [
      "\u001b[1;31m---------------------------------------------------------------------------\u001b[0m",
      "\u001b[1;31mAttributeError\u001b[0m                            Traceback (most recent call last)",
      "Cell \u001b[1;32mIn[11], line 3\u001b[0m\n\u001b[0;32m      1\u001b[0m \u001b[38;5;28;01mimport\u001b[39;00m \u001b[38;5;21;01mseaborn\u001b[39;00m \u001b[38;5;28;01mas\u001b[39;00m \u001b[38;5;21;01msns\u001b[39;00m\n\u001b[0;32m      2\u001b[0m \u001b[38;5;28;01mimport\u001b[39;00m \u001b[38;5;21;01mmatplotlib\u001b[39;00m\u001b[38;5;21;01m.\u001b[39;00m\u001b[38;5;21;01mpyplot\u001b[39;00m \u001b[38;5;28;01mas\u001b[39;00m \u001b[38;5;21;01mplt\u001b[39;00m\n\u001b[1;32m----> 3\u001b[0m sns\u001b[38;5;241m.\u001b[39mcountplot(x\u001b[38;5;241m=\u001b[39mdata[\u001b[38;5;124m\"\u001b[39m\u001b[38;5;124mTutoring\u001b[39m\u001b[38;5;124m\"\u001b[39m],hue\u001b[38;5;241m=\u001b[39mdata[\u001b[38;5;124m'\u001b[39m\u001b[38;5;124mGender\u001b[39m\u001b[38;5;124m'\u001b[39m], data\u001b[38;5;241m=\u001b[39mdata,color\u001b[38;5;241m=\u001b[39m\u001b[38;5;124m\"\u001b[39m\u001b[38;5;124mc\u001b[39m\u001b[38;5;124m\"\u001b[39m)\n\u001b[0;32m      4\u001b[0m plt\u001b[38;5;241m.\u001b[39mtitle(\u001b[38;5;124m\"\u001b[39m\u001b[38;5;124mtutoring distribution by sex\u001b[39m\u001b[38;5;124m\"\u001b[39m)\n",
      "File \u001b[1;32m~\\anaconda3\\Lib\\site-packages\\seaborn\\categorical.py:2955\u001b[0m, in \u001b[0;36mcountplot\u001b[1;34m(data, x, y, hue, order, hue_order, orient, color, palette, saturation, width, dodge, ax, **kwargs)\u001b[0m\n\u001b[0;32m   2952\u001b[0m \u001b[38;5;28;01mif\u001b[39;00m ax \u001b[38;5;129;01mis\u001b[39;00m \u001b[38;5;28;01mNone\u001b[39;00m:\n\u001b[0;32m   2953\u001b[0m     ax \u001b[38;5;241m=\u001b[39m plt\u001b[38;5;241m.\u001b[39mgca()\n\u001b[1;32m-> 2955\u001b[0m plotter\u001b[38;5;241m.\u001b[39mplot(ax, kwargs)\n\u001b[0;32m   2956\u001b[0m \u001b[38;5;28;01mreturn\u001b[39;00m ax\n",
      "File \u001b[1;32m~\\anaconda3\\Lib\\site-packages\\seaborn\\categorical.py:1587\u001b[0m, in \u001b[0;36m_BarPlotter.plot\u001b[1;34m(self, ax, bar_kws)\u001b[0m\n\u001b[0;32m   1585\u001b[0m \u001b[38;5;250m\u001b[39m\u001b[38;5;124;03m\"\"\"Make the plot.\"\"\"\u001b[39;00m\n\u001b[0;32m   1586\u001b[0m \u001b[38;5;28mself\u001b[39m\u001b[38;5;241m.\u001b[39mdraw_bars(ax, bar_kws)\n\u001b[1;32m-> 1587\u001b[0m \u001b[38;5;28mself\u001b[39m\u001b[38;5;241m.\u001b[39mannotate_axes(ax)\n\u001b[0;32m   1588\u001b[0m \u001b[38;5;28;01mif\u001b[39;00m \u001b[38;5;28mself\u001b[39m\u001b[38;5;241m.\u001b[39morient \u001b[38;5;241m==\u001b[39m \u001b[38;5;124m\"\u001b[39m\u001b[38;5;124mh\u001b[39m\u001b[38;5;124m\"\u001b[39m:\n\u001b[0;32m   1589\u001b[0m     ax\u001b[38;5;241m.\u001b[39minvert_yaxis()\n",
      "File \u001b[1;32m~\\anaconda3\\Lib\\site-packages\\seaborn\\categorical.py:767\u001b[0m, in \u001b[0;36m_CategoricalPlotter.annotate_axes\u001b[1;34m(self, ax)\u001b[0m\n\u001b[0;32m    764\u001b[0m     ax\u001b[38;5;241m.\u001b[39mset_ylim(\u001b[38;5;241m-\u001b[39m\u001b[38;5;241m.5\u001b[39m, \u001b[38;5;28mlen\u001b[39m(\u001b[38;5;28mself\u001b[39m\u001b[38;5;241m.\u001b[39mplot_data) \u001b[38;5;241m-\u001b[39m \u001b[38;5;241m.5\u001b[39m, auto\u001b[38;5;241m=\u001b[39m\u001b[38;5;28;01mNone\u001b[39;00m)\n\u001b[0;32m    766\u001b[0m \u001b[38;5;28;01mif\u001b[39;00m \u001b[38;5;28mself\u001b[39m\u001b[38;5;241m.\u001b[39mhue_names \u001b[38;5;129;01mis\u001b[39;00m \u001b[38;5;129;01mnot\u001b[39;00m \u001b[38;5;28;01mNone\u001b[39;00m:\n\u001b[1;32m--> 767\u001b[0m     ax\u001b[38;5;241m.\u001b[39mlegend(loc\u001b[38;5;241m=\u001b[39m\u001b[38;5;124m\"\u001b[39m\u001b[38;5;124mbest\u001b[39m\u001b[38;5;124m\"\u001b[39m, title\u001b[38;5;241m=\u001b[39m\u001b[38;5;28mself\u001b[39m\u001b[38;5;241m.\u001b[39mhue_title)\n",
      "File \u001b[1;32m~\\anaconda3\\Lib\\site-packages\\matplotlib\\axes\\_axes.py:322\u001b[0m, in \u001b[0;36mAxes.legend\u001b[1;34m(self, *args, **kwargs)\u001b[0m\n\u001b[0;32m    204\u001b[0m \u001b[38;5;129m@_docstring\u001b[39m\u001b[38;5;241m.\u001b[39mdedent_interpd\n\u001b[0;32m    205\u001b[0m \u001b[38;5;28;01mdef\u001b[39;00m \u001b[38;5;21mlegend\u001b[39m(\u001b[38;5;28mself\u001b[39m, \u001b[38;5;241m*\u001b[39margs, \u001b[38;5;241m*\u001b[39m\u001b[38;5;241m*\u001b[39mkwargs):\n\u001b[0;32m    206\u001b[0m \u001b[38;5;250m    \u001b[39m\u001b[38;5;124;03m\"\"\"\u001b[39;00m\n\u001b[0;32m    207\u001b[0m \u001b[38;5;124;03m    Place a legend on the Axes.\u001b[39;00m\n\u001b[0;32m    208\u001b[0m \n\u001b[1;32m   (...)\u001b[0m\n\u001b[0;32m    320\u001b[0m \u001b[38;5;124;03m    .. plot:: gallery/text_labels_and_annotations/legend.py\u001b[39;00m\n\u001b[0;32m    321\u001b[0m \u001b[38;5;124;03m    \"\"\"\u001b[39;00m\n\u001b[1;32m--> 322\u001b[0m     handles, labels, kwargs \u001b[38;5;241m=\u001b[39m mlegend\u001b[38;5;241m.\u001b[39m_parse_legend_args([\u001b[38;5;28mself\u001b[39m], \u001b[38;5;241m*\u001b[39margs, \u001b[38;5;241m*\u001b[39m\u001b[38;5;241m*\u001b[39mkwargs)\n\u001b[0;32m    323\u001b[0m     \u001b[38;5;28mself\u001b[39m\u001b[38;5;241m.\u001b[39mlegend_ \u001b[38;5;241m=\u001b[39m mlegend\u001b[38;5;241m.\u001b[39mLegend(\u001b[38;5;28mself\u001b[39m, handles, labels, \u001b[38;5;241m*\u001b[39m\u001b[38;5;241m*\u001b[39mkwargs)\n\u001b[0;32m    324\u001b[0m     \u001b[38;5;28mself\u001b[39m\u001b[38;5;241m.\u001b[39mlegend_\u001b[38;5;241m.\u001b[39m_remove_method \u001b[38;5;241m=\u001b[39m \u001b[38;5;28mself\u001b[39m\u001b[38;5;241m.\u001b[39m_remove_legend\n",
      "File \u001b[1;32m~\\anaconda3\\Lib\\site-packages\\matplotlib\\legend.py:1361\u001b[0m, in \u001b[0;36m_parse_legend_args\u001b[1;34m(axs, handles, labels, *args, **kwargs)\u001b[0m\n\u001b[0;32m   1357\u001b[0m     handles \u001b[38;5;241m=\u001b[39m [handle \u001b[38;5;28;01mfor\u001b[39;00m handle, label\n\u001b[0;32m   1358\u001b[0m                \u001b[38;5;129;01min\u001b[39;00m \u001b[38;5;28mzip\u001b[39m(_get_legend_handles(axs, handlers), labels)]\n\u001b[0;32m   1360\u001b[0m \u001b[38;5;28;01melif\u001b[39;00m \u001b[38;5;28mlen\u001b[39m(args) \u001b[38;5;241m==\u001b[39m \u001b[38;5;241m0\u001b[39m:  \u001b[38;5;66;03m# 0 args: automatically detect labels and handles.\u001b[39;00m\n\u001b[1;32m-> 1361\u001b[0m     handles, labels \u001b[38;5;241m=\u001b[39m _get_legend_handles_labels(axs, handlers)\n\u001b[0;32m   1362\u001b[0m     \u001b[38;5;28;01mif\u001b[39;00m \u001b[38;5;129;01mnot\u001b[39;00m handles:\n\u001b[0;32m   1363\u001b[0m         log\u001b[38;5;241m.\u001b[39mwarning(\n\u001b[0;32m   1364\u001b[0m             \u001b[38;5;124m\"\u001b[39m\u001b[38;5;124mNo artists with labels found to put in legend.  Note that \u001b[39m\u001b[38;5;124m\"\u001b[39m\n\u001b[0;32m   1365\u001b[0m             \u001b[38;5;124m\"\u001b[39m\u001b[38;5;124martists whose label start with an underscore are ignored \u001b[39m\u001b[38;5;124m\"\u001b[39m\n\u001b[0;32m   1366\u001b[0m             \u001b[38;5;124m\"\u001b[39m\u001b[38;5;124mwhen legend() is called with no argument.\u001b[39m\u001b[38;5;124m\"\u001b[39m)\n",
      "File \u001b[1;32m~\\anaconda3\\Lib\\site-packages\\matplotlib\\legend.py:1291\u001b[0m, in \u001b[0;36m_get_legend_handles_labels\u001b[1;34m(axs, legend_handler_map)\u001b[0m\n\u001b[0;32m   1289\u001b[0m \u001b[38;5;28;01mfor\u001b[39;00m handle \u001b[38;5;129;01min\u001b[39;00m _get_legend_handles(axs, legend_handler_map):\n\u001b[0;32m   1290\u001b[0m     label \u001b[38;5;241m=\u001b[39m handle\u001b[38;5;241m.\u001b[39mget_label()\n\u001b[1;32m-> 1291\u001b[0m     \u001b[38;5;28;01mif\u001b[39;00m label \u001b[38;5;129;01mand\u001b[39;00m \u001b[38;5;129;01mnot\u001b[39;00m label\u001b[38;5;241m.\u001b[39mstartswith(\u001b[38;5;124m'\u001b[39m\u001b[38;5;124m_\u001b[39m\u001b[38;5;124m'\u001b[39m):\n\u001b[0;32m   1292\u001b[0m         handles\u001b[38;5;241m.\u001b[39mappend(handle)\n\u001b[0;32m   1293\u001b[0m         labels\u001b[38;5;241m.\u001b[39mappend(label)\n",
      "\u001b[1;31mAttributeError\u001b[0m: 'numpy.int64' object has no attribute 'startswith'"
     ]
    },
    {
     "data": {
      "image/png": "[encoded data removed]",
      "text/plain": [
       "<Figure size 640x480 with 1 Axes>"
      ]
     },
     "metadata": {},
     "output_type": "display_data"
    }
   ],
   "source": [
    "import seaborn as sns\n",
    "import matplotlib.pyplot as plt\n",
    "sns.countplot(x=data[\"Tutoring\"],hue=data['Gender'], data=data,color=\"c\")\n",
    "plt.title(\"tutoring distribution by sex\")"
   ]
  },
  {
   "cell_type": "code",
   "execution_count": 15,
   "id": "9c3472e9-3fa9-44ee-825a-8c3746ec1a73",
   "metadata": {},
   "outputs": [
    {
     "data": {
      "text/plain": [
       "<matplotlib.legend.Legend at 0x227dacc08d0>"
      ]
     },
     "execution_count": 15,
     "metadata": {},
     "output_type": "execute_result"
    },
    {
     "data": {
      "image/png": "[encoded data removed]",
      "text/plain": [
       "<Figure size 500x500 with 1 Axes>"
      ]
     },
     "metadata": {},
     "output_type": "display_data"
    }
   ],
   "source": [
    "# pie chart\n",
    "data[\"GradeClass\"].value_counts().plot.pie(autopct=\"%1.1f%%\",figsize=(5,5),startangle=160,colors=['c','skyblue','Pink','hotpink','m'])\n",
    "plt.title('Distribution of Grade of students')\n",
    "plt.legend()"
   ]
  },
  {
   "cell_type": "markdown",
   "id": "352323eb-b6fe-46d9-8419-174213e2ea17",
   "metadata": {},
   "source": [
    "#### 0 = A grade class\n",
    "#### 1 = B grade class\n",
    "#### 2 = C grade class\n",
    "#### 3 = D grade class\n",
    "#### 4 = E grade class"
   ]
  },
  {
   "cell_type": "markdown",
   "id": "86af1b1a-d1a1-4d16-a33c-2258adfe7dd1",
   "metadata": {},
   "source": [
    "###  from the pie chart we conclude that most student get \"E\" Grade class  . 4.5% students get Grade class A "
   ]
  },
  {
   "cell_type": "code",
   "execution_count": 16,
   "id": "6242e547-be2d-4b96-8c94-1b8811618a55",
   "metadata": {},
   "outputs": [
    {
     "data": {
      "image/png": "[encoded data removed]",
      "text/plain": [
       "<Figure size 800x800 with 1 Axes>"
      ]
     },
     "metadata": {},
     "output_type": "display_data"
    }
   ],
   "source": [
    "# Boxplot\n",
    "plt.figure(figsize=(8, 8))\n",
    "sns.boxplot(data=data, x='GradeClass', y='StudyTimeWeekly', palette='pastel')\n",
    "plt.title('students grade class  distribution by study time weekly ')\n",
    "plt.xlabel('GradeClass')\n",
    "plt.ylabel('StudyTimeWeekly')\n",
    "plt.show()"
   ]
  },
  {
   "cell_type": "markdown",
   "id": "9002a185-6622-4c49-84aa-faf6ecf200b2",
   "metadata": {},
   "source": [
    "###  from graph we coclude that if study time weekly increases then get the high class grade and grade class A students study time is large than other grade class student "
   ]
  },
  {
   "cell_type": "code",
   "execution_count": 17,
   "id": "2d078349-591a-42b2-969a-74ca85c3dbb8",
   "metadata": {},
   "outputs": [
    {
     "data": {
      "image/png": "[encoded data removed]",
      "text/plain": [
       "<Figure size 640x480 with 1 Axes>"
      ]
     },
     "metadata": {},
     "output_type": "display_data"
    }
   ],
   "source": [
    "sns.barplot(x=\"GradeClass\",y=\"Absences\",data=data)\n",
    "plt.show()"
   ]
  },
  {
   "cell_type": "code",
   "execution_count": 18,
   "id": "4efdfd21-58c4-4a28-a73b-7d7080e4b0f6",
   "metadata": {},
   "outputs": [
    {
     "data": {
      "text/plain": [
       "((1913, 12), (479, 12), (1913,), (479,))"
      ]
     },
     "execution_count": 18,
     "metadata": {},
     "output_type": "execute_result"
    }
   ],
   "source": [
    "# Train and test split\n",
    "from sklearn.model_selection import train_test_split\n",
    "X=data[['Age','Gender','ParentalEducation','StudyTimeWeekly','Absences','Tutoring','ParentalSupport','Extracurricular','Sports',\"Ethnicity\",\"Music\",\"Volunteering\"]]\n",
    "Y=data[\"GradeClass\"]\n",
    "X_train, X_test, Y_train, Y_test = train_test_split(X, Y, test_size=0.20, random_state=42)\n",
    "X_train.shape, X_test.shape, Y_train.shape,Y_test.shape"
   ]
  },
  {
   "cell_type": "code",
   "execution_count": 19,
   "id": "2e16c012-e419-41b8-91ad-797f4a683ddd",
   "metadata": {},
   "outputs": [
    {
     "name": "stdout",
     "output_type": "stream",
     "text": [
      "{0: 974, 1: 974, 2: 974, 3: 974, 4: 974}\n"
     ]
    }
   ],
   "source": [
    "from imblearn.over_sampling import SMOTE\n",
    "smote = SMOTE( random_state=42)\n",
    "X_train_resampled, Y_train_resampled = smote.fit_resample(X_train, Y_train)\n",
    "unique, counts = np.unique(Y_train_resampled, return_counts=True)\n",
    "print(dict(zip(unique, counts)))"
   ]
  },
  {
   "cell_type": "markdown",
   "id": "0458eb54-1a8d-400c-9078-f46e4a59a48e",
   "metadata": {},
   "source": [
    "##  1. Multinomial Naive Bayes algorithm "
   ]
  },
  {
   "cell_type": "code",
   "execution_count": 20,
   "id": "857774d7-f25b-44f7-87d0-320e64b7698b",
   "metadata": {},
   "outputs": [],
   "source": [
    "from sklearn.naive_bayes import MultinomialNB\n",
    "Mnb=MultinomialNB()\n",
    "Mnb.fit(X_train_resampled,Y_train_resampled)\n",
    "MNy_pred=Mnb.predict(X_test)"
   ]
  },
  {
   "cell_type": "code",
   "execution_count": 21,
   "id": "1635985c-c3bf-40cd-97f8-37c6114dd808",
   "metadata": {},
   "outputs": [
    {
     "name": "stdout",
     "output_type": "stream",
     "text": [
      "Accuracy: 0.5866388308977035\n"
     ]
    }
   ],
   "source": [
    "# Accuracy\n",
    "from sklearn.metrics import accuracy_score\n",
    "accur_score=accuracy_score(Y_test,MNy_pred)\n",
    "print(\"Accuracy:\",accur_score)"
   ]
  },
  {
   "cell_type": "code",
   "execution_count": 22,
   "id": "c8d99356-41d2-403d-8f92-e398b180c00d",
   "metadata": {},
   "outputs": [
    {
     "name": "stdout",
     "output_type": "stream",
     "text": [
      "micro_precision: 0.5866388308977035\n",
      "micro_recall: 0.5866388308977035\n",
      "micro_f1score: 0.5866388308977035\n"
     ]
    }
   ],
   "source": [
    "from sklearn.metrics import precision_recall_fscore_support\n",
    "micro_precision, micro_recall, micro_f1, _ = precision_recall_fscore_support(Y_test, MNy_pred, average='micro')\n",
    "micro_precision, micro_recall, micro_f1\n",
    "print(\"micro_precision:\",micro_precision)\n",
    "print(\"micro_recall:\",micro_recall)\n",
    "print(\"micro_f1score:\",micro_f1)"
   ]
  },
  {
   "cell_type": "code",
   "execution_count": 23,
   "id": "9e4fef47-9e7b-4bdc-a38d-be90ef6cd602",
   "metadata": {},
   "outputs": [
    {
     "name": "stdout",
     "output_type": "stream",
     "text": [
      "              precision    recall  f1-score   support\n",
      "\n",
      "           0       0.12      0.23      0.16        22\n",
      "           1       0.34      0.45      0.39        49\n",
      "           2       0.45      0.26      0.33        85\n",
      "           3       0.40      0.48      0.43        86\n",
      "           4       0.87      0.81      0.84       237\n",
      "\n",
      "    accuracy                           0.59       479\n",
      "   macro avg       0.43      0.44      0.43       479\n",
      "weighted avg       0.62      0.59      0.60       479\n",
      "\n"
     ]
    }
   ],
   "source": [
    "# Classification report\n",
    "from sklearn.metrics import classification_report\n",
    "reportmny=classification_report(Y_test,MNy_pred)\n",
    "print(reportmny)"
   ]
  },
  {
   "cell_type": "markdown",
   "id": "ab33b6d0-b30f-404d-b214-6dd897c0c271",
   "metadata": {},
   "source": [
    "## 2 . KNN algorithm "
   ]
  },
  {
   "cell_type": "code",
   "execution_count": 24,
   "id": "ebb2a4c7-3d64-4759-83ba-88d2cfe3fbd0",
   "metadata": {},
   "outputs": [],
   "source": [
    "from sklearn.neighbors import KNeighborsClassifier\n",
    "classifier=KNeighborsClassifier(n_neighbors=5)\n",
    "classifier.fit(X_train_resampled,Y_train_resampled)\n",
    "ky_pred=classifier.predict(X_test)\n"
   ]
  },
  {
   "cell_type": "code",
   "execution_count": 25,
   "id": "755eaf38-f5cf-4c2e-8b53-3a4ab7ee0a96",
   "metadata": {},
   "outputs": [
    {
     "name": "stdout",
     "output_type": "stream",
     "text": [
      "Accuracy:{knn_accur_score:.2f}\n"
     ]
    }
   ],
   "source": [
    "# Accuracy\n",
    "from sklearn.metrics import accuracy_score\n",
    "knn_accur_score=accuracy_score(Y_test,ky_pred)\n",
    "print(\"Accuracy:{knn_accur_score:.2f}\")"
   ]
  },
  {
   "cell_type": "code",
   "execution_count": 26,
   "id": "be366b31-d044-4c2c-9499-56e3a7df8ad7",
   "metadata": {},
   "outputs": [
    {
     "name": "stdout",
     "output_type": "stream",
     "text": [
      "micro_precision: 0.5302713987473904\n",
      "micro_recall: 0.5302713987473904\n",
      "micro_f1score: 0.5302713987473904\n"
     ]
    }
   ],
   "source": [
    "from sklearn.metrics import precision_recall_fscore_support\n",
    "micro_precision_knn, micro_recall_knn, micro_f1_knn, _ = precision_recall_fscore_support(Y_test, ky_pred, average='micro')\n",
    "print(\"micro_precision:\",micro_precision_knn)\n",
    "print(\"micro_recall:\",micro_recall_knn)\n",
    "print(\"micro_f1score:\",micro_f1_knn)"
   ]
  },
  {
   "cell_type": "code",
   "execution_count": 27,
   "id": "b455b955-f095-48de-b685-c112045cd9b4",
   "metadata": {},
   "outputs": [
    {
     "name": "stdout",
     "output_type": "stream",
     "text": [
      "              precision    recall  f1-score   support\n",
      "\n",
      "           0       0.17      0.45      0.24        22\n",
      "           1       0.29      0.43      0.35        49\n",
      "           2       0.42      0.39      0.40        85\n",
      "           3       0.41      0.47      0.44        86\n",
      "           4       0.87      0.63      0.73       237\n",
      "\n",
      "    accuracy                           0.53       479\n",
      "   macro avg       0.43      0.47      0.43       479\n",
      "weighted avg       0.62      0.53      0.56       479\n",
      "\n"
     ]
    }
   ],
   "source": [
    "# Classification report\n",
    "from sklearn.metrics import classification_report\n",
    "reportky=classification_report(Y_test,ky_pred)\n",
    "print(reportky)"
   ]
  },
  {
   "cell_type": "markdown",
   "id": "b876084b-a760-4f9c-9acb-7b51046b63f3",
   "metadata": {},
   "source": [
    "## 3. Decision tree classfier "
   ]
  },
  {
   "cell_type": "code",
   "execution_count": 28,
   "id": "63fe7ce8-368a-4298-b2a2-302d390948ad",
   "metadata": {},
   "outputs": [],
   "source": [
    "import pandas as pd\n",
    "from sklearn.tree import DecisionTreeClassifier\n",
    "from sklearn.metrics import accuracy_score,classification_report,confusion_matrix\n",
    "clf=DecisionTreeClassifier(random_state=42)\n",
    "clf.fit(X_train_resampled,Y_train_resampled)\n",
    "clf_pred=clf.predict(X_test)\n"
   ]
  },
  {
   "cell_type": "code",
   "execution_count": 29,
   "id": "fbf492d9-1aaf-4939-9c79-2f87962003f1",
   "metadata": {},
   "outputs": [
    {
     "data": {
      "text/html": [
       "<div>\n",
       "<style scoped>\n",
       "    .dataframe tbody tr th:only-of-type {\n",
       "        vertical-align: middle;\n",
       "    }\n",
       "\n",
       "    .dataframe tbody tr th {\n",
       "        vertical-align: top;\n",
       "    }\n",
       "\n",
       "    .dataframe thead th {\n",
       "        text-align: right;\n",
       "    }\n",
       "</style>\n",
       "<table border=\"1\" class=\"dataframe\">\n",
       "  <thead>\n",
       "    <tr style=\"text-align: right;\">\n",
       "      <th></th>\n",
       "      <th>feature</th>\n",
       "      <th>Importance</th>\n",
       "    </tr>\n",
       "  </thead>\n",
       "  <tbody>\n",
       "    <tr>\n",
       "      <th>4</th>\n",
       "      <td>Absences</td>\n",
       "      <td>32.930629</td>\n",
       "    </tr>\n",
       "    <tr>\n",
       "      <th>3</th>\n",
       "      <td>StudyTimeWeekly</td>\n",
       "      <td>25.776824</td>\n",
       "    </tr>\n",
       "    <tr>\n",
       "      <th>6</th>\n",
       "      <td>ParentalSupport</td>\n",
       "      <td>8.556904</td>\n",
       "    </tr>\n",
       "    <tr>\n",
       "      <th>2</th>\n",
       "      <td>ParentalEducation</td>\n",
       "      <td>6.312402</td>\n",
       "    </tr>\n",
       "    <tr>\n",
       "      <th>9</th>\n",
       "      <td>Ethnicity</td>\n",
       "      <td>5.763100</td>\n",
       "    </tr>\n",
       "    <tr>\n",
       "      <th>0</th>\n",
       "      <td>Age</td>\n",
       "      <td>5.699169</td>\n",
       "    </tr>\n",
       "    <tr>\n",
       "      <th>5</th>\n",
       "      <td>Tutoring</td>\n",
       "      <td>3.539675</td>\n",
       "    </tr>\n",
       "    <tr>\n",
       "      <th>8</th>\n",
       "      <td>Sports</td>\n",
       "      <td>2.967366</td>\n",
       "    </tr>\n",
       "    <tr>\n",
       "      <th>1</th>\n",
       "      <td>Gender</td>\n",
       "      <td>2.742701</td>\n",
       "    </tr>\n",
       "    <tr>\n",
       "      <th>7</th>\n",
       "      <td>Extracurricular</td>\n",
       "      <td>2.514735</td>\n",
       "    </tr>\n",
       "    <tr>\n",
       "      <th>10</th>\n",
       "      <td>Music</td>\n",
       "      <td>1.868791</td>\n",
       "    </tr>\n",
       "    <tr>\n",
       "      <th>11</th>\n",
       "      <td>Volunteering</td>\n",
       "      <td>1.327705</td>\n",
       "    </tr>\n",
       "  </tbody>\n",
       "</table>\n",
       "</div>"
      ],
      "text/plain": [
       "              feature  Importance\n",
       "4            Absences   32.930629\n",
       "3     StudyTimeWeekly   25.776824\n",
       "6     ParentalSupport    8.556904\n",
       "2   ParentalEducation    6.312402\n",
       "9           Ethnicity    5.763100\n",
       "0                 Age    5.699169\n",
       "5            Tutoring    3.539675\n",
       "8              Sports    2.967366\n",
       "1              Gender    2.742701\n",
       "7     Extracurricular    2.514735\n",
       "10              Music    1.868791\n",
       "11       Volunteering    1.327705"
      ]
     },
     "execution_count": 29,
     "metadata": {},
     "output_type": "execute_result"
    }
   ],
   "source": [
    "feature_importance=clf.feature_importances_*100\n",
    "importance_d=pd.DataFrame({\"feature\":X.columns,\"Importance\":feature_importance})\n",
    "importance_d=importance_d.sort_values(by=\"Importance\",ascending=False)\n",
    "importance_d"
   ]
  },
  {
   "cell_type": "code",
   "execution_count": 30,
   "id": "ede7a6c2-5752-4360-99ba-f87a5e6fd4db",
   "metadata": {},
   "outputs": [
    {
     "data": {
      "text/plain": [
       "0.5845511482254697"
      ]
     },
     "execution_count": 30,
     "metadata": {},
     "output_type": "execute_result"
    }
   ],
   "source": [
    "# Accuracy \n",
    "acc=accuracy_score(Y_test,clf_pred)\n",
    "acc\n"
   ]
  },
  {
   "cell_type": "code",
   "execution_count": 31,
   "id": "3ee2b47d-8785-4949-bb57-55feee12fe78",
   "metadata": {},
   "outputs": [
    {
     "name": "stdout",
     "output_type": "stream",
     "text": [
      "micro_precision: 0.5845511482254697\n",
      "micro_recall: 0.5845511482254697\n",
      "micro_f1score: 0.5845511482254697\n"
     ]
    }
   ],
   "source": [
    "from sklearn.metrics import precision_recall_fscore_support\n",
    "micro_precision_dt, micro_recall_dt, micro_f1_dt, _ = precision_recall_fscore_support(Y_test, clf_pred, average='micro')\n",
    "print(\"micro_precision:\",micro_precision_dt)\n",
    "print(\"micro_recall:\",micro_recall_dt)\n",
    "print(\"micro_f1score:\",micro_f1_dt)"
   ]
  },
  {
   "cell_type": "code",
   "execution_count": 32,
   "id": "c85e66d4-5fc9-4e6f-a6ce-392212b477d3",
   "metadata": {},
   "outputs": [
    {
     "name": "stdout",
     "output_type": "stream",
     "text": [
      "              precision    recall  f1-score   support\n",
      "\n",
      "           0       0.17      0.18      0.17        22\n",
      "           1       0.36      0.49      0.41        49\n",
      "           2       0.43      0.47      0.45        85\n",
      "           3       0.40      0.40      0.40        86\n",
      "           4       0.85      0.75      0.80       237\n",
      "\n",
      "    accuracy                           0.58       479\n",
      "   macro avg       0.44      0.46      0.45       479\n",
      "weighted avg       0.61      0.58      0.60       479\n",
      "\n"
     ]
    }
   ],
   "source": [
    "# Classification report\n",
    "from sklearn.metrics import classification_report\n",
    "reportclfD=classification_report(Y_test,clf_pred)\n",
    "print(reportclfD)"
   ]
  },
  {
   "cell_type": "markdown",
   "id": "e75861f4-0763-4f83-baa8-61f45f9dbb91",
   "metadata": {},
   "source": [
    "## 4. support vector machine "
   ]
  },
  {
   "cell_type": "code",
   "execution_count": 33,
   "id": "2c47c8ef-ee25-4721-90b8-078d08f90852",
   "metadata": {},
   "outputs": [],
   "source": [
    "from sklearn.svm import SVC\n",
    "model=SVC()\n",
    "model.fit(X_train_resampled,Y_train_resampled)\n",
    "svmy_pred=model.predict(X_test)\n"
   ]
  },
  {
   "cell_type": "code",
   "execution_count": 34,
   "id": "9027432e-f176-4ca0-8397-c543446c3e67",
   "metadata": {},
   "outputs": [
    {
     "name": "stdout",
     "output_type": "stream",
     "text": [
      "Accuracy: 0.6638830897703549\n"
     ]
    }
   ],
   "source": [
    "# Accuracy\n",
    "from sklearn.metrics import accuracy_score\n",
    "accursvm_score=accuracy_score(Y_test,svmy_pred)\n",
    "print(\"Accuracy:\",accursvm_score)"
   ]
  },
  {
   "cell_type": "code",
   "execution_count": 35,
   "id": "f149451a-628e-42e2-aaaa-97f6e426dcb6",
   "metadata": {},
   "outputs": [
    {
     "name": "stdout",
     "output_type": "stream",
     "text": [
      "              precision    recall  f1-score   support\n",
      "\n",
      "           0       0.27      0.27      0.27        22\n",
      "           1       0.46      0.49      0.48        49\n",
      "           2       0.59      0.49      0.54        85\n",
      "           3       0.45      0.65      0.53        86\n",
      "           4       0.91      0.80      0.85       237\n",
      "\n",
      "    accuracy                           0.66       479\n",
      "   macro avg       0.54      0.54      0.53       479\n",
      "weighted avg       0.69      0.66      0.67       479\n",
      "\n"
     ]
    }
   ],
   "source": [
    "# Classification report\n",
    "from sklearn.metrics import classification_report\n",
    "reportsvmy=classification_report(Y_test,svmy_pred)\n",
    "print(reportsvmy)"
   ]
  },
  {
   "cell_type": "code",
   "execution_count": 36,
   "id": "77c12b63-1a57-40b7-91c8-4572218ab1c8",
   "metadata": {},
   "outputs": [
    {
     "name": "stdout",
     "output_type": "stream",
     "text": [
      "micro_precision: 0.6638830897703549\n",
      "micro_recall: 0.6638830897703549\n",
      "micro_f1score: 0.6638830897703549\n"
     ]
    }
   ],
   "source": [
    "from sklearn.metrics import precision_recall_fscore_support\n",
    "micro_precision_svm, micro_recall_svm, micro_f1_svm, _ = precision_recall_fscore_support(Y_test, svmy_pred, average='micro')\n",
    "print(\"micro_precision:\",micro_precision_svm)\n",
    "print(\"micro_recall:\",micro_recall_svm)\n",
    "print(\"micro_f1score:\",micro_f1_svm)"
   ]
  },
  {
   "cell_type": "markdown",
   "id": "c4422bcc-5507-4619-ab86-1326ebd2742c",
   "metadata": {},
   "source": [
    "## 5. logistic regression "
   ]
  },
  {
   "cell_type": "code",
   "execution_count": 37,
   "id": "0cd39a6a-bbbc-4353-be7f-4bed03dd441e",
   "metadata": {},
   "outputs": [
    {
     "name": "stderr",
     "output_type": "stream",
     "text": [
      "C:\\Users\\DISHA_COMPUTER\\anaconda3\\Lib\\site-packages\\sklearn\\linear_model\\_logistic.py:458: ConvergenceWarning: lbfgs failed to converge (status=1):\n",
      "STOP: TOTAL NO. of ITERATIONS REACHED LIMIT.\n",
      "\n",
      "Increase the number of iterations (max_iter) or scale the data as shown in:\n",
      "    https://scikit-learn.org/stable/modules/preprocessing.html\n",
      "Please also refer to the documentation for alternative solver options:\n",
      "    https://scikit-learn.org/stable/modules/linear_model.html#logistic-regression\n",
      "  n_iter_i = _check_optimize_result(\n"
     ]
    }
   ],
   "source": [
    "from sklearn.linear_model import LogisticRegression\n",
    "l = LogisticRegression(multi_class='auto',max_iter=1000)\n",
    "l.fit(X_train_resampled,Y_train_resampled)\n",
    "lry_pred=l.predict(X_test)"
   ]
  },
  {
   "cell_type": "code",
   "execution_count": 38,
   "id": "2f1687ad-a93c-4309-bac6-e7271272d414",
   "metadata": {},
   "outputs": [
    {
     "name": "stdout",
     "output_type": "stream",
     "text": [
      "Accuracy: 0.5511482254697286\n"
     ]
    }
   ],
   "source": [
    "# Accuracy\n",
    "accurlr_score=accuracy_score(Y_test,lry_pred)\n",
    "print(\"Accuracy:\",accurlr_score)"
   ]
  },
  {
   "cell_type": "code",
   "execution_count": 39,
   "id": "5f493802-d416-46a9-881a-60fd2cec70c5",
   "metadata": {},
   "outputs": [
    {
     "name": "stdout",
     "output_type": "stream",
     "text": [
      "micro_precision: 0.5511482254697286\n",
      "micro_recall: 0.5511482254697286\n",
      "micro_f1score: 0.5511482254697286\n"
     ]
    }
   ],
   "source": [
    "from sklearn.metrics import precision_recall_fscore_support\n",
    "micro_precision_lry, micro_recall_lry, micro_f1_lry, _ = precision_recall_fscore_support(Y_test, lry_pred, average='micro')\n",
    "print(\"micro_precision:\",micro_precision_lry)\n",
    "print(\"micro_recall:\",micro_recall_lry)\n",
    "print(\"micro_f1score:\",micro_f1_lry)"
   ]
  },
  {
   "cell_type": "code",
   "execution_count": 40,
   "id": "2b3512bc-c6c2-4e08-870a-c2656f6ed0eb",
   "metadata": {},
   "outputs": [
    {
     "name": "stdout",
     "output_type": "stream",
     "text": [
      "              precision    recall  f1-score   support\n",
      "\n",
      "           0       0.05      0.14      0.07        22\n",
      "           1       0.29      0.35      0.32        49\n",
      "           2       0.43      0.29      0.35        85\n",
      "           3       0.38      0.34      0.36        86\n",
      "           4       0.84      0.80      0.82       237\n",
      "\n",
      "    accuracy                           0.55       479\n",
      "   macro avg       0.40      0.38      0.38       479\n",
      "weighted avg       0.60      0.55      0.57       479\n",
      "\n"
     ]
    }
   ],
   "source": [
    "# Classification report\n",
    "from sklearn.metrics import classification_report\n",
    "reportlr=classification_report(Y_test,lry_pred)\n",
    "print(reportlr)"
   ]
  },
  {
   "cell_type": "markdown",
   "id": "0f7822fb-3213-42aa-9356-ba64dc8ec6af",
   "metadata": {},
   "source": [
    "## 6. Random forest classifier "
   ]
  },
  {
   "cell_type": "code",
   "execution_count": 41,
   "id": "07d482d8-73d1-4260-bc60-9f14598679d9",
   "metadata": {},
   "outputs": [],
   "source": [
    "from sklearn.ensemble import RandomForestClassifier\n",
    "rf_model=RandomForestClassifier(n_estimators=100,random_state=42)\n",
    "rf_model.fit(X_train_resampled,Y_train_resampled)\n",
    "rf_y_pred=rf_model.predict(X_test)\n"
   ]
  },
  {
   "cell_type": "code",
   "execution_count": 42,
   "id": "ae199515-c35a-4287-857b-a7abbe9d3b61",
   "metadata": {},
   "outputs": [
    {
     "name": "stdout",
     "output_type": "stream",
     "text": [
      "Accuracy: 0.6304801670146137\n"
     ]
    }
   ],
   "source": [
    "# Accuracy\n",
    "accurrf_y_score=accuracy_score(Y_test,rf_y_pred)\n",
    "print(\"Accuracy:\",accurrf_y_score)"
   ]
  },
  {
   "cell_type": "code",
   "execution_count": 43,
   "id": "52219b53-c3da-4db9-9fa1-e980029b3767",
   "metadata": {},
   "outputs": [
    {
     "name": "stdout",
     "output_type": "stream",
     "text": [
      "micro_precision: 0.6304801670146137\n",
      "micro_recall: 0.6304801670146137\n",
      "micro_f1score: 0.6304801670146137\n"
     ]
    }
   ],
   "source": [
    "from sklearn.metrics import precision_recall_fscore_support\n",
    "micro_precision_rfy, micro_recall_rfy, micro_f1_rfy, _ = precision_recall_fscore_support(Y_test, rf_y_pred, average='micro')\n",
    "print(\"micro_precision:\",micro_precision_rfy)\n",
    "print(\"micro_recall:\",micro_recall_rfy)\n",
    "print(\"micro_f1score:\",micro_f1_rfy)"
   ]
  },
  {
   "cell_type": "code",
   "execution_count": 44,
   "id": "f5babe5a-8fa0-4f66-b28f-7bf773042bf6",
   "metadata": {},
   "outputs": [
    {
     "name": "stdout",
     "output_type": "stream",
     "text": [
      "              precision    recall  f1-score   support\n",
      "\n",
      "           0       0.21      0.18      0.20        22\n",
      "           1       0.41      0.53      0.46        49\n",
      "           2       0.51      0.45      0.48        85\n",
      "           3       0.41      0.42      0.42        86\n",
      "           4       0.84      0.84      0.84       237\n",
      "\n",
      "    accuracy                           0.63       479\n",
      "   macro avg       0.48      0.48      0.48       479\n",
      "weighted avg       0.63      0.63      0.63       479\n",
      "\n"
     ]
    }
   ],
   "source": [
    "# Classification report\n",
    "from sklearn.metrics import classification_report\n",
    "reportrf=classification_report(Y_test,rf_y_pred)\n",
    "print(reportrf)"
   ]
  },
  {
   "cell_type": "markdown",
   "id": "03777726-ca35-41f9-b943-e401fdaa3782",
   "metadata": {},
   "source": [
    "## 7  Gradient Boosting  Classifier"
   ]
  },
  {
   "cell_type": "code",
   "execution_count": 45,
   "id": "df958899-1b30-4450-b265-7e6a2968c641",
   "metadata": {},
   "outputs": [],
   "source": [
    "from sklearn.ensemble import GradientBoostingClassifier"
   ]
  },
  {
   "cell_type": "code",
   "execution_count": 46,
   "id": "2a1dd00e-fc32-4cc5-9409-105d933629c7",
   "metadata": {},
   "outputs": [],
   "source": [
    "gb_model=GradientBoostingClassifier(n_estimators=100,learning_rate=1.0,max_depth=1,random_state=42)\n",
    "gb_model.fit(X_train_resampled,Y_train_resampled)\n",
    "gbcy_pred=rf_model.predict(X_test)\n"
   ]
  },
  {
   "cell_type": "code",
   "execution_count": 47,
   "id": "ece6e96a-7af8-4b21-a9ab-66eba8d04cc9",
   "metadata": {},
   "outputs": [
    {
     "name": "stdout",
     "output_type": "stream",
     "text": [
      "Accuracy: 0.6304801670146137\n"
     ]
    }
   ],
   "source": [
    "# Accuracy\n",
    "accurgb_y_score=accuracy_score(Y_test,gbcy_pred)\n",
    "print(\"Accuracy:\",accurgb_y_score)"
   ]
  },
  {
   "cell_type": "code",
   "execution_count": 48,
   "id": "7d0a090d-637d-454c-a1e7-7528804c7800",
   "metadata": {},
   "outputs": [
    {
     "name": "stdout",
     "output_type": "stream",
     "text": [
      "micro_precision: 0.6304801670146137\n",
      "micro_recall: 0.6304801670146137\n",
      "micro_f1score: 0.6304801670146137\n"
     ]
    }
   ],
   "source": [
    "from sklearn.metrics import precision_recall_fscore_support\n",
    "micro_precision_gbc, micro_recall_gbc, micro_f1_gbc, _ = precision_recall_fscore_support(Y_test, gbcy_pred, average='micro')\n",
    "print(\"micro_precision:\",micro_precision_gbc)\n",
    "print(\"micro_recall:\",micro_recall_gbc)\n",
    "print(\"micro_f1score:\",micro_f1_gbc)"
   ]
  },
  {
   "cell_type": "code",
   "execution_count": 49,
   "id": "b0445788-77ea-4c57-9739-28c640b4fbe2",
   "metadata": {},
   "outputs": [
    {
     "name": "stdout",
     "output_type": "stream",
     "text": [
      "              precision    recall  f1-score   support\n",
      "\n",
      "           0       0.21      0.18      0.20        22\n",
      "           1       0.41      0.53      0.46        49\n",
      "           2       0.51      0.45      0.48        85\n",
      "           3       0.41      0.42      0.42        86\n",
      "           4       0.84      0.84      0.84       237\n",
      "\n",
      "    accuracy                           0.63       479\n",
      "   macro avg       0.48      0.48      0.48       479\n",
      "weighted avg       0.63      0.63      0.63       479\n",
      "\n"
     ]
    }
   ],
   "source": [
    "# Classification report\n",
    "from sklearn.metrics import classification_report\n",
    "reportgbc=classification_report(Y_test,gbcy_pred)\n",
    "print(reportgbc)"
   ]
  },
  {
   "cell_type": "markdown",
   "id": "0d0e772e-3c89-4f2b-9e4e-bb1471df09d3",
   "metadata": {},
   "source": [
    "##  8 .  BaggingClassifier"
   ]
  },
  {
   "cell_type": "code",
   "execution_count": 50,
   "id": "ec628753-e59d-4ceb-9ea6-c41ea1efd7cc",
   "metadata": {},
   "outputs": [],
   "source": [
    "from sklearn.ensemble import BaggingClassifier\n",
    "from sklearn.tree import DecisionTreeClassifier\n",
    "base_estimator = DecisionTreeClassifier(random_state=42)\n",
    "bagging_clf = BaggingClassifier(estimator=base_estimator, n_estimators=100, random_state=42)\n",
    "bagging_clf.fit(X_train_resampled, Y_train_resampled)\n",
    "ybg_pred = bagging_clf.predict(X_test)"
   ]
  },
  {
   "cell_type": "code",
   "execution_count": 51,
   "id": "09af6556-e6ec-4538-8fc3-501f1ed66540",
   "metadata": {},
   "outputs": [
    {
     "name": "stdout",
     "output_type": "stream",
     "text": [
      "Accuracy: 0.67\n"
     ]
    }
   ],
   "source": [
    "# Accuracy\n",
    "accuracy = accuracy_score(Y_test, ybg_pred)\n",
    "print(f'Accuracy: {accuracy:.2f}')"
   ]
  },
  {
   "cell_type": "code",
   "execution_count": 52,
   "id": "c430eb64-a2e2-47fc-896e-a1f4af0c1ad2",
   "metadata": {},
   "outputs": [
    {
     "name": "stdout",
     "output_type": "stream",
     "text": [
      "micro_precision: 0.6701461377870563\n",
      "micro_recall: 0.6701461377870563\n",
      "micro_f1score: 0.6701461377870563\n"
     ]
    }
   ],
   "source": [
    "from sklearn.metrics import precision_recall_fscore_support\n",
    "micro_precision_bg, micro_recall_bg, micro_f1_bg, _ = precision_recall_fscore_support(Y_test, ybg_pred, average='micro')\n",
    "print(\"micro_precision:\",micro_precision_bg)\n",
    "print(\"micro_recall:\",micro_recall_bg)\n",
    "print(\"micro_f1score:\",micro_f1_bg)"
   ]
  },
  {
   "cell_type": "code",
   "execution_count": 53,
   "id": "84cc2fea-eb6e-48de-8173-45dd87c0531b",
   "metadata": {},
   "outputs": [
    {
     "name": "stdout",
     "output_type": "stream",
     "text": [
      "              precision    recall  f1-score   support\n",
      "\n",
      "           0       0.36      0.36      0.36        22\n",
      "           1       0.44      0.55      0.49        49\n",
      "           2       0.55      0.51      0.53        85\n",
      "           3       0.49      0.50      0.49        86\n",
      "           4       0.87      0.84      0.86       237\n",
      "\n",
      "    accuracy                           0.67       479\n",
      "   macro avg       0.54      0.55      0.55       479\n",
      "weighted avg       0.68      0.67      0.67       479\n",
      "\n"
     ]
    }
   ],
   "source": [
    "# Classification report\n",
    "from sklearn.metrics import classification_report\n",
    "reportbg=classification_report(Y_test,ybg_pred)\n",
    "print(reportbg)"
   ]
  },
  {
   "cell_type": "markdown",
   "id": "9c880b98-26b3-480c-b374-36ea87965f72",
   "metadata": {},
   "source": [
    "##  10 Linear Discriminant Analysis"
   ]
  },
  {
   "cell_type": "code",
   "execution_count": 54,
   "id": "e77d30c1-76b9-45d3-96bc-c8169f67e4fe",
   "metadata": {},
   "outputs": [],
   "source": [
    "from sklearn.discriminant_analysis import LinearDiscriminantAnalysis as LDA\n",
    "ld=LDA()\n",
    "ld.fit(X_train_resampled, Y_train_resampled)\n",
    "y_predld=ld.predict(X_test)"
   ]
  },
  {
   "cell_type": "code",
   "execution_count": 88,
   "id": "0ccbf99e-c998-438e-b57d-381f17c6ab1b",
   "metadata": {},
   "outputs": [
    {
     "data": {
      "text/plain": [
       "0.5511482254697286"
      ]
     },
     "execution_count": 88,
     "metadata": {},
     "output_type": "execute_result"
    }
   ],
   "source": [
    "# Accuracy\n",
    "accuracy = accuracy_score(Y_test, y_predld)\n",
    "accuracy "
   ]
  },
  {
   "cell_type": "code",
   "execution_count": 89,
   "id": "3431e4f4-391a-4d07-838f-904c15d3341d",
   "metadata": {},
   "outputs": [
    {
     "name": "stdout",
     "output_type": "stream",
     "text": [
      "              precision    recall  f1-score   support\n",
      "\n",
      "           0       0.08      0.23      0.12        22\n",
      "           1       0.24      0.24      0.24        49\n",
      "           2       0.44      0.32      0.37        85\n",
      "           3       0.36      0.35      0.36        86\n",
      "           4       0.85      0.80      0.83       237\n",
      "\n",
      "    accuracy                           0.55       479\n",
      "   macro avg       0.39      0.39      0.38       479\n",
      "weighted avg       0.59      0.55      0.57       479\n",
      "\n"
     ]
    }
   ],
   "source": [
    "# Classification report\n",
    "from sklearn.metrics import classification_report\n",
    "reportldy=classification_report(Y_test,y_predld)\n",
    "print(reportldy)"
   ]
  },
  {
   "cell_type": "code",
   "execution_count": 55,
   "id": "a20fb82e-bd29-410c-a9b7-98495a65a926",
   "metadata": {},
   "outputs": [
    {
     "name": "stdout",
     "output_type": "stream",
     "text": [
      "micro_precision: 0.5511482254697286\n",
      "micro_recall: 0.5511482254697286\n",
      "micro_f1score: 0.5511482254697286\n"
     ]
    }
   ],
   "source": [
    "from sklearn.metrics import precision_recall_fscore_support\n",
    "micro_precision_lda, micro_recall_lda, micro_f1_lda, _ = precision_recall_fscore_support(Y_test, y_predld, average='micro')\n",
    "print(\"micro_precision:\",micro_precision_lda)\n",
    "print(\"micro_recall:\",micro_recall_lda)\n",
    "print(\"micro_f1score:\",micro_f1_lda)"
   ]
  },
  {
   "cell_type": "code",
   "execution_count": 59,
   "id": "823d09fa-8f8e-475c-93dc-6080e1bc7b38",
   "metadata": {},
   "outputs": [
    {
     "data": {
      "image/png": "[encoded data removed]",
      "text/plain": [
       "<Figure size 1000x600 with 1 Axes>"
      ]
     },
     "metadata": {},
     "output_type": "display_data"
    }
   ],
   "source": [
    "import matplotlib.pyplot as plt\n",
    "import numpy as np\n",
    "models = [\"NB\", \"KNN\", 'Decision_Tree', \"SVM\", \"lR\", \n",
    "          \"rf\", \"GB\", \"BC\", \n",
    "          \"LDA\"]\n",
    "precision = [micro_precision , micro_precision_knn,micro_precision_dt,micro_precision_svm, micro_precision_lry,micro_precision_rfy,micro_precision_gbc, micro_precision_bg,micro_precision_lda]\n",
    "plt.figure(figsize=(10, 6))\n",
    "bars = plt.bar(models, precision, color='skyblue')  \n",
    "plt.xlabel('Models') \n",
    "plt.ylabel('Precision')  \n",
    "plt.title('Precision of Different Models')  \n",
    "\n",
    "plt.show()"
   ]
  },
  {
   "cell_type": "code",
   "execution_count": 62,
   "id": "1bf3f27d-ee75-424e-8f06-22336c3eaa4f",
   "metadata": {},
   "outputs": [
    {
     "data": {
      "image/png": "[encoded data removed]",
      "text/plain": [
       "<Figure size 1000x600 with 1 Axes>"
      ]
     },
     "metadata": {},
     "output_type": "display_data"
    }
   ],
   "source": [
    "import matplotlib.pyplot as plt\n",
    "import numpy as np\n",
    "models = [\"NB\", \"KNN\", 'Decision_Tree', \"SVM\", \"lR\", \n",
    "          \"rf\", \"GB\", \"BC\", \n",
    "          \"LDA\"]\n",
    "precision = [micro_recall , micro_recall_knn,micro_recall_dt,micro_recall_svm, micro_recall_lry,micro_recall_rfy,micro_recall_gbc, micro_recall_bg,micro_recall_lda]\n",
    "plt.figure(figsize=(10, 6))\n",
    "bars = plt.bar(models, precision, color='hotpink')  \n",
    "plt.xlabel('Models')  # Label for x-axis\n",
    "plt.ylabel('Recall')  # Label for y-axis\n",
    "plt.title('Recall of Different Models')  \n",
    "plt.show()"
   ]
  },
  {
   "cell_type": "code",
   "execution_count": 64,
   "id": "0803ea47-672a-4355-9a3a-d91c1b03d71e",
   "metadata": {},
   "outputs": [
    {
     "data": {
      "image/png": "[encoded data removed]",
      "text/plain": [
       "<Figure size 1000x600 with 1 Axes>"
      ]
     },
     "metadata": {},
     "output_type": "display_data"
    }
   ],
   "source": [
    "import matplotlib.pyplot as plt\n",
    "import numpy as np\n",
    "models = [\"NB\", \"KNN\", 'Decision_Tree', \"SVM\", \"lR\", \n",
    "          \"rf\", \"GB\", \"BC\", \n",
    "          \"LDA\"]\n",
    "precision = [micro_f1 , micro_f1_knn,micro_f1_dt,micro_f1_svm, micro_f1_lry,micro_f1_rfy,micro_f1_gbc, micro_f1_bg,micro_f1_lda]\n",
    "plt.figure(figsize=(10, 6))\n",
    "bars = plt.bar(models, precision, color='c')  \n",
    "plt.xlabel('Models') \n",
    "plt.ylabel('f1 score')  \n",
    "plt.title('f1 score  of Different Models') \n",
    "plt.show()\n"
   ]
  },
  {
   "cell_type": "code",
   "execution_count": 65,
   "id": "4be58232-c47a-456e-bb7d-daf766e5a97c",
   "metadata": {},
   "outputs": [
    {
     "data": {
      "image/png": "[encoded data removed]",
      "text/plain": [
       "<Figure size 1000x600 with 1 Axes>"
      ]
     },
     "metadata": {},
     "output_type": "display_data"
    }
   ],
   "source": [
    "import matplotlib.pyplot as plt\n",
    "import numpy as np\n",
    "models = [\"NB\", \"KNN\", 'Decision_Tree', \"SVM\", \"lR\", \n",
    "          \"rf\", \"GB\", \"BC\", \n",
    "          \"LDA\"]\n",
    "precision = [accur_score ,knn_accur_score,acc,accursvm_score, accurlr_score,accurrf_y_score,accurgb_y_score,accuracy ,accuracy]\n",
    "plt.figure(figsize=(10, 6))\n",
    "bars = plt.bar(models, precision, color='pink')  \n",
    "plt.xlabel('Models') \n",
    "plt.ylabel('Accuracy') \n",
    "plt.title('Accuracy  of Different Models') \n",
    "plt.show()"
   ]
  },
  {
   "cell_type": "markdown",
   "id": "f7bb70c4-37b8-4020-bf70-d75b8c6c0d32",
   "metadata": {},
   "source": [
    "## from the above accuracy of different models graphs we conclude that Bagging Classifier and Linear discriminant analysis model more accurate than other models "
   ]
  },
  {
   "cell_type": "code",
   "execution_count": null,
   "id": "d2a9003c-398b-405d-90fc-2726ebdcc7e9",
   "metadata": {},
   "outputs": [],
   "source": []
  }
 ],
 "metadata": {
  "kernelspec": {
   "display_name": "Python 3 (ipykernel)",
   "language": "python",
   "name": "python3"
  },
  "language_info": {
   "codemirror_mode": {
    "name": "ipython",
    "version": 3
   },
   "file_extension": ".py",
   "mimetype": "text/x-python",
   "name": "python",
   "nbconvert_exporter": "python",
   "pygments_lexer": "ipython3",
   "version": "3.11.7"
  },
  "widgets": {
   "application/vnd.jupyter.widget-state+json": {
    "state": {},
    "version_major": 2,
    "version_minor": 0
   }
  }
 },
 "nbformat": 4,
 "nbformat_minor": 5
}
