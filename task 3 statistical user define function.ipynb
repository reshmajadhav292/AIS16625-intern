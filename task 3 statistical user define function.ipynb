{
 "cells": [
  {
   "cell_type": "code",
   "execution_count": 2,
   "id": "968d52c2-8610-4adf-a2a8-765e39e234cf",
   "metadata": {},
   "outputs": [
    {
     "name": "stdout",
     "output_type": "stream",
     "text": [
      "The mean is: 5.75\n"
     ]
    }
   ],
   "source": [
    "# Mean\n",
    "def cal_mean(l):\n",
    "    if len(l)==0:\n",
    "       return(0)\n",
    "    mean=sum(l)/len(l)\n",
    "    return(mean)\n",
    "l=[4,5,6,8]\n",
    "mean=cal_mean(l)\n",
    "print(\"The mean is:\",mean)"
   ]
  },
  {
   "cell_type": "code",
   "execution_count": 3,
   "id": "e75ee214-491b-430c-96bf-70257e667f97",
   "metadata": {},
   "outputs": [
    {
     "name": "stdout",
     "output_type": "stream",
     "text": [
      "Median: 3.5\n"
     ]
    }
   ],
   "source": [
    "# Median\n",
    "def median(l):\n",
    "    s_n = sorted(l)\n",
    "    n = len(s_n)\n",
    "    if n % 2 == 0:\n",
    "        # If the number of elements is even, take the average of the middle two numbers\n",
    "        middle_left = s_n[n // 2 - 1]\n",
    "        middle_right = s_n[n // 2]\n",
    "        return (middle_left + middle_right) / 2\n",
    "    else:\n",
    "        # If the number of elements is odd, return the middle number\n",
    "        return sorted_numbers[n // 2]\n",
    "l = [5, 2, 8, 4, 1, 3]\n",
    "print(\"Median:\", median(l))\n",
    "\n"
   ]
  },
  {
   "cell_type": "code",
   "execution_count": 10,
   "id": "bd35b5ee-e3d3-48df-97c9-b0bd5174e829",
   "metadata": {},
   "outputs": [
    {
     "name": "stdout",
     "output_type": "stream",
     "text": [
      "Mode: [2]\n"
     ]
    }
   ],
   "source": [
    "# Mode\n",
    "def cal_mode(l):\n",
    "    counts = {}\n",
    "    for num in l:\n",
    "        if num in counts:\n",
    "            counts[num] += 1\n",
    "        else:\n",
    "            counts[num] = 1\n",
    "    \n",
    "    max_count = max(counts.values())\n",
    "    mode = [num for num, count in counts.items() if count == max_count]\n",
    "    \n",
    "    return mode\n",
    "\n",
    "l = [1, 2, 3, 4, 2, 2, 3, 4, 5]\n",
    "mode = cal_mode(l)\n",
    "print(\"Mode:\", mode)\n",
    "\n"
   ]
  },
  {
   "cell_type": "code",
   "execution_count": 4,
   "id": "6acc4daf-2972-4030-bab4-f234b9c9b768",
   "metadata": {},
   "outputs": [
    {
     "name": "stdout",
     "output_type": "stream",
     "text": [
      "Range: 73\n"
     ]
    }
   ],
   "source": [
    "# Range\n",
    "def cal_range(l):\n",
    "    min_value=min(l)\n",
    "    max_value=max(l)\n",
    "    return max_value - min_value\n",
    "l=[12,45,74,85,35,65]\n",
    "range=cal_range(l)\n",
    "print(\"Range:\",range)\n"
   ]
  },
  {
   "cell_type": "code",
   "execution_count": 5,
   "id": "c04c97b3-623c-4838-957f-b1703a5634cb",
   "metadata": {},
   "outputs": [
    {
     "name": "stdout",
     "output_type": "stream",
     "text": [
      "Var: 2.1875\n"
     ]
    }
   ],
   "source": [
    "# Variance\n",
    "def cal_variance(l):\n",
    "    if len(l)==0:\n",
    "       return(0)\n",
    "    mean=sum(l)/len(l)\n",
    "    s=[(x-mean)**2 for x in l]\n",
    "    var=sum(s)/len(l)\n",
    "    return(var)\n",
    "l=[4,5,6,8]\n",
    "var=cal_variance(l)\n",
    "print(\"Var:\",var)\n",
    "\n"
   ]
  },
  {
   "cell_type": "code",
   "execution_count": 1,
   "id": "105482da-0f34-4de9-aebc-e00d5381e533",
   "metadata": {},
   "outputs": [
    {
     "name": "stdout",
     "output_type": "stream",
     "text": [
      "Sd: 1.479019945774904\n"
     ]
    }
   ],
   "source": [
    "# Standard deviation\n",
    "def cal_sd(l):\n",
    "    if len(l)==0:\n",
    "       return(0)\n",
    "    mean=sum(l)/len(l)\n",
    "    s=[(x-mean)**2 for x in l]\n",
    "    var=sum(s)/len(l)\n",
    "    sd=var**0.5\n",
    "    return(sd)\n",
    "l=[4,5,6,8]\n",
    "sd=cal_sd(l)\n",
    "print(\"Sd:\",sd)"
   ]
  },
  {
   "cell_type": "code",
   "execution_count": 8,
   "id": "08f33c24-ca47-42db-89fb-6071a4a45770",
   "metadata": {},
   "outputs": [
    {
     "name": "stdout",
     "output_type": "stream",
     "text": [
      "Skewness: 0.15798755143759521\n"
     ]
    }
   ],
   "source": [
    "# Skewness\n",
    "def skewness(l):\n",
    "    n=len(l)\n",
    "    mean=sum(l)/n\n",
    "    a=sum((x-mean)**3 for x in l)/n\n",
    "    b=(sum((x-mean)**2 for x in l)/n)**(3/2)\n",
    "    skew=a/b\n",
    "    return(skew)\n",
    "l=[4,5,6,8,9]\n",
    "skew=skewness(l)\n",
    "print(\"Skewness:\",skew)\n"
   ]
  },
  {
   "cell_type": "code",
   "execution_count": 9,
   "id": "537fa775-9c6a-4115-a7db-4cfa6869456a",
   "metadata": {},
   "outputs": [
    {
     "name": "stdout",
     "output_type": "stream",
     "text": [
      "Kurtosis: -1.4908058409951326\n"
     ]
    }
   ],
   "source": [
    "# Kurtosis\n",
    "def kurtosis(l):\n",
    "    n=len(l)\n",
    "    mean=sum(l)/n\n",
    "    a=sum((x-mean)**4 for x in l)/n\n",
    "    b=(sum((x-mean)**2 for x in l)/n)**2\n",
    "    kurt=(a/b)-3\n",
    "    return(kurt)\n",
    "l=[4,5,6,8,9]\n",
    "kurt=kurtosis(l)\n",
    "print(\"Kurtosis:\",kurt)"
   ]
  },
  {
   "cell_type": "code",
   "execution_count": 1,
   "id": "b62bdd7e-7d4e-4dc8-bc8d-eb98074a34ea",
   "metadata": {},
   "outputs": [
    {
     "name": "stdout",
     "output_type": "stream",
     "text": [
      "Correlation: 0.09464487350821967\n"
     ]
    }
   ],
   "source": [
    "#correlation\n",
    "def correlation(X,Y):\n",
    "    n=len(X)\n",
    "    mean_X = sum(X)/n\n",
    "    mean_Y = sum(Y)/n\n",
    "    a=sum((X[i]-mean_X)*(Y[i]-mean_Y) for i in range(n)) / (n - 1)\n",
    "    b= (sum((x-mean_X)**2 for x in X)*(sum((y-mean_Y)**2 for y in Y))**0.5)\n",
    "    corr=a/b\n",
    "    return corr\n",
    "X = [4,5,6,7,5]\n",
    "Y = [11,12,14,17,15]\n",
    "corr=correlation(X,Y)\n",
    "print(\"Correlation:\",corr)"
   ]
  },
  {
   "cell_type": "code",
   "execution_count": 2,
   "id": "7ec96e74-e3f5-4791-8926-ffec5f90fb39",
   "metadata": {},
   "outputs": [
    {
     "name": "stdout",
     "output_type": "stream",
     "text": [
      "Covariance: 2.3499999999999996\n"
     ]
    }
   ],
   "source": [
    "def covariance(X,Y):\n",
    "    n = len(X)\n",
    "    mean_X = sum(X)/n\n",
    "    mean_Y = sum(Y)/n\n",
    "    \n",
    "    cov = sum((X[i] - mean_X) * (Y[i] - mean_Y) for i in range(n)) / (n - 1)\n",
    "    return cov\n",
    "\n",
    "# Example\n",
    "X = [4,5,6,7,5]\n",
    "Y = [11,12,14,17,15]\n",
    "cov=covariance(X,Y)\n",
    "print(\"Covariance:\", cov)\n"
   ]
  },
  {
   "cell_type": "code",
   "execution_count": null,
   "id": "46300813-a5e8-4f45-983d-74c547403fa9",
   "metadata": {},
   "outputs": [],
   "source": []
  }
 ],
 "metadata": {
  "kernelspec": {
   "display_name": "Python 3 (ipykernel)",
   "language": "python",
   "name": "python3"
  },
  "language_info": {
   "codemirror_mode": {
    "name": "ipython",
    "version": 3
   },
   "file_extension": ".py",
   "mimetype": "text/x-python",
   "name": "python",
   "nbconvert_exporter": "python",
   "pygments_lexer": "ipython3",
   "version": "3.11.7"
  },
  "widgets": {
   "application/vnd.jupyter.widget-state+json": {
    "state": {},
    "version_major": 2,
    "version_minor": 0
   }
  }
 },
 "nbformat": 4,
 "nbformat_minor": 5
}
