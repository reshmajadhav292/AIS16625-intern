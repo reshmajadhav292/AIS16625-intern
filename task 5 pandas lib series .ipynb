{
 "cells": [
  {
   "cell_type": "markdown",
   "id": "cc67bc93-af22-476e-a097-852666e43627",
   "metadata": {},
   "source": [
    "# Pandas Series\r\n",
    "What is a Series?\r\n",
    "A Pandas Series is like a column in a tabl.\r\n",
    "\r\n",
    "It is a one-dimensional array holding data of any type."
   ]
  },
  {
   "cell_type": "code",
   "execution_count": 1,
   "id": "f1f07c84-7b14-402b-8500-b7db1c3d4cc8",
   "metadata": {},
   "outputs": [
    {
     "name": "stdout",
     "output_type": "stream",
     "text": [
      "0    1\n",
      "1    7\n",
      "2    2\n",
      "dtype: int64\n"
     ]
    }
   ],
   "source": [
    "# Create a simple Pandas Series from a list:\n",
    "import pandas as pd\n",
    "a = [1, 7, 2]\n",
    "myvar = pd.Series(a)\n",
    "print(myvar)\n"
   ]
  },
  {
   "cell_type": "code",
   "execution_count": 5,
   "id": "8f668ae5-7058-499b-9bf4-c790abd9f11b",
   "metadata": {},
   "outputs": [
    {
     "name": "stdout",
     "output_type": "stream",
     "text": [
      "x    1\n",
      "y    7\n",
      "z    2\n",
      "dtype: int64\n"
     ]
    }
   ],
   "source": [
    "# Create Labels\n",
    "import pandas as pd\n",
    "\n",
    "a = [1, 7, 2]\n",
    "\n",
    "s = pd.Series(a, index = [\"x\", \"y\", \"z\"])\n",
    "\n",
    "print(s)"
   ]
  },
  {
   "cell_type": "code",
   "execution_count": 7,
   "id": "6b7e671a-7256-4845-aa6d-8da34ac60661",
   "metadata": {},
   "outputs": [
    {
     "name": "stdout",
     "output_type": "stream",
     "text": [
      "1\n",
      "y    7\n",
      "z    2\n",
      "dtype: int64\n",
      "Series([], dtype: int64)\n"
     ]
    },
    {
     "name": "stderr",
     "output_type": "stream",
     "text": [
      "C:\\Users\\DISHA_COMPUTER\\AppData\\Local\\Temp\\ipykernel_24004\\685270209.py:2: FutureWarning: Series.__getitem__ treating keys as positions is deprecated. In a future version, integer keys will always be treated as labels (consistent with DataFrame behavior). To access a value by position, use `ser.iloc[pos]`\n",
      "  print(s[0])\n"
     ]
    }
   ],
   "source": [
    "# Accessing by index\n",
    "print(s[0])\n",
    "\n",
    "\n",
    "# Accessing multiple elements\n",
    "print(s[1:3])\n",
    "\n",
    "# Accessing using boolean indexing\n",
    "print(s[s > 30])\n"
   ]
  },
  {
   "cell_type": "code",
   "execution_count": 13,
   "id": "63d3f6df-32ea-4a0a-8aa1-e93258cd7166",
   "metadata": {},
   "outputs": [
    {
     "data": {
      "text/plain": [
       "0    0.25\n",
       "1    0.40\n",
       "2    0.50\n",
       "dtype: float64"
      ]
     },
     "execution_count": 13,
     "metadata": {},
     "output_type": "execute_result"
    }
   ],
   "source": [
    "# basic operation \n",
    "# Addition\n",
    "s1 = pd.Series([1, 2, 3])\n",
    "s2 = pd.Series([4, 5, 6])\n",
    "s1\n",
    "s2\n",
    "s3 = s1 + s2\n",
    "s3\n",
    "# Subtraction\n",
    "s4 = s1 - s2\n",
    "s4\n",
    "# Multiplication\n",
    "s5 = s1 * s2\n",
    "s5\n",
    "# Division\n",
    "s6 = s1 / s2\n",
    "s6"
   ]
  },
  {
   "cell_type": "code",
   "execution_count": 14,
   "id": "fbf2d7c6-f947-47ee-8e9c-6dd18c45585f",
   "metadata": {},
   "outputs": [
    {
     "name": "stdout",
     "output_type": "stream",
     "text": [
      "10\n",
      "3.3333333333333335\n",
      "7\n",
      "1\n"
     ]
    }
   ],
   "source": [
    "# Aggregation Functions:\n",
    "# Sum\n",
    "print(s.sum())\n",
    "\n",
    "# Mean\n",
    "print(s.mean())\n",
    "\n",
    "# Maximum\n",
    "print(s.max())\n",
    "\n",
    "# Minimum\n",
    "print(s.min())\n"
   ]
  },
  {
   "cell_type": "code",
   "execution_count": 15,
   "id": "8ea0d4af-014d-474a-aef7-53253b932a8b",
   "metadata": {},
   "outputs": [
    {
     "name": "stdout",
     "output_type": "stream",
     "text": [
      "x    False\n",
      "y    False\n",
      "z    False\n",
      "dtype: bool\n"
     ]
    },
    {
     "data": {
      "text/plain": [
       "x    1\n",
       "y    7\n",
       "z    2\n",
       "dtype: int64"
      ]
     },
     "execution_count": 15,
     "metadata": {},
     "output_type": "execute_result"
    }
   ],
   "source": [
    "#Missing Data Handling:\n",
    "\n",
    "# Checking for missing values\n",
    "print(s.isnull())\n",
    "\n",
    "# Dropping missing values\n",
    "s.dropna()\n",
    "\n",
    "# Filling missing values\n",
    "s.fillna(0)"
   ]
  },
  {
   "cell_type": "code",
   "execution_count": null,
   "id": "696e8bfa-e414-4ee0-88a8-cc2513cef4d8",
   "metadata": {},
   "outputs": [],
   "source": []
  }
 ],
 "metadata": {
  "kernelspec": {
   "display_name": "Python 3 (ipykernel)",
   "language": "python",
   "name": "python3"
  },
  "language_info": {
   "codemirror_mode": {
    "name": "ipython",
    "version": 3
   },
   "file_extension": ".py",
   "mimetype": "text/x-python",
   "name": "python",
   "nbconvert_exporter": "python",
   "pygments_lexer": "ipython3",
   "version": "3.11.7"
  },
  "widgets": {
   "application/vnd.jupyter.widget-state+json": {
    "state": {},
    "version_major": 2,
    "version_minor": 0
   }
  }
 },
 "nbformat": 4,
 "nbformat_minor": 5
}
