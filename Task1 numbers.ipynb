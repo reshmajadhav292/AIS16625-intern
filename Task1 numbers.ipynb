{
 "cells": [
  {
   "cell_type": "markdown",
   "id": "f8f80ff1-6836-47f8-90b4-5ac5f4370dbd",
   "metadata": {},
   "source": [
    "Python Numbers :\n",
    "There are three numeric types in python \n",
    "1. int\n",
    "2. float\n",
    "3. complex"
   ]
  },
  {
   "cell_type": "code",
   "execution_count": null,
   "id": "a74f7ab3-55a0-4d81-ad67-64fd271445ea",
   "metadata": {},
   "outputs": [],
   "source": [
    " # type = to verify the type of any object "
   ]
  },
  {
   "cell_type": "markdown",
   "id": "8c0e7b18-08d4-4106-9b55-f3dab3f6f9db",
   "metadata": {
    "scrolled": true
   },
   "source": [
    "x = 547458  # int\n",
    "y = 96.8    # float\n",
    "z = 4+1j    # complex\n",
    "print(type(x))\n",
    "print(type(y))\n",
    "print(type(z))"
   ]
  },
  {
   "cell_type": "code",
   "execution_count": null,
   "id": "e047863a-da4c-4424-912d-45e6b216a06f",
   "metadata": {},
   "outputs": [],
   "source": [
    "# integer = int or integer is a whole number ( not a fractional number )that can be positive , negative "
   ]
  },
  {
   "cell_type": "code",
   "execution_count": 2,
   "id": "94be9fe0-2ebb-4d8a-9f64-c4b4a5e4b639",
   "metadata": {},
   "outputs": [
    {
     "name": "stdout",
     "output_type": "stream",
     "text": [
      "<class 'int'>\n",
      "<class 'int'>\n"
     ]
    }
   ],
   "source": [
    "#int\n",
    "r= 22222144643\n",
    "a=-7987\n",
    "print(type(r))\n",
    "print(type(a))"
   ]
  },
  {
   "cell_type": "code",
   "execution_count": null,
   "id": "38c58cbf-bc0f-467a-867e-3f705f3f7155",
   "metadata": {},
   "outputs": [],
   "source": [
    "# float = float or floating point number is a positive or negative whole number with a decimal point ."
   ]
  },
  {
   "cell_type": "code",
   "execution_count": 3,
   "id": "8aa31af0-0b11-4798-a318-5c4e27ee9849",
   "metadata": {},
   "outputs": [
    {
     "name": "stdout",
     "output_type": "stream",
     "text": [
      "<class 'float'>\n",
      "<class 'float'>\n"
     ]
    }
   ],
   "source": [
    "# float \n",
    "g=678.9079\n",
    "j=0.000867\n",
    "print(type(g))\n",
    "print(type(j))"
   ]
  },
  {
   "cell_type": "code",
   "execution_count": null,
   "id": "babf2369-f75d-4213-a40c-442d48523edf",
   "metadata": {},
   "outputs": [],
   "source": [
    "# complex = Complex numbers are written with a \"j\" as the imaginary part"
   ]
  },
  {
   "cell_type": "code",
   "execution_count": 4,
   "id": "5b298a9a-f553-4a8e-bc40-69f772a976e4",
   "metadata": {},
   "outputs": [
    {
     "name": "stdout",
     "output_type": "stream",
     "text": [
      "<class 'complex'>\n",
      "<class 'complex'>\n"
     ]
    }
   ],
   "source": [
    "#complex \n",
    "v= 2+67j\n",
    "n=1j\n",
    "print(type(v))\n",
    "print(type(n))"
   ]
  },
  {
   "cell_type": "code",
   "execution_count": null,
   "id": "f8109cb8-d09c-4193-b74a-e227d612a96e",
   "metadata": {},
   "outputs": [],
   "source": [
    "# type conversion : \n",
    "#You can convert from one type to another with the int(), float(), and complex() methods"
   ]
  },
  {
   "cell_type": "code",
   "execution_count": 5,
   "id": "1d7c262f-945d-4ba7-b451-18c93ae25a95",
   "metadata": {},
   "outputs": [
    {
     "name": "stdout",
     "output_type": "stream",
     "text": [
      "29597.0\n",
      "9\n",
      "(29597+0j)\n",
      "<class 'float'>\n",
      "<class 'int'>\n",
      "<class 'complex'>\n"
     ]
    }
   ],
   "source": [
    "\n",
    "x = 9.99999    # float\n",
    "y = 29597      # int \n",
    "z = 9088+1j    # complex\n",
    "\n",
    "#convert from in to float:\n",
    "a = float(y)\n",
    "\n",
    "#convert from float to int:\n",
    "b = int(x)\n",
    "\n",
    "#convert from int to complex:\n",
    "c = complex(y)\n",
    "\n",
    "print(a)\n",
    "print(b)\n",
    "print(c)\n",
    "\n",
    "print(type(a))\n",
    "print(type(b))\n",
    "print(type(c))\n"
   ]
  },
  {
   "cell_type": "code",
   "execution_count": null,
   "id": "8114f0a5-b053-48da-9107-fb836a5d7a40",
   "metadata": {},
   "outputs": [],
   "source": [
    "# random that can be used to make random numbers"
   ]
  },
  {
   "cell_type": "code",
   "execution_count": 6,
   "id": "0c69fa76-d19a-49fe-b365-3c9ae60db7d6",
   "metadata": {},
   "outputs": [
    {
     "name": "stdout",
     "output_type": "stream",
     "text": [
      "18\n"
     ]
    }
   ],
   "source": [
    "\n",
    "import random\n",
    "\n",
    "print(random.randrange(1, 23))\n"
   ]
  }
 ],
 "metadata": {
  "kernelspec": {
   "display_name": "Python 3 (ipykernel)",
   "language": "python",
   "name": "python3"
  },
  "language_info": {
   "codemirror_mode": {
    "name": "ipython",
    "version": 3
   },
   "file_extension": ".py",
   "mimetype": "text/x-python",
   "name": "python",
   "nbconvert_exporter": "python",
   "pygments_lexer": "ipython3",
   "version": "3.11.7"
  }
 },
 "nbformat": 4,
 "nbformat_minor": 5
}
